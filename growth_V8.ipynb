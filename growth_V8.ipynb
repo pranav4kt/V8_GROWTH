{
  "nbformat": 4,
  "nbformat_minor": 0,
  "metadata": {
    "colab": {
      "provenance": [],
      "gpuType": "A100",
      "authorship_tag": "ABX9TyMuT/vur7K9sDUgq/n0+yBe",
      "include_colab_link": true
    },
    "kernelspec": {
      "name": "python3",
      "display_name": "Python 3"
    },
    "language_info": {
      "name": "python"
    },
    "accelerator": "GPU"
  },
  "cells": [
    {
      "cell_type": "markdown",
      "metadata": {
        "id": "view-in-github",
        "colab_type": "text"
      },
      "source": [
        "<a href=\"https://colab.research.google.com/github/pranav4kt/V8_GROWTH/blob/main/growth_V8.ipynb\" target=\"_parent\"><img src=\"https://colab.research.google.com/assets/colab-badge.svg\" alt=\"Open In Colab\"/></a>"
      ]
    },
    {
      "cell_type": "code",
      "execution_count": 1,
      "metadata": {
        "colab": {
          "base_uri": "https://localhost:8080/"
        },
        "collapsed": true,
        "id": "zqznuvCPsb0X",
        "outputId": "8f842f45-c1ef-4025-8649-a8d97748636c"
      },
      "outputs": [
        {
          "output_type": "stream",
          "name": "stdout",
          "text": [
            "Collecting ultralytics\n",
            "  Downloading ultralytics-8.3.133-py3-none-any.whl.metadata (37 kB)\n",
            "Requirement already satisfied: numpy>=1.23.0 in /usr/local/lib/python3.11/dist-packages (from ultralytics) (2.0.2)\n",
            "Requirement already satisfied: matplotlib>=3.3.0 in /usr/local/lib/python3.11/dist-packages (from ultralytics) (3.10.0)\n",
            "Requirement already satisfied: opencv-python>=4.6.0 in /usr/local/lib/python3.11/dist-packages (from ultralytics) (4.11.0.86)\n",
            "Requirement already satisfied: pillow>=7.1.2 in /usr/local/lib/python3.11/dist-packages (from ultralytics) (11.2.1)\n",
            "Requirement already satisfied: pyyaml>=5.3.1 in /usr/local/lib/python3.11/dist-packages (from ultralytics) (6.0.2)\n",
            "Requirement already satisfied: requests>=2.23.0 in /usr/local/lib/python3.11/dist-packages (from ultralytics) (2.32.3)\n",
            "Requirement already satisfied: scipy>=1.4.1 in /usr/local/lib/python3.11/dist-packages (from ultralytics) (1.15.3)\n",
            "Requirement already satisfied: torch>=1.8.0 in /usr/local/lib/python3.11/dist-packages (from ultralytics) (2.6.0+cu124)\n",
            "Requirement already satisfied: torchvision>=0.9.0 in /usr/local/lib/python3.11/dist-packages (from ultralytics) (0.21.0+cu124)\n",
            "Requirement already satisfied: tqdm>=4.64.0 in /usr/local/lib/python3.11/dist-packages (from ultralytics) (4.67.1)\n",
            "Requirement already satisfied: psutil in /usr/local/lib/python3.11/dist-packages (from ultralytics) (5.9.5)\n",
            "Requirement already satisfied: py-cpuinfo in /usr/local/lib/python3.11/dist-packages (from ultralytics) (9.0.0)\n",
            "Requirement already satisfied: pandas>=1.1.4 in /usr/local/lib/python3.11/dist-packages (from ultralytics) (2.2.2)\n",
            "Requirement already satisfied: seaborn>=0.11.0 in /usr/local/lib/python3.11/dist-packages (from ultralytics) (0.13.2)\n",
            "Collecting ultralytics-thop>=2.0.0 (from ultralytics)\n",
            "  Downloading ultralytics_thop-2.0.14-py3-none-any.whl.metadata (9.4 kB)\n",
            "Requirement already satisfied: contourpy>=1.0.1 in /usr/local/lib/python3.11/dist-packages (from matplotlib>=3.3.0->ultralytics) (1.3.2)\n",
            "Requirement already satisfied: cycler>=0.10 in /usr/local/lib/python3.11/dist-packages (from matplotlib>=3.3.0->ultralytics) (0.12.1)\n",
            "Requirement already satisfied: fonttools>=4.22.0 in /usr/local/lib/python3.11/dist-packages (from matplotlib>=3.3.0->ultralytics) (4.57.0)\n",
            "Requirement already satisfied: kiwisolver>=1.3.1 in /usr/local/lib/python3.11/dist-packages (from matplotlib>=3.3.0->ultralytics) (1.4.8)\n",
            "Requirement already satisfied: packaging>=20.0 in /usr/local/lib/python3.11/dist-packages (from matplotlib>=3.3.0->ultralytics) (24.2)\n",
            "Requirement already satisfied: pyparsing>=2.3.1 in /usr/local/lib/python3.11/dist-packages (from matplotlib>=3.3.0->ultralytics) (3.2.3)\n",
            "Requirement already satisfied: python-dateutil>=2.7 in /usr/local/lib/python3.11/dist-packages (from matplotlib>=3.3.0->ultralytics) (2.9.0.post0)\n",
            "Requirement already satisfied: pytz>=2020.1 in /usr/local/lib/python3.11/dist-packages (from pandas>=1.1.4->ultralytics) (2025.2)\n",
            "Requirement already satisfied: tzdata>=2022.7 in /usr/local/lib/python3.11/dist-packages (from pandas>=1.1.4->ultralytics) (2025.2)\n",
            "Requirement already satisfied: charset-normalizer<4,>=2 in /usr/local/lib/python3.11/dist-packages (from requests>=2.23.0->ultralytics) (3.4.2)\n",
            "Requirement already satisfied: idna<4,>=2.5 in /usr/local/lib/python3.11/dist-packages (from requests>=2.23.0->ultralytics) (3.10)\n",
            "Requirement already satisfied: urllib3<3,>=1.21.1 in /usr/local/lib/python3.11/dist-packages (from requests>=2.23.0->ultralytics) (2.4.0)\n",
            "Requirement already satisfied: certifi>=2017.4.17 in /usr/local/lib/python3.11/dist-packages (from requests>=2.23.0->ultralytics) (2025.4.26)\n",
            "Requirement already satisfied: filelock in /usr/local/lib/python3.11/dist-packages (from torch>=1.8.0->ultralytics) (3.18.0)\n",
            "Requirement already satisfied: typing-extensions>=4.10.0 in /usr/local/lib/python3.11/dist-packages (from torch>=1.8.0->ultralytics) (4.13.2)\n",
            "Requirement already satisfied: networkx in /usr/local/lib/python3.11/dist-packages (from torch>=1.8.0->ultralytics) (3.4.2)\n",
            "Requirement already satisfied: jinja2 in /usr/local/lib/python3.11/dist-packages (from torch>=1.8.0->ultralytics) (3.1.6)\n",
            "Requirement already satisfied: fsspec in /usr/local/lib/python3.11/dist-packages (from torch>=1.8.0->ultralytics) (2025.3.2)\n",
            "Collecting nvidia-cuda-nvrtc-cu12==12.4.127 (from torch>=1.8.0->ultralytics)\n",
            "  Downloading nvidia_cuda_nvrtc_cu12-12.4.127-py3-none-manylinux2014_x86_64.whl.metadata (1.5 kB)\n",
            "Collecting nvidia-cuda-runtime-cu12==12.4.127 (from torch>=1.8.0->ultralytics)\n",
            "  Downloading nvidia_cuda_runtime_cu12-12.4.127-py3-none-manylinux2014_x86_64.whl.metadata (1.5 kB)\n",
            "Collecting nvidia-cuda-cupti-cu12==12.4.127 (from torch>=1.8.0->ultralytics)\n",
            "  Downloading nvidia_cuda_cupti_cu12-12.4.127-py3-none-manylinux2014_x86_64.whl.metadata (1.6 kB)\n",
            "Collecting nvidia-cudnn-cu12==9.1.0.70 (from torch>=1.8.0->ultralytics)\n",
            "  Downloading nvidia_cudnn_cu12-9.1.0.70-py3-none-manylinux2014_x86_64.whl.metadata (1.6 kB)\n",
            "Collecting nvidia-cublas-cu12==12.4.5.8 (from torch>=1.8.0->ultralytics)\n",
            "  Downloading nvidia_cublas_cu12-12.4.5.8-py3-none-manylinux2014_x86_64.whl.metadata (1.5 kB)\n",
            "Collecting nvidia-cufft-cu12==11.2.1.3 (from torch>=1.8.0->ultralytics)\n",
            "  Downloading nvidia_cufft_cu12-11.2.1.3-py3-none-manylinux2014_x86_64.whl.metadata (1.5 kB)\n",
            "Collecting nvidia-curand-cu12==10.3.5.147 (from torch>=1.8.0->ultralytics)\n",
            "  Downloading nvidia_curand_cu12-10.3.5.147-py3-none-manylinux2014_x86_64.whl.metadata (1.5 kB)\n",
            "Collecting nvidia-cusolver-cu12==11.6.1.9 (from torch>=1.8.0->ultralytics)\n",
            "  Downloading nvidia_cusolver_cu12-11.6.1.9-py3-none-manylinux2014_x86_64.whl.metadata (1.6 kB)\n",
            "Collecting nvidia-cusparse-cu12==12.3.1.170 (from torch>=1.8.0->ultralytics)\n",
            "  Downloading nvidia_cusparse_cu12-12.3.1.170-py3-none-manylinux2014_x86_64.whl.metadata (1.6 kB)\n",
            "Requirement already satisfied: nvidia-cusparselt-cu12==0.6.2 in /usr/local/lib/python3.11/dist-packages (from torch>=1.8.0->ultralytics) (0.6.2)\n",
            "Requirement already satisfied: nvidia-nccl-cu12==2.21.5 in /usr/local/lib/python3.11/dist-packages (from torch>=1.8.0->ultralytics) (2.21.5)\n",
            "Requirement already satisfied: nvidia-nvtx-cu12==12.4.127 in /usr/local/lib/python3.11/dist-packages (from torch>=1.8.0->ultralytics) (12.4.127)\n",
            "Collecting nvidia-nvjitlink-cu12==12.4.127 (from torch>=1.8.0->ultralytics)\n",
            "  Downloading nvidia_nvjitlink_cu12-12.4.127-py3-none-manylinux2014_x86_64.whl.metadata (1.5 kB)\n",
            "Requirement already satisfied: triton==3.2.0 in /usr/local/lib/python3.11/dist-packages (from torch>=1.8.0->ultralytics) (3.2.0)\n",
            "Requirement already satisfied: sympy==1.13.1 in /usr/local/lib/python3.11/dist-packages (from torch>=1.8.0->ultralytics) (1.13.1)\n",
            "Requirement already satisfied: mpmath<1.4,>=1.1.0 in /usr/local/lib/python3.11/dist-packages (from sympy==1.13.1->torch>=1.8.0->ultralytics) (1.3.0)\n",
            "Requirement already satisfied: six>=1.5 in /usr/local/lib/python3.11/dist-packages (from python-dateutil>=2.7->matplotlib>=3.3.0->ultralytics) (1.17.0)\n",
            "Requirement already satisfied: MarkupSafe>=2.0 in /usr/local/lib/python3.11/dist-packages (from jinja2->torch>=1.8.0->ultralytics) (3.0.2)\n",
            "Downloading ultralytics-8.3.133-py3-none-any.whl (1.0 MB)\n",
            "\u001b[2K   \u001b[90m━━━━━━━━━━━━━━━━━━━━━━━━━━━━━━━━━━━━━━━━\u001b[0m \u001b[32m1.0/1.0 MB\u001b[0m \u001b[31m18.8 MB/s\u001b[0m eta \u001b[36m0:00:00\u001b[0m\n",
            "\u001b[?25hDownloading nvidia_cublas_cu12-12.4.5.8-py3-none-manylinux2014_x86_64.whl (363.4 MB)\n",
            "\u001b[2K   \u001b[90m━━━━━━━━━━━━━━━━━━━━━━━━━━━━━━━━━━━━━━━━\u001b[0m \u001b[32m363.4/363.4 MB\u001b[0m \u001b[31m3.8 MB/s\u001b[0m eta \u001b[36m0:00:00\u001b[0m\n",
            "\u001b[?25hDownloading nvidia_cuda_cupti_cu12-12.4.127-py3-none-manylinux2014_x86_64.whl (13.8 MB)\n",
            "\u001b[2K   \u001b[90m━━━━━━━━━━━━━━━━━━━━━━━━━━━━━━━━━━━━━━━━\u001b[0m \u001b[32m13.8/13.8 MB\u001b[0m \u001b[31m124.2 MB/s\u001b[0m eta \u001b[36m0:00:00\u001b[0m\n",
            "\u001b[?25hDownloading nvidia_cuda_nvrtc_cu12-12.4.127-py3-none-manylinux2014_x86_64.whl (24.6 MB)\n",
            "\u001b[2K   \u001b[90m━━━━━━━━━━━━━━━━━━━━━━━━━━━━━━━━━━━━━━━━\u001b[0m \u001b[32m24.6/24.6 MB\u001b[0m \u001b[31m94.7 MB/s\u001b[0m eta \u001b[36m0:00:00\u001b[0m\n",
            "\u001b[?25hDownloading nvidia_cuda_runtime_cu12-12.4.127-py3-none-manylinux2014_x86_64.whl (883 kB)\n",
            "\u001b[2K   \u001b[90m━━━━━━━━━━━━━━━━━━━━━━━━━━━━━━━━━━━━━━━━\u001b[0m \u001b[32m883.7/883.7 kB\u001b[0m \u001b[31m55.4 MB/s\u001b[0m eta \u001b[36m0:00:00\u001b[0m\n",
            "\u001b[?25hDownloading nvidia_cudnn_cu12-9.1.0.70-py3-none-manylinux2014_x86_64.whl (664.8 MB)\n",
            "\u001b[2K   \u001b[90m━━━━━━━━━━━━━━━━━━━━━━━━━━━━━━━━━━━━━━━━\u001b[0m \u001b[32m664.8/664.8 MB\u001b[0m \u001b[31m1.3 MB/s\u001b[0m eta \u001b[36m0:00:00\u001b[0m\n",
            "\u001b[?25hDownloading nvidia_cufft_cu12-11.2.1.3-py3-none-manylinux2014_x86_64.whl (211.5 MB)\n",
            "\u001b[2K   \u001b[90m━━━━━━━━━━━━━━━━━━━━━━━━━━━━━━━━━━━━━━━━\u001b[0m \u001b[32m211.5/211.5 MB\u001b[0m \u001b[31m10.0 MB/s\u001b[0m eta \u001b[36m0:00:00\u001b[0m\n",
            "\u001b[?25hDownloading nvidia_curand_cu12-10.3.5.147-py3-none-manylinux2014_x86_64.whl (56.3 MB)\n",
            "\u001b[2K   \u001b[90m━━━━━━━━━━━━━━━━━━━━━━━━━━━━━━━━━━━━━━━━\u001b[0m \u001b[32m56.3/56.3 MB\u001b[0m \u001b[31m37.8 MB/s\u001b[0m eta \u001b[36m0:00:00\u001b[0m\n",
            "\u001b[?25hDownloading nvidia_cusolver_cu12-11.6.1.9-py3-none-manylinux2014_x86_64.whl (127.9 MB)\n",
            "\u001b[2K   \u001b[90m━━━━━━━━━━━━━━━━━━━━━━━━━━━━━━━━━━━━━━━━\u001b[0m \u001b[32m127.9/127.9 MB\u001b[0m \u001b[31m6.2 MB/s\u001b[0m eta \u001b[36m0:00:00\u001b[0m\n",
            "\u001b[?25hDownloading nvidia_cusparse_cu12-12.3.1.170-py3-none-manylinux2014_x86_64.whl (207.5 MB)\n",
            "\u001b[2K   \u001b[90m━━━━━━━━━━━━━━━━━━━━━━━━━━━━━━━━━━━━━━━━\u001b[0m \u001b[32m207.5/207.5 MB\u001b[0m \u001b[31m10.5 MB/s\u001b[0m eta \u001b[36m0:00:00\u001b[0m\n",
            "\u001b[?25hDownloading nvidia_nvjitlink_cu12-12.4.127-py3-none-manylinux2014_x86_64.whl (21.1 MB)\n",
            "\u001b[2K   \u001b[90m━━━━━━━━━━━━━━━━━━━━━━━━━━━━━━━━━━━━━━━━\u001b[0m \u001b[32m21.1/21.1 MB\u001b[0m \u001b[31m108.8 MB/s\u001b[0m eta \u001b[36m0:00:00\u001b[0m\n",
            "\u001b[?25hDownloading ultralytics_thop-2.0.14-py3-none-any.whl (26 kB)\n",
            "Installing collected packages: nvidia-nvjitlink-cu12, nvidia-curand-cu12, nvidia-cufft-cu12, nvidia-cuda-runtime-cu12, nvidia-cuda-nvrtc-cu12, nvidia-cuda-cupti-cu12, nvidia-cublas-cu12, nvidia-cusparse-cu12, nvidia-cudnn-cu12, nvidia-cusolver-cu12, ultralytics-thop, ultralytics\n",
            "  Attempting uninstall: nvidia-nvjitlink-cu12\n",
            "    Found existing installation: nvidia-nvjitlink-cu12 12.5.82\n",
            "    Uninstalling nvidia-nvjitlink-cu12-12.5.82:\n",
            "      Successfully uninstalled nvidia-nvjitlink-cu12-12.5.82\n",
            "  Attempting uninstall: nvidia-curand-cu12\n",
            "    Found existing installation: nvidia-curand-cu12 10.3.6.82\n",
            "    Uninstalling nvidia-curand-cu12-10.3.6.82:\n",
            "      Successfully uninstalled nvidia-curand-cu12-10.3.6.82\n",
            "  Attempting uninstall: nvidia-cufft-cu12\n",
            "    Found existing installation: nvidia-cufft-cu12 11.2.3.61\n",
            "    Uninstalling nvidia-cufft-cu12-11.2.3.61:\n",
            "      Successfully uninstalled nvidia-cufft-cu12-11.2.3.61\n",
            "  Attempting uninstall: nvidia-cuda-runtime-cu12\n",
            "    Found existing installation: nvidia-cuda-runtime-cu12 12.5.82\n",
            "    Uninstalling nvidia-cuda-runtime-cu12-12.5.82:\n",
            "      Successfully uninstalled nvidia-cuda-runtime-cu12-12.5.82\n",
            "  Attempting uninstall: nvidia-cuda-nvrtc-cu12\n",
            "    Found existing installation: nvidia-cuda-nvrtc-cu12 12.5.82\n",
            "    Uninstalling nvidia-cuda-nvrtc-cu12-12.5.82:\n",
            "      Successfully uninstalled nvidia-cuda-nvrtc-cu12-12.5.82\n",
            "  Attempting uninstall: nvidia-cuda-cupti-cu12\n",
            "    Found existing installation: nvidia-cuda-cupti-cu12 12.5.82\n",
            "    Uninstalling nvidia-cuda-cupti-cu12-12.5.82:\n",
            "      Successfully uninstalled nvidia-cuda-cupti-cu12-12.5.82\n",
            "  Attempting uninstall: nvidia-cublas-cu12\n",
            "    Found existing installation: nvidia-cublas-cu12 12.5.3.2\n",
            "    Uninstalling nvidia-cublas-cu12-12.5.3.2:\n",
            "      Successfully uninstalled nvidia-cublas-cu12-12.5.3.2\n",
            "  Attempting uninstall: nvidia-cusparse-cu12\n",
            "    Found existing installation: nvidia-cusparse-cu12 12.5.1.3\n",
            "    Uninstalling nvidia-cusparse-cu12-12.5.1.3:\n",
            "      Successfully uninstalled nvidia-cusparse-cu12-12.5.1.3\n",
            "  Attempting uninstall: nvidia-cudnn-cu12\n",
            "    Found existing installation: nvidia-cudnn-cu12 9.3.0.75\n",
            "    Uninstalling nvidia-cudnn-cu12-9.3.0.75:\n",
            "      Successfully uninstalled nvidia-cudnn-cu12-9.3.0.75\n",
            "  Attempting uninstall: nvidia-cusolver-cu12\n",
            "    Found existing installation: nvidia-cusolver-cu12 11.6.3.83\n",
            "    Uninstalling nvidia-cusolver-cu12-11.6.3.83:\n",
            "      Successfully uninstalled nvidia-cusolver-cu12-11.6.3.83\n",
            "Successfully installed nvidia-cublas-cu12-12.4.5.8 nvidia-cuda-cupti-cu12-12.4.127 nvidia-cuda-nvrtc-cu12-12.4.127 nvidia-cuda-runtime-cu12-12.4.127 nvidia-cudnn-cu12-9.1.0.70 nvidia-cufft-cu12-11.2.1.3 nvidia-curand-cu12-10.3.5.147 nvidia-cusolver-cu12-11.6.1.9 nvidia-cusparse-cu12-12.3.1.170 nvidia-nvjitlink-cu12-12.4.127 ultralytics-8.3.133 ultralytics-thop-2.0.14\n"
          ]
        }
      ],
      "source": [
        "!pip install ultralytics\n"
      ]
    },
    {
      "cell_type": "code",
      "source": [
        "!curl -L \"https://universe.roboflow.com/ds/DIPZrLs7lO?key=dKqhpy9Es9\" > roboflow.zip\n",
        "!unzip roboflow.zip\n",
        "!rm roboflow.zip"
      ],
      "metadata": {
        "colab": {
          "base_uri": "https://localhost:8080/"
        },
        "collapsed": true,
        "id": "u-2N8Cxv4RAb",
        "outputId": "2c15ca9e-5ac3-49a5-bde5-18cd1e95754d"
      },
      "execution_count": 2,
      "outputs": [
        {
          "output_type": "stream",
          "name": "stdout",
          "text": [
            "  % Total    % Received % Xferd  Average Speed   Time    Time     Time  Current\n",
            "                                 Dload  Upload   Total   Spent    Left  Speed\n",
            "100   910  100   910    0     0   2889      0 --:--:-- --:--:-- --:--:--  2898\n",
            "100 25.6M  100 25.6M    0     0  33.0M      0 --:--:-- --:--:-- --:--:-- 33.0M\n",
            "Archive:  roboflow.zip\n",
            " extracting: README.dataset.txt      \n",
            " extracting: README.roboflow.txt     \n",
            " extracting: data.yaml               \n",
            "   creating: test/\n",
            "   creating: test/images/\n",
            " extracting: test/images/image00008_jpg.rf.eba9398d43f77d5fb474549d75200505.jpg  \n",
            " extracting: test/images/image00010_jpg.rf.0192b4663e3fb84fea5450bbd66af2cf.jpg  \n",
            " extracting: test/images/image00027_jpg.rf.9060984d3a1decf307a6357a75e9241b.jpg  \n",
            " extracting: test/images/image00067_jpg.rf.a4515478e1c4b0bde7ae1ee50c5dd3a6.jpg  \n",
            " extracting: test/images/image00075_jpg.rf.5ef12dcde79b06897a033a88e2d178fd.jpg  \n",
            " extracting: test/images/image00085_jpg.rf.df0c6bce9c26a7a8f175bef0e02f6614.jpg  \n",
            " extracting: test/images/image00088_jpg.rf.ba03b37a1ee123707ca2f1d15b7d8ea4.jpg  \n",
            " extracting: test/images/image00093_jpg.rf.6cc70f39ddf23c489c761e7cbaa893df.jpg  \n",
            " extracting: test/images/image00109_jpg.rf.6f33bb2b4a17fa7d91d2cf083affa658.jpg  \n",
            " extracting: test/images/image00122_jpg.rf.d37bdfdc8d7b5dfc0e0e88c06a9a1af5.jpg  \n",
            " extracting: test/images/image00123_jpg.rf.6b6508fe7c499ff98116a57299c045dc.jpg  \n",
            " extracting: test/images/image00138_jpg.rf.c4106321c4e10070f559acfd7ff8153d.jpg  \n",
            " extracting: test/images/image00159_jpg.rf.3ed867ec3bef80a27539a8791d71bde9.jpg  \n",
            " extracting: test/images/image00171_jpg.rf.cbce803dcc325314f24cbb4138f4cd4a.jpg  \n",
            " extracting: test/images/image00203_jpg.rf.6321199f2dd54b43e2f2258d555aba3e.jpg  \n",
            " extracting: test/images/image00227_jpg.rf.a4ed05787a890b913a503ae5716d6bf4.jpg  \n",
            " extracting: test/images/image00243_jpg.rf.1e421fbd4c7870c1e9dbb6c74d925a79.jpg  \n",
            " extracting: test/images/image00247_jpg.rf.6a7e66b26ab9b32f7f166c9cd7177e12.jpg  \n",
            " extracting: test/images/image00251_jpg.rf.85993b733ec18a0a934f6ae32f1ffae1.jpg  \n",
            " extracting: test/images/image00264_jpg.rf.93c67ab2e7c488242f286384491996db.jpg  \n",
            " extracting: test/images/image00269_jpg.rf.d1719a376cf075fbe80ddd98ec0bba8b.jpg  \n",
            " extracting: test/images/image00271_jpg.rf.f3933e3b33b63238198ea0472b56794a.jpg  \n",
            " extracting: test/images/image00294_jpg.rf.9dfe5dde39c63f174eef4eed10f8eded.jpg  \n",
            " extracting: test/images/image00303_jpg.rf.0cc32037021500ca9a394951b9d9e1e1.jpg  \n",
            " extracting: test/images/image00305_jpg.rf.49d35575e47cc553cdb7c6c9e1aa7abd.jpg  \n",
            " extracting: test/images/image00312_jpg.rf.92830695ac8b35250ed2d32cfb7a75f4.jpg  \n",
            " extracting: test/images/image00319_jpg.rf.7930a41600743a30124dffda1cd0b940.jpg  \n",
            "   creating: test/labels/\n",
            " extracting: test/labels/image00008_jpg.rf.eba9398d43f77d5fb474549d75200505.txt  \n",
            " extracting: test/labels/image00010_jpg.rf.0192b4663e3fb84fea5450bbd66af2cf.txt  \n",
            " extracting: test/labels/image00027_jpg.rf.9060984d3a1decf307a6357a75e9241b.txt  \n",
            " extracting: test/labels/image00067_jpg.rf.a4515478e1c4b0bde7ae1ee50c5dd3a6.txt  \n",
            " extracting: test/labels/image00075_jpg.rf.5ef12dcde79b06897a033a88e2d178fd.txt  \n",
            " extracting: test/labels/image00085_jpg.rf.df0c6bce9c26a7a8f175bef0e02f6614.txt  \n",
            " extracting: test/labels/image00088_jpg.rf.ba03b37a1ee123707ca2f1d15b7d8ea4.txt  \n",
            " extracting: test/labels/image00093_jpg.rf.6cc70f39ddf23c489c761e7cbaa893df.txt  \n",
            " extracting: test/labels/image00109_jpg.rf.6f33bb2b4a17fa7d91d2cf083affa658.txt  \n",
            " extracting: test/labels/image00122_jpg.rf.d37bdfdc8d7b5dfc0e0e88c06a9a1af5.txt  \n",
            " extracting: test/labels/image00123_jpg.rf.6b6508fe7c499ff98116a57299c045dc.txt  \n",
            " extracting: test/labels/image00138_jpg.rf.c4106321c4e10070f559acfd7ff8153d.txt  \n",
            " extracting: test/labels/image00159_jpg.rf.3ed867ec3bef80a27539a8791d71bde9.txt  \n",
            " extracting: test/labels/image00171_jpg.rf.cbce803dcc325314f24cbb4138f4cd4a.txt  \n",
            " extracting: test/labels/image00203_jpg.rf.6321199f2dd54b43e2f2258d555aba3e.txt  \n",
            " extracting: test/labels/image00227_jpg.rf.a4ed05787a890b913a503ae5716d6bf4.txt  \n",
            " extracting: test/labels/image00243_jpg.rf.1e421fbd4c7870c1e9dbb6c74d925a79.txt  \n",
            " extracting: test/labels/image00247_jpg.rf.6a7e66b26ab9b32f7f166c9cd7177e12.txt  \n",
            " extracting: test/labels/image00251_jpg.rf.85993b733ec18a0a934f6ae32f1ffae1.txt  \n",
            " extracting: test/labels/image00264_jpg.rf.93c67ab2e7c488242f286384491996db.txt  \n",
            " extracting: test/labels/image00269_jpg.rf.d1719a376cf075fbe80ddd98ec0bba8b.txt  \n",
            " extracting: test/labels/image00271_jpg.rf.f3933e3b33b63238198ea0472b56794a.txt  \n",
            " extracting: test/labels/image00294_jpg.rf.9dfe5dde39c63f174eef4eed10f8eded.txt  \n",
            " extracting: test/labels/image00303_jpg.rf.0cc32037021500ca9a394951b9d9e1e1.txt  \n",
            " extracting: test/labels/image00305_jpg.rf.49d35575e47cc553cdb7c6c9e1aa7abd.txt  \n",
            " extracting: test/labels/image00312_jpg.rf.92830695ac8b35250ed2d32cfb7a75f4.txt  \n",
            " extracting: test/labels/image00319_jpg.rf.7930a41600743a30124dffda1cd0b940.txt  \n",
            "   creating: train/\n",
            "   creating: train/images/\n",
            " extracting: train/images/image00001_jpg.rf.7a1f36bb3ab63b9c53ad9fd790574abb.jpg  \n",
            " extracting: train/images/image00001_jpg.rf.c28522502b2f78e69354c8c3433536b5.jpg  \n",
            " extracting: train/images/image00001_jpg.rf.c5be26e27a2b5db4affbb926350991ba.jpg  \n",
            " extracting: train/images/image00002_jpg.rf.a3529134232afbcc438893551190c6ca.jpg  \n",
            " extracting: train/images/image00002_jpg.rf.dbe17bbe459f9e93cad00a317654fb3a.jpg  \n",
            " extracting: train/images/image00002_jpg.rf.fcfff35fc69b72c44a1163988ac022ac.jpg  \n",
            " extracting: train/images/image00003_jpg.rf.042b5758f8ec2fdda5baa9e2f6479a52.jpg  \n",
            " extracting: train/images/image00003_jpg.rf.1aa8840233d02476c65a460df205eb48.jpg  \n",
            " extracting: train/images/image00003_jpg.rf.8da66974c9d5c7e7e0c9eaa8aa47a2d2.jpg  \n",
            " extracting: train/images/image00004_jpg.rf.0d2d0bfd345a64f02c1af11908395a3c.jpg  \n",
            " extracting: train/images/image00004_jpg.rf.4f98a5dbbe3928c5d700aedf1444e8d6.jpg  \n",
            " extracting: train/images/image00004_jpg.rf.f05099e9aa3fbc97409aa33662a953b0.jpg  \n",
            " extracting: train/images/image00005_jpg.rf.0ea1041aeea48781addb9a95251bcdb6.jpg  \n",
            " extracting: train/images/image00005_jpg.rf.0f1fcdb38198a2d587284a10a616d43d.jpg  \n",
            " extracting: train/images/image00005_jpg.rf.9186922025e4baa83d51a7340b8fb60c.jpg  \n",
            " extracting: train/images/image00006_jpg.rf.76dad5c69b6f9af75d11240ba266c697.jpg  \n",
            " extracting: train/images/image00006_jpg.rf.8b4b29d336a7a62f81dd07483b149946.jpg  \n",
            " extracting: train/images/image00006_jpg.rf.eddbbfe50304ff2e9dbf9346298c80e7.jpg  \n",
            " extracting: train/images/image00007_jpg.rf.99420cc0894c8c3b3c29f8dbdb7d5723.jpg  \n",
            " extracting: train/images/image00007_jpg.rf.a08acb9bafb96c804c6c2a0d149ba554.jpg  \n",
            " extracting: train/images/image00007_jpg.rf.f9127bf660b0ee12a3f428c77d42764d.jpg  \n",
            " extracting: train/images/image00011_jpg.rf.9d0821c00ad0e2583ed4ab6f55869c58.jpg  \n",
            " extracting: train/images/image00011_jpg.rf.d0a6b7118df689035431bdf883365d84.jpg  \n",
            " extracting: train/images/image00011_jpg.rf.fcfac5d185befb4b8a1afffffa01f194.jpg  \n",
            " extracting: train/images/image00012_jpg.rf.db6a2d5154395b9da5936bbd37e440a7.jpg  \n",
            " extracting: train/images/image00012_jpg.rf.df0e14a32b2073860aa96d179d624ab9.jpg  \n",
            " extracting: train/images/image00012_jpg.rf.e89755734783203beb777f691914cec6.jpg  \n",
            " extracting: train/images/image00014_jpg.rf.0eb3cc78742981ddcce21a953469c80b.jpg  \n",
            " extracting: train/images/image00014_jpg.rf.7abf8278677e15743b27d6e5217511e7.jpg  \n",
            " extracting: train/images/image00014_jpg.rf.b0d342e76ed379c4b9557cca27d3bc3a.jpg  \n",
            " extracting: train/images/image00015_jpg.rf.103b12e8fcb1ed2350a493bcd629d04f.jpg  \n",
            " extracting: train/images/image00015_jpg.rf.aa337ae11715e54490a3bd069ab6c574.jpg  \n",
            " extracting: train/images/image00015_jpg.rf.be11c2bf2952d9b1982bc21f5abb7ef0.jpg  \n",
            " extracting: train/images/image00020_jpg.rf.1a80bbd6c32bb2fb99dff014491554f0.jpg  \n",
            " extracting: train/images/image00020_jpg.rf.517a4d1023756952df531a77f492968d.jpg  \n",
            " extracting: train/images/image00020_jpg.rf.fe003b44f1c1132e39dc298c310b6a12.jpg  \n",
            " extracting: train/images/image00021_jpg.rf.001dc824808f6b3d6fc2b2594859f300.jpg  \n",
            " extracting: train/images/image00021_jpg.rf.0835001170fe72d4a7aa75c418fe39f9.jpg  \n",
            " extracting: train/images/image00021_jpg.rf.9760ae7f7a3d147cc4e191e71a4ed8fc.jpg  \n",
            " extracting: train/images/image00022_jpg.rf.5cb1326233466ee5da6a78048c4c06a6.jpg  \n",
            " extracting: train/images/image00022_jpg.rf.7d1eb5e135068d91c4322733cf71fe13.jpg  \n",
            " extracting: train/images/image00022_jpg.rf.86846816c0ee74c1b510d8a44edb2d24.jpg  \n",
            " extracting: train/images/image00028_jpg.rf.429d110cbf8caa734fe6863e288c053c.jpg  \n",
            " extracting: train/images/image00028_jpg.rf.923018f34af51b6efc0f568b91bcc582.jpg  \n",
            " extracting: train/images/image00028_jpg.rf.aad2b823091dabcce62767f0c8859fb1.jpg  \n",
            " extracting: train/images/image00029_jpg.rf.2d5bedd6a1a281fffa80f2e3dbc17da2.jpg  \n",
            " extracting: train/images/image00029_jpg.rf.4d9a5b4cbe44ca72d8dd83c5b0350439.jpg  \n",
            " extracting: train/images/image00029_jpg.rf.6afebc7c97db2a2badaab17890c3b786.jpg  \n",
            " extracting: train/images/image00030_jpg.rf.34a32fa30f773a6a739e366b5d0e01f4.jpg  \n",
            " extracting: train/images/image00030_jpg.rf.d9a6c54debb0c63649f6a6bd1de6c15d.jpg  \n",
            " extracting: train/images/image00030_jpg.rf.db8329b712154ad672e7d6c7c7d7f7b4.jpg  \n",
            " extracting: train/images/image00031_jpg.rf.608d154c6ac707693d27339e4025b70b.jpg  \n",
            " extracting: train/images/image00031_jpg.rf.6b59e9229e9e7eac735974718ac59109.jpg  \n",
            " extracting: train/images/image00031_jpg.rf.ae0162dc73238d0a40c695426f4aee20.jpg  \n",
            " extracting: train/images/image00032_jpg.rf.15de5b9893390160a9ecf96549b3d1ae.jpg  \n",
            " extracting: train/images/image00032_jpg.rf.2ba99a767b8dfef712db69abc7a5ad81.jpg  \n",
            " extracting: train/images/image00032_jpg.rf.6e6841b7fb539de764ff966451c81a09.jpg  \n",
            " extracting: train/images/image00034_jpg.rf.09434d76994fef58b3e321184d2339e9.jpg  \n",
            " extracting: train/images/image00034_jpg.rf.148f561f3550511339de3068d4394db8.jpg  \n",
            " extracting: train/images/image00034_jpg.rf.e96d569279019cfa5e04bfab4795e62e.jpg  \n",
            " extracting: train/images/image00042_jpg.rf.3cf7e86e34c40ab11238c7a87327ca2b.jpg  \n",
            " extracting: train/images/image00042_jpg.rf.71fe47df375a040a365823521bea8af8.jpg  \n",
            " extracting: train/images/image00042_jpg.rf.848700d299e28b67a93c64275101b9e7.jpg  \n",
            " extracting: train/images/image00043_jpg.rf.6ac40faa4804c8acd102abe04957a2ec.jpg  \n",
            " extracting: train/images/image00043_jpg.rf.72398b5c9becd52fb15cf1b504d7dc08.jpg  \n",
            " extracting: train/images/image00043_jpg.rf.c64879578dcd78cd186b91aeaa960f63.jpg  \n",
            " extracting: train/images/image00044_jpg.rf.310ab7265b9f4345c4a467ae250a5854.jpg  \n",
            " extracting: train/images/image00044_jpg.rf.b2e7e87e35365953d3ced55ee14f1454.jpg  \n",
            " extracting: train/images/image00044_jpg.rf.fffa73ed8c696dc2275f896d2f1b3b89.jpg  \n",
            " extracting: train/images/image00045_jpg.rf.761164e619abae97db9c52d807a90346.jpg  \n",
            " extracting: train/images/image00045_jpg.rf.e1a877ebe6a087547e7313f668c8c41a.jpg  \n",
            " extracting: train/images/image00045_jpg.rf.ea33bac65d53bcfc8667c5d09aab7bb4.jpg  \n",
            " extracting: train/images/image00046_jpg.rf.488f536252ff40397ebdf8dcedbfea16.jpg  \n",
            " extracting: train/images/image00046_jpg.rf.b7630ba67d005540d6c5d421d1c60c9f.jpg  \n",
            " extracting: train/images/image00046_jpg.rf.ed4223406951461fa6248ab6c98286eb.jpg  \n",
            " extracting: train/images/image00047_jpg.rf.223a69371753989538648acacaee95e9.jpg  \n",
            " extracting: train/images/image00047_jpg.rf.9872dd49d6573867f94a6d5e08091b9c.jpg  \n",
            " extracting: train/images/image00047_jpg.rf.f0692235c036309b722507ac485b14b3.jpg  \n",
            " extracting: train/images/image00048_jpg.rf.12e6062f02caf095cb7362073cee3d6f.jpg  \n",
            " extracting: train/images/image00048_jpg.rf.4e817edc0de55d271eb0330e796ff84c.jpg  \n",
            " extracting: train/images/image00048_jpg.rf.c543a77ae17157dd9c14a9494ace947a.jpg  \n",
            " extracting: train/images/image00049_jpg.rf.05294c4cb45b74c753ad075b9424dbf4.jpg  \n",
            " extracting: train/images/image00049_jpg.rf.9c403aa7a30b4886e84f50a65deb114b.jpg  \n",
            " extracting: train/images/image00049_jpg.rf.caeaa91c38865e3eb54e7c8efe2d93cb.jpg  \n",
            " extracting: train/images/image00050_jpg.rf.61bb5a7be2f3a9fc8d43f2d9ef8c1e9d.jpg  \n",
            " extracting: train/images/image00050_jpg.rf.66f2a5fe2fbb5213f008573f59704ae4.jpg  \n",
            " extracting: train/images/image00050_jpg.rf.90ce0ce6b1c1f18afe85cd2fffdade80.jpg  \n",
            " extracting: train/images/image00052_jpg.rf.604ab91b7d64a1ed227447074720afb5.jpg  \n",
            " extracting: train/images/image00052_jpg.rf.dcb5edf8059d51e3d19832db9aa82225.jpg  \n",
            " extracting: train/images/image00052_jpg.rf.e34024f1d5146442a0917c48d3711f4c.jpg  \n",
            " extracting: train/images/image00053_jpg.rf.cb87e340b0657d77ae6115cad1919611.jpg  \n",
            " extracting: train/images/image00053_jpg.rf.f49c82a71af8cda4769dab54bcce29bd.jpg  \n",
            " extracting: train/images/image00054_jpg.rf.8f5860d63e7e37fc70bc0b4938fde935.jpg  \n",
            " extracting: train/images/image00054_jpg.rf.9753967fc0b423e4a118d7032ba9d2d2.jpg  \n",
            " extracting: train/images/image00054_jpg.rf.e33f537ffe5e3942b8a44ecaab469202.jpg  \n",
            " extracting: train/images/image00055_jpg.rf.230a08c3b25f12bb1b467620385077c6.jpg  \n",
            " extracting: train/images/image00055_jpg.rf.59b19c9bccd8a16ddf404ff22b932007.jpg  \n",
            " extracting: train/images/image00055_jpg.rf.bff9f9ae89df26caeb742eb7bbbe1d76.jpg  \n",
            " extracting: train/images/image00056_jpg.rf.26a7aa3a12b14d708ba606fce2d28986.jpg  \n",
            " extracting: train/images/image00056_jpg.rf.a2d48cfa924ebe381edf59f77bac2702.jpg  \n",
            " extracting: train/images/image00056_jpg.rf.d9830603a1a8f822ce029ecbb4d35966.jpg  \n",
            " extracting: train/images/image00057_jpg.rf.43d4a48c6260e8afdb0e100224792f15.jpg  \n",
            " extracting: train/images/image00057_jpg.rf.61beb3af929ae589d419a049e7395e4a.jpg  \n",
            " extracting: train/images/image00057_jpg.rf.f6b9779e28ec066f8adc9123acf2bd3f.jpg  \n",
            " extracting: train/images/image00058_jpg.rf.6fca7240e7e18bdccbd6d5399c561e77.jpg  \n",
            " extracting: train/images/image00058_jpg.rf.80b6610ec75691114e855ab830aff68a.jpg  \n",
            " extracting: train/images/image00058_jpg.rf.fb2bb5edafeb217c84957aa5c32b121f.jpg  \n",
            " extracting: train/images/image00060_jpg.rf.6cbf2004d28b8cf33f2fafa3d440cb22.jpg  \n",
            " extracting: train/images/image00060_jpg.rf.a66c8718e1ed319e3056bc350d2f4b1f.jpg  \n",
            " extracting: train/images/image00060_jpg.rf.c2b1eea61f16c983f4a29297bb995ac5.jpg  \n",
            " extracting: train/images/image00062_jpg.rf.3e76d71a1cac150ef2c7976604511d35.jpg  \n",
            " extracting: train/images/image00062_jpg.rf.ab26a7bd6ce467c154bcb5f06c523809.jpg  \n",
            " extracting: train/images/image00062_jpg.rf.bed2f936eefad0dda2f0705e81c6270c.jpg  \n",
            " extracting: train/images/image00063_jpg.rf.a2e37641844340d6d7cff642172e4c90.jpg  \n",
            " extracting: train/images/image00063_jpg.rf.d02b0c12679a7f7b4e0c0cccdc61fa19.jpg  \n",
            " extracting: train/images/image00063_jpg.rf.d043f4e21a21d0177c0256cd14016302.jpg  \n",
            " extracting: train/images/image00064_jpg.rf.37e9439cedefcdb55c475eb772a7cbc7.jpg  \n",
            " extracting: train/images/image00064_jpg.rf.3a721a20cc9c1a3c1d3012d201d25273.jpg  \n",
            " extracting: train/images/image00064_jpg.rf.faeecf80ed5c05da407271bfb13b8596.jpg  \n",
            " extracting: train/images/image00066_jpg.rf.718367a673abbfdacbc79fc290639f11.jpg  \n",
            " extracting: train/images/image00066_jpg.rf.8dc21eba561847ed2bbd81c524f643f9.jpg  \n",
            " extracting: train/images/image00066_jpg.rf.ae6d13712a605cb480d28a7a35958dc8.jpg  \n",
            " extracting: train/images/image00068_jpg.rf.3cc50c5e4344286893f8bbcabf215813.jpg  \n",
            " extracting: train/images/image00068_jpg.rf.a6aca8eb95826e0a182562953587d634.jpg  \n",
            " extracting: train/images/image00068_jpg.rf.d20b590dc5953ca2a4f07ef6c5342d87.jpg  \n",
            " extracting: train/images/image00069_jpg.rf.14918357eddbc051a7164b1e076853c7.jpg  \n",
            " extracting: train/images/image00069_jpg.rf.dd118fd4286596f032aa40864bfa6493.jpg  \n",
            " extracting: train/images/image00069_jpg.rf.e494f226de7c8b032a1d7e5429328de0.jpg  \n",
            " extracting: train/images/image00070_jpg.rf.268cbc051b419e66c77a274f609bd2d2.jpg  \n",
            " extracting: train/images/image00070_jpg.rf.c9bb65f79914567c47597a47f5db757d.jpg  \n",
            " extracting: train/images/image00070_jpg.rf.e254dc05d6c1fc1284bef618cbd32578.jpg  \n",
            " extracting: train/images/image00072_jpg.rf.3f834afd41ed91a21a8abfc897237110.jpg  \n",
            " extracting: train/images/image00072_jpg.rf.89732d03d3de8c93f463dd364b3622b4.jpg  \n",
            " extracting: train/images/image00072_jpg.rf.9af08738d0d83c8f4b62c1413232de99.jpg  \n",
            " extracting: train/images/image00074_jpg.rf.d14b49f060b5d2693cee466f6297e29f.jpg  \n",
            " extracting: train/images/image00074_jpg.rf.d99b4fd9ab7f51349fbc33097c7ef38d.jpg  \n",
            " extracting: train/images/image00074_jpg.rf.ee9a2eed5a9fcea9105b22052d9c3c67.jpg  \n",
            " extracting: train/images/image00077_jpg.rf.0ad9078beb71bfa0a4cea03f2cacba2f.jpg  \n",
            " extracting: train/images/image00077_jpg.rf.69b666f079b6bffbfc7713b5a983ce5f.jpg  \n",
            " extracting: train/images/image00077_jpg.rf.99f3f0a8f85b1bdb43a97d1f34570a2d.jpg  \n",
            " extracting: train/images/image00078_jpg.rf.132dc0c6d186e51a40a82180b6de7e48.jpg  \n",
            " extracting: train/images/image00078_jpg.rf.9ef5bdcf4c52e095ada80eef6980ea85.jpg  \n",
            " extracting: train/images/image00078_jpg.rf.fd51a16217bc630e2d7f260b699440b0.jpg  \n",
            " extracting: train/images/image00079_jpg.rf.1b64a0af1a032d54ee6558d185163e70.jpg  \n",
            " extracting: train/images/image00079_jpg.rf.34112be57cc6887880fd16260d7b1207.jpg  \n",
            " extracting: train/images/image00079_jpg.rf.4fb67f00d321e57638786263b6f0ec95.jpg  \n",
            " extracting: train/images/image00080_jpg.rf.2a5903c56b269dd7e8e4f1d115e5949d.jpg  \n",
            " extracting: train/images/image00080_jpg.rf.797a80a8cad13b9b53bdb339c48b2771.jpg  \n",
            " extracting: train/images/image00080_jpg.rf.7a86d96d85a764e5ab832c1137e1d91a.jpg  \n",
            " extracting: train/images/image00081_jpg.rf.761483926337289c0b83f8cbb2644492.jpg  \n",
            " extracting: train/images/image00081_jpg.rf.81140ead87bf70d07349978b61d49cb8.jpg  \n",
            " extracting: train/images/image00081_jpg.rf.eda675571a27068daa8209b575741aad.jpg  \n",
            " extracting: train/images/image00084_jpg.rf.5ff77343f9e95d6ed00c80c5290b7d2c.jpg  \n",
            " extracting: train/images/image00084_jpg.rf.d2672c03ca8499a2135808505c233432.jpg  \n",
            " extracting: train/images/image00084_jpg.rf.f20e7147baa23add3785eb322fb82da3.jpg  \n",
            " extracting: train/images/image00087_jpg.rf.09f3af2bd624d240bae843a6d448715b.jpg  \n",
            " extracting: train/images/image00087_jpg.rf.89a6918148d8ad4e1e819eefbb052881.jpg  \n",
            " extracting: train/images/image00087_jpg.rf.da9c9ea67739be8e3953691edd7c44c3.jpg  \n",
            " extracting: train/images/image00089_jpg.rf.374549254bceeef92fe0bff0bc581df9.jpg  \n",
            " extracting: train/images/image00089_jpg.rf.7fde994106818e9104f0557096dce449.jpg  \n",
            " extracting: train/images/image00089_jpg.rf.b0b9dc7bdd35d3be35686ee082b8d98b.jpg  \n",
            " extracting: train/images/image00092_jpg.rf.329df9c6c795100458e05af343520ff4.jpg  \n",
            " extracting: train/images/image00092_jpg.rf.4cae4569a3e5631bb45c53c1d710d878.jpg  \n",
            " extracting: train/images/image00092_jpg.rf.b67b3c5714de89228d355d31087bac51.jpg  \n",
            " extracting: train/images/image00094_jpg.rf.07bf315a5ba9a76f55371f331d3ec3b4.jpg  \n",
            " extracting: train/images/image00094_jpg.rf.0e63da2873e06c29ff01cf4b1ffb2236.jpg  \n",
            " extracting: train/images/image00094_jpg.rf.fdfbc3eb89c2431dc948f203197f4d85.jpg  \n",
            " extracting: train/images/image00095_jpg.rf.5324c2c2fe7184d006675597a0189e66.jpg  \n",
            " extracting: train/images/image00095_jpg.rf.61f42d63cac84210960eefdead1c3083.jpg  \n",
            " extracting: train/images/image00095_jpg.rf.84d0ccc1e958e077b32cc08868f52e4e.jpg  \n",
            " extracting: train/images/image00097_jpg.rf.202203601111918b11831c8acf47c022.jpg  \n",
            " extracting: train/images/image00097_jpg.rf.286d6bafd7e3d8e3628492f75c77f7fe.jpg  \n",
            " extracting: train/images/image00097_jpg.rf.953b681dff6bb1c0c74e8b083165d7ea.jpg  \n",
            " extracting: train/images/image00098_jpg.rf.4ed56e19548e2b985dc8f34192cc8c2a.jpg  \n",
            " extracting: train/images/image00098_jpg.rf.e6a776d6fd5ddfddcb3faf80e78ec93c.jpg  \n",
            " extracting: train/images/image00098_jpg.rf.ed93c14d06f61f98573a0ffa009001ca.jpg  \n",
            " extracting: train/images/image00099_jpg.rf.7dfb5379bdf5c2fcf0f0b674e3c93939.jpg  \n",
            " extracting: train/images/image00099_jpg.rf.a4b61a6ec9a4de2c7d7dde875d38d982.jpg  \n",
            " extracting: train/images/image00099_jpg.rf.df6d9f04f93698fe7df8fd43f09aa663.jpg  \n",
            " extracting: train/images/image00100_jpg.rf.3f6b33f76482335cfcfef4b67afe021c.jpg  \n",
            " extracting: train/images/image00100_jpg.rf.4a06346e5ad1d606f5c4ef5c8ba201be.jpg  \n",
            " extracting: train/images/image00100_jpg.rf.e23d9c4f633500b4b8eac44a522353c3.jpg  \n",
            " extracting: train/images/image00101_jpg.rf.263587a58395d9db1ceb783b5c2f45a1.jpg  \n",
            " extracting: train/images/image00101_jpg.rf.54f853f7b30d481e89e90c1a3956287c.jpg  \n",
            " extracting: train/images/image00101_jpg.rf.669acfe10ab9ead4473b147548ff1531.jpg  \n",
            " extracting: train/images/image00102_jpg.rf.342b979cdf0df4926adac5af4b33bc55.jpg  \n",
            " extracting: train/images/image00102_jpg.rf.7cfa8aeefcd39bb58c04d7c5dad1b7d3.jpg  \n",
            " extracting: train/images/image00102_jpg.rf.c29bb3959193eeca1cddf726cfed66bc.jpg  \n",
            " extracting: train/images/image00107_jpg.rf.9096cf55888a80ea7be9163cb57ceadc.jpg  \n",
            " extracting: train/images/image00107_jpg.rf.915c0ac9e3f3c922017d79dbb77b2ee3.jpg  \n",
            " extracting: train/images/image00107_jpg.rf.f3d5cac5e9580aac15239972cf065407.jpg  \n",
            " extracting: train/images/image00110_jpg.rf.063b59badda5026e6174b43755acba39.jpg  \n",
            " extracting: train/images/image00110_jpg.rf.47b396b09b5ae41d9b3a62762931631c.jpg  \n",
            " extracting: train/images/image00110_jpg.rf.d23b13356e16c4bd5c5f52b3e3764083.jpg  \n",
            " extracting: train/images/image00111_jpg.rf.7e0d262874f135dbbd18a17e5cd77f0a.jpg  \n",
            " extracting: train/images/image00111_jpg.rf.866308d1bc53539d2ac99fd3f9e3167e.jpg  \n",
            " extracting: train/images/image00111_jpg.rf.dc35ba163f25b46ad8eec3f4233d7282.jpg  \n",
            " extracting: train/images/image00113_jpg.rf.14d5cc20ca9ace774c431b17d4a8f6d6.jpg  \n",
            " extracting: train/images/image00113_jpg.rf.424c68651394c1fc5434357cabbdde17.jpg  \n",
            " extracting: train/images/image00113_jpg.rf.83478a51da921ba228df84cfbbabc2ed.jpg  \n",
            " extracting: train/images/image00114_jpg.rf.960a5d64d3c28947cb2dc7f5e6462c3b.jpg  \n",
            " extracting: train/images/image00114_jpg.rf.a3df099adb6c7464c66b1767cc3cc8df.jpg  \n",
            " extracting: train/images/image00114_jpg.rf.f067c219de0a7c6f2aa2689246397dcf.jpg  \n",
            " extracting: train/images/image00115_jpg.rf.3533973178fb3b175de5dc365f849d3e.jpg  \n",
            " extracting: train/images/image00115_jpg.rf.a1e7ad4c1f16348ca371ec0ac457dff3.jpg  \n",
            " extracting: train/images/image00115_jpg.rf.b754207d67e847e505a1b39821ec7174.jpg  \n",
            " extracting: train/images/image00121_jpg.rf.0128068b622f883c3db92d53caf67abf.jpg  \n",
            " extracting: train/images/image00121_jpg.rf.300950f63ca50c76e00284507efc57e0.jpg  \n",
            " extracting: train/images/image00121_jpg.rf.ea149c62bd7fc5f3f54ba21502ee969f.jpg  \n",
            " extracting: train/images/image00124_jpg.rf.675b0a3664830ed54734ebeb297d6d20.jpg  \n",
            " extracting: train/images/image00124_jpg.rf.c66e0d7f7ca12190b035d3311f687cc9.jpg  \n",
            " extracting: train/images/image00124_jpg.rf.d55e5aa9963071b698dc14a768058b53.jpg  \n",
            " extracting: train/images/image00125_jpg.rf.56ba72c987a1b4fec7a943b713cbd79e.jpg  \n",
            " extracting: train/images/image00125_jpg.rf.93575f39a3b5da81f0ac5bfae7415c99.jpg  \n",
            " extracting: train/images/image00125_jpg.rf.d0276b259b74bfc71e3569681268dacc.jpg  \n",
            " extracting: train/images/image00126_jpg.rf.1c4d5ccde282bca708130c635821b216.jpg  \n",
            " extracting: train/images/image00126_jpg.rf.6ae69372eb0ac2bfac753f82c9c9dca4.jpg  \n",
            " extracting: train/images/image00126_jpg.rf.80c7ef86e9d167daa021384a08f96094.jpg  \n",
            " extracting: train/images/image00127_jpg.rf.2e57c714e93aea19fb4edff46ff822a6.jpg  \n",
            " extracting: train/images/image00127_jpg.rf.47b166c95a3e1e7f14297a3b6735eb21.jpg  \n",
            " extracting: train/images/image00127_jpg.rf.f1663c99d799f32ba8888510f65570e3.jpg  \n",
            " extracting: train/images/image00128_jpg.rf.3c9e26dc080411f209886459a0d1225d.jpg  \n",
            " extracting: train/images/image00128_jpg.rf.9d262ce7edcfd71a9a80edee08e43bd1.jpg  \n",
            " extracting: train/images/image00128_jpg.rf.f9174defeace57dc0d6cfc3a9a121537.jpg  \n",
            " extracting: train/images/image00129_jpg.rf.0a446669a33697d2b9aabf360989fe2e.jpg  \n",
            " extracting: train/images/image00129_jpg.rf.3fa59e1e43941618f82847b206656173.jpg  \n",
            " extracting: train/images/image00129_jpg.rf.b90f2c08909f2b0c9123e1874ed72ee0.jpg  \n",
            " extracting: train/images/image00131_jpg.rf.4954bb32bec6f9d94e2e2e692a5ba559.jpg  \n",
            " extracting: train/images/image00131_jpg.rf.f69ba503cdd2b16c1400538d897809fe.jpg  \n",
            " extracting: train/images/image00131_jpg.rf.f6f1c75d116eab3611753a24732b6f86.jpg  \n",
            " extracting: train/images/image00133_jpg.rf.41178856618c9109587f7839b8167296.jpg  \n",
            " extracting: train/images/image00133_jpg.rf.65538ae6fcd19c97591bef7af785b3df.jpg  \n",
            " extracting: train/images/image00133_jpg.rf.d82676b85400136902e15ce2e5ec2047.jpg  \n",
            " extracting: train/images/image00134_jpg.rf.1e0529bb8693fc6c7ab48321293e62f4.jpg  \n",
            " extracting: train/images/image00134_jpg.rf.4d63747581767d6c9982de2c7756e5e1.jpg  \n",
            " extracting: train/images/image00134_jpg.rf.d6d641d5aafacf57c94afd963ea2179f.jpg  \n",
            " extracting: train/images/image00135_jpg.rf.37eb2926c923725681c2c23d7bb80981.jpg  \n",
            " extracting: train/images/image00135_jpg.rf.61921b991f01d17300f0f7b1d79338ff.jpg  \n",
            " extracting: train/images/image00135_jpg.rf.e6d152c67b9523e10d358b60b9de3912.jpg  \n",
            " extracting: train/images/image00136_jpg.rf.514207a06d8a746ea33b54809365a191.jpg  \n",
            " extracting: train/images/image00136_jpg.rf.545f06716727099e414d4f7662f5d182.jpg  \n",
            " extracting: train/images/image00136_jpg.rf.bf25687cc37e0fab7cb49ca9caabeb10.jpg  \n",
            " extracting: train/images/image00139_jpg.rf.37540fe27b7fdcf6d313e0a812e368ad.jpg  \n",
            " extracting: train/images/image00139_jpg.rf.a2e210a9dd11a80be9acb3c2b1e9f2b1.jpg  \n",
            " extracting: train/images/image00139_jpg.rf.d1fa59608f113df9c36afb055fab8283.jpg  \n",
            " extracting: train/images/image00142_jpg.rf.4e01bc5aba9db107ecc53f50ac9834e7.jpg  \n",
            " extracting: train/images/image00142_jpg.rf.8bd68e06b85339906bc36a84aea9fac6.jpg  \n",
            " extracting: train/images/image00142_jpg.rf.de257db43cc808a51772ae96fb9a3e54.jpg  \n",
            " extracting: train/images/image00143_jpg.rf.a7334c498b1f883be70978e224073651.jpg  \n",
            " extracting: train/images/image00143_jpg.rf.b6524587437079c3bdb3165e2aeb1687.jpg  \n",
            " extracting: train/images/image00143_jpg.rf.cd41732f15d558b2d4532167157f9482.jpg  \n",
            " extracting: train/images/image00144_jpg.rf.324f3a375f88c0314ace72fd3cbe3533.jpg  \n",
            " extracting: train/images/image00144_jpg.rf.743629e9c71a63e6141f34cc8cbf3cb6.jpg  \n",
            " extracting: train/images/image00144_jpg.rf.9fc2ad05218cd8a59fc1b43a0d2e42a8.jpg  \n",
            " extracting: train/images/image00145_jpg.rf.3eaa6407ab5ff406d9b978d25fa48bbc.jpg  \n",
            " extracting: train/images/image00145_jpg.rf.677d60b59d1b67ddc86e52825d4c9146.jpg  \n",
            " extracting: train/images/image00145_jpg.rf.b718f7de480039bfc3b1de6e1640a76a.jpg  \n",
            " extracting: train/images/image00148_jpg.rf.7372e58eabf9edf8d8f3991e0f763164.jpg  \n",
            " extracting: train/images/image00148_jpg.rf.9ed025b8e095ecb96a986ecdc99b915a.jpg  \n",
            " extracting: train/images/image00148_jpg.rf.f515f66667ec7a515411568d1b23ed2e.jpg  \n",
            " extracting: train/images/image00149_jpg.rf.07f5350f28ecba0479532ffb0a1a0757.jpg  \n",
            " extracting: train/images/image00149_jpg.rf.4a3acfcc0661a5fb592c0bf39395d282.jpg  \n",
            " extracting: train/images/image00149_jpg.rf.6f02580bcad4adfe64c713ad13632577.jpg  \n",
            " extracting: train/images/image00150_jpg.rf.03ee786da8e89b89a9d1989f20b46e79.jpg  \n",
            " extracting: train/images/image00150_jpg.rf.17ef26db345695f98099676cebaacbba.jpg  \n",
            " extracting: train/images/image00150_jpg.rf.e996a65df0abf553cf9f3dedfe58548f.jpg  \n",
            " extracting: train/images/image00151_jpg.rf.27fb0631a6e055e7172ab6a32f2c6fd8.jpg  \n",
            " extracting: train/images/image00151_jpg.rf.3176f5d51160e465a22eae5ee1203753.jpg  \n",
            " extracting: train/images/image00151_jpg.rf.cc96863a59ecfedf0e84b5f6e2c9f5b7.jpg  \n",
            " extracting: train/images/image00152_jpg.rf.44dbbd1a06328c13206389279832991a.jpg  \n",
            " extracting: train/images/image00152_jpg.rf.82284619d70f95eec46026fa01794379.jpg  \n",
            " extracting: train/images/image00152_jpg.rf.b53f81e742c676b488b15cfc3ca6078c.jpg  \n",
            " extracting: train/images/image00153_jpg.rf.417647f69e42f13bc8dd8d3056fbeef3.jpg  \n",
            " extracting: train/images/image00153_jpg.rf.4e69feaa43acd537e8cd97f76b4d4649.jpg  \n",
            " extracting: train/images/image00153_jpg.rf.ccfcbdb42b12e382613830c3e67cd1cd.jpg  \n",
            " extracting: train/images/image00154_jpg.rf.0f4f78d888fcb050a9ce31f18685b6ad.jpg  \n",
            " extracting: train/images/image00154_jpg.rf.622c309853b93e9ea71dc9814618b8c8.jpg  \n",
            " extracting: train/images/image00154_jpg.rf.b48383973ba362925012174650ce470e.jpg  \n",
            " extracting: train/images/image00155_jpg.rf.506a4c501d8e1e8bef9c0b2e1a72ddc5.jpg  \n",
            " extracting: train/images/image00155_jpg.rf.ae4f69f51c70a59c407d9e9872ac1ed0.jpg  \n",
            " extracting: train/images/image00155_jpg.rf.b8cba0a9b592390db4d8b9396bc482fc.jpg  \n",
            " extracting: train/images/image00157_jpg.rf.87271604c16b10a9b9743c79e1059703.jpg  \n",
            " extracting: train/images/image00157_jpg.rf.cb7cb5ff7a2bed5684d20efd22dfdd5a.jpg  \n",
            " extracting: train/images/image00157_jpg.rf.e041c05614c1c031ffb02714f2d6bfd5.jpg  \n",
            " extracting: train/images/image00158_jpg.rf.2440203aa38c2d9b37e25ea6fab10343.jpg  \n",
            " extracting: train/images/image00158_jpg.rf.6228558198b566e951d0d3919dcbd3b7.jpg  \n",
            " extracting: train/images/image00158_jpg.rf.d6d7c734d01ef9a3a6328bfec55d0a73.jpg  \n",
            " extracting: train/images/image00161_jpg.rf.363cc8c12aa2991146c026a0c6916f5e.jpg  \n",
            " extracting: train/images/image00161_jpg.rf.3d0db950a170afed77892b552e9fd4ff.jpg  \n",
            " extracting: train/images/image00161_jpg.rf.eb6e9366a3a11b9de25ca0b5d3fa8473.jpg  \n",
            " extracting: train/images/image00162_jpg.rf.395885780a82137178bdd2d420c1c9bb.jpg  \n",
            " extracting: train/images/image00162_jpg.rf.ac4297d126c9bb9359cef9edab8b16fb.jpg  \n",
            " extracting: train/images/image00162_jpg.rf.fb7ee204f9fad39f27039b2553bda4e1.jpg  \n",
            " extracting: train/images/image00163_jpg.rf.1981d99f705f74a7bb898c58d35cc590.jpg  \n",
            " extracting: train/images/image00163_jpg.rf.71a1d0ace93109a7ddcb96369e0ef338.jpg  \n",
            " extracting: train/images/image00163_jpg.rf.e11449d2cb10ea0cc1da106ffe808938.jpg  \n",
            " extracting: train/images/image00167_jpg.rf.31f8d800ec554cea18b4fd3a9db57735.jpg  \n",
            " extracting: train/images/image00167_jpg.rf.a69f0c037904e7e9ab7a1ba97580c5c9.jpg  \n",
            " extracting: train/images/image00167_jpg.rf.d7697125b4512feea67ae8f2f3d22fba.jpg  \n",
            " extracting: train/images/image00168_jpg.rf.1429e39f7278d95862fd135690350e21.jpg  \n",
            " extracting: train/images/image00168_jpg.rf.31ac8cb70809ee6613ff3d2c572a1d5c.jpg  \n",
            " extracting: train/images/image00168_jpg.rf.4ddc6f4e535eaab78efddcefefe65a99.jpg  \n",
            " extracting: train/images/image00172_jpg.rf.17e8932c68d380cc533e59438c5b1874.jpg  \n",
            " extracting: train/images/image00172_jpg.rf.9dd339746946a9720043dd0490edcca4.jpg  \n",
            " extracting: train/images/image00172_jpg.rf.f6c9e093c182ca05d39dcff06287e12b.jpg  \n",
            " extracting: train/images/image00174_jpg.rf.350d0788a7c3bb6af49c70f09ae263a2.jpg  \n",
            " extracting: train/images/image00174_jpg.rf.40a35e0ad268e283f5249ba4a5ce44a6.jpg  \n",
            " extracting: train/images/image00174_jpg.rf.75851729a34a13408a8c28d75dba2b4a.jpg  \n",
            " extracting: train/images/image00183_jpg.rf.26c7ba411b1c52f592c3da5f91c03b16.jpg  \n",
            " extracting: train/images/image00183_jpg.rf.e8936a0e674f4f5371db003306bd135f.jpg  \n",
            " extracting: train/images/image00183_jpg.rf.ff2fd8ff7c599dfefb4af96d340ca1b6.jpg  \n",
            " extracting: train/images/image00188_jpg.rf.2c57f65fbd82b97cb3e5eeb13b98adf7.jpg  \n",
            " extracting: train/images/image00188_jpg.rf.857d4b79da467ffbc833aad62315a65c.jpg  \n",
            " extracting: train/images/image00188_jpg.rf.ebca8a9238a74931f7f44dc45288e645.jpg  \n",
            " extracting: train/images/image00189_jpg.rf.1dbf696c8b8f8bfca2485e6e1ae2225f.jpg  \n",
            " extracting: train/images/image00189_jpg.rf.4483661405301ce109184004f75e67b4.jpg  \n",
            " extracting: train/images/image00189_jpg.rf.d1592ac299dc19a9ccfe7513b9f79f57.jpg  \n",
            " extracting: train/images/image00191_jpg.rf.1635db86fe6164223b324c3acb5b76ae.jpg  \n",
            " extracting: train/images/image00191_jpg.rf.a62494a0b288681cd99db9058b643e26.jpg  \n",
            " extracting: train/images/image00191_jpg.rf.fdd33b2150c35c29b4778b2d08cae711.jpg  \n",
            " extracting: train/images/image00192_jpg.rf.5e961e47914aef66b82c8f46043ad0d0.jpg  \n",
            " extracting: train/images/image00192_jpg.rf.6c28a704e353a79951bee9c0f6927283.jpg  \n",
            " extracting: train/images/image00192_jpg.rf.e3f679eb4346345ed3a02b101a9bfa84.jpg  \n",
            " extracting: train/images/image00196_jpg.rf.142b8e14e7e529cd2e16d5d7ab46c864.jpg  \n",
            " extracting: train/images/image00196_jpg.rf.1676c82a702d438078fcd3a7fb57d9e0.jpg  \n",
            " extracting: train/images/image00196_jpg.rf.a19541690f033ffa531e8e69d080f425.jpg  \n",
            " extracting: train/images/image00197_jpg.rf.458f4de0929e38fa31760052da335a42.jpg  \n",
            " extracting: train/images/image00197_jpg.rf.7d02e9a754718212638826289dc6b42f.jpg  \n",
            " extracting: train/images/image00197_jpg.rf.802310832ae3ec3506c49982abe0043a.jpg  \n",
            " extracting: train/images/image00198_jpg.rf.220187632eaae1cbf8a168c222747ddf.jpg  \n",
            " extracting: train/images/image00198_jpg.rf.4f2dd464323e697b9d4e4b44711daa7f.jpg  \n",
            " extracting: train/images/image00198_jpg.rf.b0ff53b78d8ee9094ded4965efc7fec2.jpg  \n",
            " extracting: train/images/image00199_jpg.rf.3448a426a2d02faf1592f8879019b2a4.jpg  \n",
            " extracting: train/images/image00199_jpg.rf.f432e5d3b8275142b778765dd6b1d049.jpg  \n",
            " extracting: train/images/image00199_jpg.rf.feed75619fa1ac8987de267fadda0ac9.jpg  \n",
            " extracting: train/images/image00200_jpg.rf.4ebe980446da5b42aa9b4d39fb8cbf58.jpg  \n",
            " extracting: train/images/image00200_jpg.rf.62dcf31603595c858c8104fe9581bff7.jpg  \n",
            " extracting: train/images/image00200_jpg.rf.fa112a1a76c66658166528b9d9b7942c.jpg  \n",
            " extracting: train/images/image00201_jpg.rf.244913183432c9c1042afbc614d96c85.jpg  \n",
            " extracting: train/images/image00201_jpg.rf.ddf05391a1c91f08a57f5551c904691b.jpg  \n",
            " extracting: train/images/image00201_jpg.rf.e098dce8cede65ab907ef61e4631d2de.jpg  \n",
            " extracting: train/images/image00207_jpg.rf.81206ec1e864c078b8f6dc6143d609ee.jpg  \n",
            " extracting: train/images/image00207_jpg.rf.aeb71f0e9a6933d8046a3032737cb33c.jpg  \n",
            " extracting: train/images/image00207_jpg.rf.d6bafcd0ddc7fcfa60a68ccdb1c8c824.jpg  \n",
            " extracting: train/images/image00208_jpg.rf.22855c8b66f4712c1617f4d79fdd4b7d.jpg  \n",
            " extracting: train/images/image00208_jpg.rf.9a589f9c0a7d409da2f161bd71013e57.jpg  \n",
            " extracting: train/images/image00208_jpg.rf.a2d8fdf736c15bae2ef6d17bfe7b2853.jpg  \n",
            " extracting: train/images/image00209_jpg.rf.195cf68437d18510acdb77d8d4a00938.jpg  \n",
            " extracting: train/images/image00209_jpg.rf.408abe78a1d9d7086c858643317f66db.jpg  \n",
            " extracting: train/images/image00209_jpg.rf.57eb0b847a08bee28f6f9dce3dd6139f.jpg  \n",
            " extracting: train/images/image00210_jpg.rf.134da08919d4bf569aeaf4a0f431933a.jpg  \n",
            " extracting: train/images/image00210_jpg.rf.9906cb99beef4444f983065905c0c752.jpg  \n",
            " extracting: train/images/image00210_jpg.rf.c5127a039f67551ce5c909b601d34f4d.jpg  \n",
            " extracting: train/images/image00211_jpg.rf.07654705bbd2db5a4e22d87f6343930d.jpg  \n",
            " extracting: train/images/image00211_jpg.rf.b0fbfc4ea887b24ec08383e4a4fa2131.jpg  \n",
            " extracting: train/images/image00211_jpg.rf.c6d9c5cf16930b1e84747e5ff0c45a4c.jpg  \n",
            " extracting: train/images/image00213_jpg.rf.4c166d46bfd5ff46329cf6202ebc5713.jpg  \n",
            " extracting: train/images/image00213_jpg.rf.92d05317966d9b508ea4fb530e434aa3.jpg  \n",
            " extracting: train/images/image00213_jpg.rf.d5a0dad2b4b4d251cf21366d95c47a6e.jpg  \n",
            " extracting: train/images/image00215_jpg.rf.40c936b4e1de47ecca016de77db94162.jpg  \n",
            " extracting: train/images/image00215_jpg.rf.ca58efe422bc6d66b7878d5769203f11.jpg  \n",
            " extracting: train/images/image00215_jpg.rf.fe7a362dc1f2deb4de13199b52d2ce41.jpg  \n",
            " extracting: train/images/image00216_jpg.rf.0f38cc40435dc99fe392f89ae3aba70e.jpg  \n",
            " extracting: train/images/image00216_jpg.rf.82d6899a0cf5fa0613136bb1fa7e2a14.jpg  \n",
            " extracting: train/images/image00216_jpg.rf.df66a6f73a3fe22b033d001ff242d483.jpg  \n",
            " extracting: train/images/image00219_jpg.rf.11fbf963ae0ef63dd9b46f130431e298.jpg  \n",
            " extracting: train/images/image00219_jpg.rf.a956ffbbf51fe7a5085b2b6339699fe3.jpg  \n",
            " extracting: train/images/image00219_jpg.rf.b8e8a5719bba4ddac8ab12153368de63.jpg  \n",
            " extracting: train/images/image00220_jpg.rf.22cd29d689c255f73b5ea3ca466a557e.jpg  \n",
            " extracting: train/images/image00220_jpg.rf.31e9c4c0a61c34e67abeb4f7fa5087e4.jpg  \n",
            " extracting: train/images/image00220_jpg.rf.d00fc6d4617f428b2e11f38e9a128d71.jpg  \n",
            " extracting: train/images/image00221_jpg.rf.03846aa8e0a01ca8c3e3a2b30d86095e.jpg  \n",
            " extracting: train/images/image00221_jpg.rf.6dd32fbf08a193c40526146d58c8e0e9.jpg  \n",
            " extracting: train/images/image00221_jpg.rf.c76091d0412d3c109e8e8b5c6a4e5e1e.jpg  \n",
            " extracting: train/images/image00222_jpg.rf.27e488e190db609b34fb61bc9b7066b1.jpg  \n",
            " extracting: train/images/image00222_jpg.rf.38b9903058cdd7008860c67ddca85dbe.jpg  \n",
            " extracting: train/images/image00222_jpg.rf.fd3e9b08d4303c0abaf2007860da509d.jpg  \n",
            " extracting: train/images/image00224_jpg.rf.0ec3a80b5654bb5297da590d1fe6c798.jpg  \n",
            " extracting: train/images/image00224_jpg.rf.caf8fc2720b6df53749f12cb184733e3.jpg  \n",
            " extracting: train/images/image00224_jpg.rf.e2272321f90013f60cbdd2c91d31fc39.jpg  \n",
            " extracting: train/images/image00225_jpg.rf.1881f56ec96e891c1de2d394e43fcfbb.jpg  \n",
            " extracting: train/images/image00225_jpg.rf.1de96559cdfcbaa4914a5f82d2708b83.jpg  \n",
            " extracting: train/images/image00225_jpg.rf.e1df1efdcb7f966455ec7ebb4520242b.jpg  \n",
            " extracting: train/images/image00226_jpg.rf.1fb8caebf5021edf0fd63df8ffd457d5.jpg  \n",
            " extracting: train/images/image00226_jpg.rf.284a1a41ca8ea7cf60774be10da69e0b.jpg  \n",
            " extracting: train/images/image00226_jpg.rf.c4253cf0da304c6528f3a92b124bbf4f.jpg  \n",
            " extracting: train/images/image00228_jpg.rf.1902f58399a934d9e81bd07e118fbf02.jpg  \n",
            " extracting: train/images/image00228_jpg.rf.a32df14542bde65715de60b4f17aeb28.jpg  \n",
            " extracting: train/images/image00228_jpg.rf.f9b7c47bbea3412fee31805d51769011.jpg  \n",
            " extracting: train/images/image00231_jpg.rf.04e2f073783c93831d93dccabf3109dd.jpg  \n",
            " extracting: train/images/image00231_jpg.rf.49b9fa8e4152275b72cbcda1a723ffc9.jpg  \n",
            " extracting: train/images/image00231_jpg.rf.61f3798242824a1d4b0e583ab551c957.jpg  \n",
            " extracting: train/images/image00234_jpg.rf.1592ef4cf53a194078f3205738beb3a2.jpg  \n",
            " extracting: train/images/image00234_jpg.rf.27ff4165e10b6394996107a2231f5ed1.jpg  \n",
            " extracting: train/images/image00234_jpg.rf.8f9eed4f0f0e7bf7cd86f869b2a7bcd1.jpg  \n",
            " extracting: train/images/image00235_jpg.rf.06bba0d632b8207a928d081ba4162860.jpg  \n",
            " extracting: train/images/image00235_jpg.rf.c60bdbc14cb37ca908f0e9e1f4608ab9.jpg  \n",
            " extracting: train/images/image00235_jpg.rf.c6b336b609a476ab136fea1afbb5b4da.jpg  \n",
            " extracting: train/images/image00236_jpg.rf.59262aa4dc80e0985b25a77f811b1153.jpg  \n",
            " extracting: train/images/image00236_jpg.rf.ad6dcd59e1cd94d3167a5a71d94aa159.jpg  \n",
            " extracting: train/images/image00236_jpg.rf.fbeddc786854a3bfa40111aab1f3cda3.jpg  \n",
            " extracting: train/images/image00237_jpg.rf.079d65dc6b81ec182dec20d93d3dae8a.jpg  \n",
            " extracting: train/images/image00237_jpg.rf.47d6df6c2177f7cd8453a69b55e82d0d.jpg  \n",
            " extracting: train/images/image00237_jpg.rf.f4eac79e992476106e56fc1219ff6a66.jpg  \n",
            " extracting: train/images/image00240_jpg.rf.0073ce164dcde89f3326b8cfc0754e9b.jpg  \n",
            " extracting: train/images/image00240_jpg.rf.0f1fa8e57e670ef70fcef227889602b1.jpg  \n",
            " extracting: train/images/image00240_jpg.rf.1ed3d9d88dacd503625b3600bf903ba6.jpg  \n",
            " extracting: train/images/image00241_jpg.rf.2c6c2f07da533cbb4266b08566bcb44e.jpg  \n",
            " extracting: train/images/image00241_jpg.rf.78c8e0de359353b9cf0e09a657dc657b.jpg  \n",
            " extracting: train/images/image00241_jpg.rf.8cf0daa1c19ccb33848d9dc6a5cd1265.jpg  \n",
            " extracting: train/images/image00242_jpg.rf.50c25c43d74cd7ffba365048f2f8129c.jpg  \n",
            " extracting: train/images/image00242_jpg.rf.74525910549779d1e99a4a030096d265.jpg  \n",
            " extracting: train/images/image00242_jpg.rf.c44005a8fc01c2efe4af7c235bfd5584.jpg  \n",
            " extracting: train/images/image00244_jpg.rf.5efe583dd1df6311a8da334107b46dde.jpg  \n",
            " extracting: train/images/image00244_jpg.rf.d48d12064fdadaab79a686cb457271bf.jpg  \n",
            " extracting: train/images/image00244_jpg.rf.e2806b64a097bca4c1d08f59708301f2.jpg  \n",
            " extracting: train/images/image00245_jpg.rf.5d3dc31d3fd2a12ee28c3d46886d092a.jpg  \n",
            " extracting: train/images/image00245_jpg.rf.5fbf6a8e97064e63e2ad6105ee225d93.jpg  \n",
            " extracting: train/images/image00245_jpg.rf.cee882bc2737ba9889a10e730c4823d5.jpg  \n",
            " extracting: train/images/image00248_jpg.rf.759533fdd6ac0b415a3b5bc4953fcb65.jpg  \n",
            " extracting: train/images/image00248_jpg.rf.82ef3662c8fbc51a6fe95dc7b7a2db98.jpg  \n",
            " extracting: train/images/image00248_jpg.rf.9760e2861a7d11c595b72e4d63e5e5ab.jpg  \n",
            " extracting: train/images/image00249_jpg.rf.00a20c2dd2aa7eb47425307b53791e2a.jpg  \n",
            " extracting: train/images/image00249_jpg.rf.01974a8ad25f103dc1de0f5395f2160a.jpg  \n",
            " extracting: train/images/image00249_jpg.rf.64993088c155fe6eb1df49cbff1a67ae.jpg  \n",
            " extracting: train/images/image00250_jpg.rf.2f44319766cc0eb4fae415c83db9c760.jpg  \n",
            " extracting: train/images/image00250_jpg.rf.afdb6cd676a0835bd70f16b7d4a4bac1.jpg  \n",
            " extracting: train/images/image00250_jpg.rf.cd25add74039299fabc072a831ff58e1.jpg  \n",
            " extracting: train/images/image00252_jpg.rf.8cb59dc4516f6f58bf53858b520f0287.jpg  \n",
            " extracting: train/images/image00252_jpg.rf.9251401beb0aa734216d7098eb99b150.jpg  \n",
            " extracting: train/images/image00252_jpg.rf.e6469eb6984e256390c246710ea0653e.jpg  \n",
            " extracting: train/images/image00254_jpg.rf.13113bd75bc1d8ac6f9b0fd751011775.jpg  \n",
            " extracting: train/images/image00254_jpg.rf.cfd055aaa45b6ab1af73d774183090b3.jpg  \n",
            " extracting: train/images/image00254_jpg.rf.edc7fc9f4f0b1d2bf04f85ccab0d8047.jpg  \n",
            " extracting: train/images/image00261_jpg.rf.0f8f028792959b65869d47bcf89879c7.jpg  \n",
            " extracting: train/images/image00261_jpg.rf.5640ababe17ba6091c8b8af7c8b38ad4.jpg  \n",
            " extracting: train/images/image00261_jpg.rf.77b9955418e7daae8805d06049d5f747.jpg  \n",
            " extracting: train/images/image00262_jpg.rf.393683022ad687fbff98836982d576d4.jpg  \n",
            " extracting: train/images/image00262_jpg.rf.45fb34f4825a278e87436ffa260c4f48.jpg  \n",
            " extracting: train/images/image00262_jpg.rf.ebbdf2c170e04565b781f6165496df4e.jpg  \n",
            " extracting: train/images/image00263_jpg.rf.2fa814ccac094731f85a3ffd0863880f.jpg  \n",
            " extracting: train/images/image00263_jpg.rf.8597bdbc06de486b592eb6135700898f.jpg  \n",
            " extracting: train/images/image00263_jpg.rf.c5e01513beae1ca065303d386302903c.jpg  \n",
            " extracting: train/images/image00265_jpg.rf.6f0b8464f9c7bc3fe97676dc811cf715.jpg  \n",
            " extracting: train/images/image00265_jpg.rf.bacccea1e595bfdcd566a93af0dc62a3.jpg  \n",
            " extracting: train/images/image00265_jpg.rf.f13bbf88947346b57b38e25dd8550fa9.jpg  \n",
            " extracting: train/images/image00266_jpg.rf.16862cb3dcd2824cfee3d441becc313e.jpg  \n",
            " extracting: train/images/image00266_jpg.rf.5d3c578e743a8088171c93979e34fe93.jpg  \n",
            " extracting: train/images/image00266_jpg.rf.d1bb435550773f2ed79d86057f8092fd.jpg  \n",
            " extracting: train/images/image00267_jpg.rf.15d0b6ec4d31e860515af56a3eeb78ff.jpg  \n",
            " extracting: train/images/image00267_jpg.rf.3c5844a3e819f0624e0351ee9c8b01b1.jpg  \n",
            " extracting: train/images/image00267_jpg.rf.a9e6caa7ea8ce04d9adafe5c35aa29bb.jpg  \n",
            " extracting: train/images/image00268_jpg.rf.b47d7770586e3c8fe4b3b8aaed9b42b8.jpg  \n",
            " extracting: train/images/image00268_jpg.rf.baa296ed52ae30e2e58b32c084adc7d7.jpg  \n",
            " extracting: train/images/image00268_jpg.rf.f0d0ea018e0ef74dff34ecac7b42a3d0.jpg  \n",
            " extracting: train/images/image00270_jpg.rf.a2b82987fdfc46253a5f15b3e16249cf.jpg  \n",
            " extracting: train/images/image00270_jpg.rf.b9d824a3912b28fb11081d3bfe7210e0.jpg  \n",
            " extracting: train/images/image00270_jpg.rf.f267b1af259ef218335523b14060517c.jpg  \n",
            " extracting: train/images/image00273_jpg.rf.304398f24534ecb3e352335955a79e29.jpg  \n",
            " extracting: train/images/image00273_jpg.rf.7b39186b359ac93d3ddb37f952738020.jpg  \n",
            " extracting: train/images/image00273_jpg.rf.98912f60be123b55053f0cb941340ef2.jpg  \n",
            " extracting: train/images/image00274_jpg.rf.510f92b5a284c1011e0e9c300e1ac89b.jpg  \n",
            " extracting: train/images/image00274_jpg.rf.95bdcd8948a3ff9b93ae5282474422be.jpg  \n",
            " extracting: train/images/image00274_jpg.rf.a5a1543d4d85db1fb0d162f76fd48c78.jpg  \n",
            " extracting: train/images/image00275_jpg.rf.48513a8beef8c43b6388948c7e6781f1.jpg  \n",
            " extracting: train/images/image00275_jpg.rf.a299ccf11df4f44e2e521dbc4d66f8fe.jpg  \n",
            " extracting: train/images/image00275_jpg.rf.fa2a2465fdb1a9500f219b7ffa5f03ce.jpg  \n",
            " extracting: train/images/image00276_jpg.rf.598afeaf4c3caffeb07bb3019db9a37b.jpg  \n",
            " extracting: train/images/image00276_jpg.rf.77d15fc4f02a797a841d6ece0d9cd34d.jpg  \n",
            " extracting: train/images/image00276_jpg.rf.fe10b7054c686d7c73aa9ac866b989db.jpg  \n",
            " extracting: train/images/image00277_jpg.rf.bcbe89ebd23866330d7fde41b3b6791b.jpg  \n",
            " extracting: train/images/image00277_jpg.rf.e8eab3a49fa14df26596b119616fd620.jpg  \n",
            " extracting: train/images/image00277_jpg.rf.f1edbc43cf01c7fd62ea289635f7b360.jpg  \n",
            " extracting: train/images/image00278_jpg.rf.32292c918b7212c0fe417890dffdca44.jpg  \n",
            " extracting: train/images/image00278_jpg.rf.820ee9e2e16636927dbf55156b10cbf6.jpg  \n",
            " extracting: train/images/image00278_jpg.rf.b12db48a76c6ebc9d1b1ee0792425911.jpg  \n",
            " extracting: train/images/image00279_jpg.rf.53df86e7fb38c8674ae1c65217c1157f.jpg  \n",
            " extracting: train/images/image00279_jpg.rf.7c939c5ec7ce671db6267493a2af68c8.jpg  \n",
            " extracting: train/images/image00279_jpg.rf.7cbed92bf7cde75f4e5b251152e3995e.jpg  \n",
            " extracting: train/images/image00280_jpg.rf.4bbf4c5dd84da1590c3ac4f3ce12f3fe.jpg  \n",
            " extracting: train/images/image00280_jpg.rf.657a4c5ad7335f1fbccd01acf7392365.jpg  \n",
            " extracting: train/images/image00280_jpg.rf.7c7e86e5be96f812dff5f614511fe0a4.jpg  \n",
            " extracting: train/images/image00281_jpg.rf.10a9ab198e800702f6951636080aafb7.jpg  \n",
            " extracting: train/images/image00281_jpg.rf.71016f3b8e899c98e05a9792ff962181.jpg  \n",
            " extracting: train/images/image00281_jpg.rf.92ed363f953ab18ecb2695d0e5c0f512.jpg  \n",
            " extracting: train/images/image00282_jpg.rf.2679c5e52a39302ac503d1c230357394.jpg  \n",
            " extracting: train/images/image00282_jpg.rf.a4e1c6825011da0d758fe1acc00dd057.jpg  \n",
            " extracting: train/images/image00282_jpg.rf.e304cb27e194f74cafb9f172526e6074.jpg  \n",
            " extracting: train/images/image00283_jpg.rf.220cb643148893d428c711ea1d73637a.jpg  \n",
            " extracting: train/images/image00283_jpg.rf.d63ddb29c9c1cf02f2cc4a8515e547c9.jpg  \n",
            " extracting: train/images/image00283_jpg.rf.db4e035fe7f698ea7f11918ec5603ecd.jpg  \n",
            " extracting: train/images/image00284_jpg.rf.7726c3c91a95d289eb9e42744f27211f.jpg  \n",
            " extracting: train/images/image00284_jpg.rf.8b0d1191fced4b91069d1c629edcc4e8.jpg  \n",
            " extracting: train/images/image00284_jpg.rf.d17a5f12e6c6fe214527a0ffad014d30.jpg  \n",
            " extracting: train/images/image00285_jpg.rf.8366b1b5fd82f10ffa63bca1da1beb73.jpg  \n",
            " extracting: train/images/image00285_jpg.rf.86c5ccd46f1263d96b33694309700eb8.jpg  \n",
            " extracting: train/images/image00285_jpg.rf.cef2c3136ef00adc9d5e061046176ff8.jpg  \n",
            " extracting: train/images/image00287_jpg.rf.00fd779bc51d5a39d02aec74da50fe16.jpg  \n",
            " extracting: train/images/image00287_jpg.rf.86627df28d2f53c4f1f619ed7bbce856.jpg  \n",
            " extracting: train/images/image00287_jpg.rf.92acc7deb4dc42d2013a3d6efb8a458a.jpg  \n",
            " extracting: train/images/image00288_jpg.rf.db3d71bedfedd87daf2d94f0e6f2c581.jpg  \n",
            " extracting: train/images/image00288_jpg.rf.f1d9345c0c04ea3dfe95a4a341b95892.jpg  \n",
            " extracting: train/images/image00288_jpg.rf.f762fa4a24b7134540f8b01ceb7bd14b.jpg  \n",
            " extracting: train/images/image00289_jpg.rf.6cc53704d3e4ce883b8820142dfe5f14.jpg  \n",
            " extracting: train/images/image00289_jpg.rf.8ce14b6146dab7c29d5530ae5f852d22.jpg  \n",
            " extracting: train/images/image00289_jpg.rf.df6b79a258a1cb38e3d18d5c47d080dc.jpg  \n",
            " extracting: train/images/image00290_jpg.rf.0afa2ede5c960930aaaeb19c5ac04481.jpg  \n",
            " extracting: train/images/image00290_jpg.rf.3413574ab64e3c56d0d5d7ed4f2a027f.jpg  \n",
            " extracting: train/images/image00290_jpg.rf.66a80bf16f59372ab8de43dc471a97f7.jpg  \n",
            " extracting: train/images/image00291_jpg.rf.3d20f0650232a0982931e62d7ec19b4c.jpg  \n",
            " extracting: train/images/image00291_jpg.rf.c977d873ebc0b2beee608546320ab560.jpg  \n",
            " extracting: train/images/image00291_jpg.rf.d22453640ea002d8378ff903a76c8752.jpg  \n",
            " extracting: train/images/image00293_jpg.rf.918618fd8600eeae96bbe261f8b7a3c6.jpg  \n",
            " extracting: train/images/image00293_jpg.rf.9334af97d4e1fb670ccb68437284615c.jpg  \n",
            " extracting: train/images/image00293_jpg.rf.983447cdca2ccc802521ddf36808a27f.jpg  \n",
            " extracting: train/images/image00295_jpg.rf.02a04c1abc2cd0a30d82cfea21c299ca.jpg  \n",
            " extracting: train/images/image00295_jpg.rf.216055110d20c81ea77caa317cce8d41.jpg  \n",
            " extracting: train/images/image00295_jpg.rf.2b6eec353a0c26d177d94ed5747534fb.jpg  \n",
            " extracting: train/images/image00296_jpg.rf.128410f6a8741fb0251ef8a912d50d13.jpg  \n",
            " extracting: train/images/image00296_jpg.rf.908a2fa2ab702c0c513b7ae8b0f929dd.jpg  \n",
            " extracting: train/images/image00296_jpg.rf.917ae698add5a0abf754749bbf46b388.jpg  \n",
            " extracting: train/images/image00297_jpg.rf.31b1133e6092fa4c8b465431f491d20e.jpg  \n",
            " extracting: train/images/image00297_jpg.rf.599dcdeb1948c28f7f20954b4d2aa1a0.jpg  \n",
            " extracting: train/images/image00297_jpg.rf.93f9ff31e6f7dceced7be1a09817001b.jpg  \n",
            " extracting: train/images/image00299_jpg.rf.2e780f5cb8f0f2cf5248fec3a2ef6d61.jpg  \n",
            " extracting: train/images/image00299_jpg.rf.3cd469022d309baf2ebdcb3368547351.jpg  \n",
            " extracting: train/images/image00299_jpg.rf.9b519714757b272d34f079d054c77a7c.jpg  \n",
            " extracting: train/images/image00300_jpg.rf.2593600e5a82da9458666693760b3cc0.jpg  \n",
            " extracting: train/images/image00300_jpg.rf.86c26a659d8cf2cf118173666c0658d2.jpg  \n",
            " extracting: train/images/image00300_jpg.rf.b564fff0efc0bdecdde64f8820ab39ef.jpg  \n",
            " extracting: train/images/image00302_jpg.rf.2fb7a9490b7272a045344532f6c211f5.jpg  \n",
            " extracting: train/images/image00302_jpg.rf.be4e14f8e6477aa4ccbdcdd57d6f4a3f.jpg  \n",
            " extracting: train/images/image00302_jpg.rf.ed0d6418010b7e326e8285cd9004a909.jpg  \n",
            " extracting: train/images/image00304_jpg.rf.71fba70fb9ecd4acea528c92c980de3e.jpg  \n",
            " extracting: train/images/image00304_jpg.rf.8d9d8b2a827409e577104df843e39dbf.jpg  \n",
            " extracting: train/images/image00304_jpg.rf.db17ba3acc121e08607943f6eca4edf7.jpg  \n",
            " extracting: train/images/image00306_jpg.rf.0c83d542ceeb241dc52dde1585ed7a84.jpg  \n",
            " extracting: train/images/image00306_jpg.rf.0eff7671ad0c7f68ef2164b571e6f0e0.jpg  \n",
            " extracting: train/images/image00306_jpg.rf.6e5d0452d5f95cf86b95fd88a30b5d92.jpg  \n",
            " extracting: train/images/image00307_jpg.rf.45a552850d70cb618fa815326f9c12e4.jpg  \n",
            " extracting: train/images/image00307_jpg.rf.be017566d2333dd6f7d674fa7640af9d.jpg  \n",
            " extracting: train/images/image00307_jpg.rf.cf2e8e8e97331876b217a18a808a7697.jpg  \n",
            " extracting: train/images/image00309_jpg.rf.06de95d4b35d2de4b82bf9269b13bd39.jpg  \n",
            " extracting: train/images/image00309_jpg.rf.b4e0c5ec38756ef6379f863e05a203b0.jpg  \n",
            " extracting: train/images/image00309_jpg.rf.c6d3535a9186279d73629eadf8939552.jpg  \n",
            " extracting: train/images/image00311_jpg.rf.2b1009eb2ccbf267800590eda5ce6406.jpg  \n",
            " extracting: train/images/image00311_jpg.rf.948f35b027b785a19ffe74118993c760.jpg  \n",
            " extracting: train/images/image00311_jpg.rf.ee167ae3b647401107abf22ad1f342a1.jpg  \n",
            " extracting: train/images/image00313_jpg.rf.2f6082105ebcaafb1e275bab85594f09.jpg  \n",
            " extracting: train/images/image00313_jpg.rf.bd6b1d38292fe0980d06fc8381614323.jpg  \n",
            " extracting: train/images/image00313_jpg.rf.ef04bb0fd3b72b351d7913d66db69829.jpg  \n",
            " extracting: train/images/image00314_jpg.rf.5dd3359eb6742db148e381a0a4ead0e6.jpg  \n",
            " extracting: train/images/image00314_jpg.rf.a9d5229fd7d8f9ed1cd70208e091ec4a.jpg  \n",
            " extracting: train/images/image00314_jpg.rf.e862bb9154813804099288490755d837.jpg  \n",
            " extracting: train/images/image00315_jpg.rf.0b8869102ae89f268a91b221b531beb5.jpg  \n",
            " extracting: train/images/image00315_jpg.rf.169a4ede8fc2517ccd5a1985c7d2e6f4.jpg  \n",
            " extracting: train/images/image00315_jpg.rf.b0b30f5fea185cd36f9e262f32bd4d4f.jpg  \n",
            " extracting: train/images/image00317_jpg.rf.7f7a3afdfd0b581946b8cfe1ce1bb628.jpg  \n",
            " extracting: train/images/image00317_jpg.rf.b672a63f674d50215a158453dd0ece24.jpg  \n",
            " extracting: train/images/image00317_jpg.rf.f1f05b0da5e9f99b2acc52d997a24432.jpg  \n",
            " extracting: train/images/image00318_jpg.rf.4b024b0b3b437d4295c0b2ff65f4fe11.jpg  \n",
            " extracting: train/images/image00318_jpg.rf.6140cc3a8eb4490c04f61469a4eaaa5a.jpg  \n",
            " extracting: train/images/image00318_jpg.rf.c9451a5db9c2f5eec22aa4fe9446d198.jpg  \n",
            " extracting: train/images/image00320_jpg.rf.30445f0abbd71f326e5c325b1c96e8a8.jpg  \n",
            " extracting: train/images/image00320_jpg.rf.51ef9562447789735c08d62e9e7c0470.jpg  \n",
            " extracting: train/images/image00320_jpg.rf.f676c14d1a5de083ae9e414399e76ce5.jpg  \n",
            "   creating: train/labels/\n",
            " extracting: train/labels/image00001_jpg.rf.7a1f36bb3ab63b9c53ad9fd790574abb.txt  \n",
            " extracting: train/labels/image00001_jpg.rf.c28522502b2f78e69354c8c3433536b5.txt  \n",
            " extracting: train/labels/image00001_jpg.rf.c5be26e27a2b5db4affbb926350991ba.txt  \n",
            " extracting: train/labels/image00002_jpg.rf.a3529134232afbcc438893551190c6ca.txt  \n",
            " extracting: train/labels/image00002_jpg.rf.dbe17bbe459f9e93cad00a317654fb3a.txt  \n",
            " extracting: train/labels/image00002_jpg.rf.fcfff35fc69b72c44a1163988ac022ac.txt  \n",
            " extracting: train/labels/image00003_jpg.rf.042b5758f8ec2fdda5baa9e2f6479a52.txt  \n",
            " extracting: train/labels/image00003_jpg.rf.1aa8840233d02476c65a460df205eb48.txt  \n",
            " extracting: train/labels/image00003_jpg.rf.8da66974c9d5c7e7e0c9eaa8aa47a2d2.txt  \n",
            " extracting: train/labels/image00004_jpg.rf.0d2d0bfd345a64f02c1af11908395a3c.txt  \n",
            " extracting: train/labels/image00004_jpg.rf.4f98a5dbbe3928c5d700aedf1444e8d6.txt  \n",
            " extracting: train/labels/image00004_jpg.rf.f05099e9aa3fbc97409aa33662a953b0.txt  \n",
            " extracting: train/labels/image00005_jpg.rf.0ea1041aeea48781addb9a95251bcdb6.txt  \n",
            " extracting: train/labels/image00005_jpg.rf.0f1fcdb38198a2d587284a10a616d43d.txt  \n",
            " extracting: train/labels/image00005_jpg.rf.9186922025e4baa83d51a7340b8fb60c.txt  \n",
            " extracting: train/labels/image00006_jpg.rf.76dad5c69b6f9af75d11240ba266c697.txt  \n",
            " extracting: train/labels/image00006_jpg.rf.8b4b29d336a7a62f81dd07483b149946.txt  \n",
            " extracting: train/labels/image00006_jpg.rf.eddbbfe50304ff2e9dbf9346298c80e7.txt  \n",
            " extracting: train/labels/image00007_jpg.rf.99420cc0894c8c3b3c29f8dbdb7d5723.txt  \n",
            " extracting: train/labels/image00007_jpg.rf.a08acb9bafb96c804c6c2a0d149ba554.txt  \n",
            " extracting: train/labels/image00007_jpg.rf.f9127bf660b0ee12a3f428c77d42764d.txt  \n",
            " extracting: train/labels/image00011_jpg.rf.9d0821c00ad0e2583ed4ab6f55869c58.txt  \n",
            " extracting: train/labels/image00011_jpg.rf.d0a6b7118df689035431bdf883365d84.txt  \n",
            " extracting: train/labels/image00011_jpg.rf.fcfac5d185befb4b8a1afffffa01f194.txt  \n",
            " extracting: train/labels/image00012_jpg.rf.db6a2d5154395b9da5936bbd37e440a7.txt  \n",
            " extracting: train/labels/image00012_jpg.rf.df0e14a32b2073860aa96d179d624ab9.txt  \n",
            " extracting: train/labels/image00012_jpg.rf.e89755734783203beb777f691914cec6.txt  \n",
            " extracting: train/labels/image00014_jpg.rf.0eb3cc78742981ddcce21a953469c80b.txt  \n",
            " extracting: train/labels/image00014_jpg.rf.7abf8278677e15743b27d6e5217511e7.txt  \n",
            " extracting: train/labels/image00014_jpg.rf.b0d342e76ed379c4b9557cca27d3bc3a.txt  \n",
            " extracting: train/labels/image00015_jpg.rf.103b12e8fcb1ed2350a493bcd629d04f.txt  \n",
            " extracting: train/labels/image00015_jpg.rf.aa337ae11715e54490a3bd069ab6c574.txt  \n",
            " extracting: train/labels/image00015_jpg.rf.be11c2bf2952d9b1982bc21f5abb7ef0.txt  \n",
            " extracting: train/labels/image00020_jpg.rf.1a80bbd6c32bb2fb99dff014491554f0.txt  \n",
            " extracting: train/labels/image00020_jpg.rf.517a4d1023756952df531a77f492968d.txt  \n",
            " extracting: train/labels/image00020_jpg.rf.fe003b44f1c1132e39dc298c310b6a12.txt  \n",
            " extracting: train/labels/image00021_jpg.rf.001dc824808f6b3d6fc2b2594859f300.txt  \n",
            " extracting: train/labels/image00021_jpg.rf.0835001170fe72d4a7aa75c418fe39f9.txt  \n",
            " extracting: train/labels/image00021_jpg.rf.9760ae7f7a3d147cc4e191e71a4ed8fc.txt  \n",
            " extracting: train/labels/image00022_jpg.rf.5cb1326233466ee5da6a78048c4c06a6.txt  \n",
            " extracting: train/labels/image00022_jpg.rf.7d1eb5e135068d91c4322733cf71fe13.txt  \n",
            " extracting: train/labels/image00022_jpg.rf.86846816c0ee74c1b510d8a44edb2d24.txt  \n",
            " extracting: train/labels/image00028_jpg.rf.429d110cbf8caa734fe6863e288c053c.txt  \n",
            " extracting: train/labels/image00028_jpg.rf.923018f34af51b6efc0f568b91bcc582.txt  \n",
            " extracting: train/labels/image00028_jpg.rf.aad2b823091dabcce62767f0c8859fb1.txt  \n",
            " extracting: train/labels/image00029_jpg.rf.2d5bedd6a1a281fffa80f2e3dbc17da2.txt  \n",
            " extracting: train/labels/image00029_jpg.rf.4d9a5b4cbe44ca72d8dd83c5b0350439.txt  \n",
            " extracting: train/labels/image00029_jpg.rf.6afebc7c97db2a2badaab17890c3b786.txt  \n",
            " extracting: train/labels/image00030_jpg.rf.34a32fa30f773a6a739e366b5d0e01f4.txt  \n",
            " extracting: train/labels/image00030_jpg.rf.d9a6c54debb0c63649f6a6bd1de6c15d.txt  \n",
            " extracting: train/labels/image00030_jpg.rf.db8329b712154ad672e7d6c7c7d7f7b4.txt  \n",
            " extracting: train/labels/image00031_jpg.rf.608d154c6ac707693d27339e4025b70b.txt  \n",
            " extracting: train/labels/image00031_jpg.rf.6b59e9229e9e7eac735974718ac59109.txt  \n",
            " extracting: train/labels/image00031_jpg.rf.ae0162dc73238d0a40c695426f4aee20.txt  \n",
            " extracting: train/labels/image00032_jpg.rf.15de5b9893390160a9ecf96549b3d1ae.txt  \n",
            " extracting: train/labels/image00032_jpg.rf.2ba99a767b8dfef712db69abc7a5ad81.txt  \n",
            " extracting: train/labels/image00032_jpg.rf.6e6841b7fb539de764ff966451c81a09.txt  \n",
            " extracting: train/labels/image00034_jpg.rf.09434d76994fef58b3e321184d2339e9.txt  \n",
            " extracting: train/labels/image00034_jpg.rf.148f561f3550511339de3068d4394db8.txt  \n",
            " extracting: train/labels/image00034_jpg.rf.e96d569279019cfa5e04bfab4795e62e.txt  \n",
            " extracting: train/labels/image00042_jpg.rf.3cf7e86e34c40ab11238c7a87327ca2b.txt  \n",
            " extracting: train/labels/image00042_jpg.rf.71fe47df375a040a365823521bea8af8.txt  \n",
            " extracting: train/labels/image00042_jpg.rf.848700d299e28b67a93c64275101b9e7.txt  \n",
            " extracting: train/labels/image00043_jpg.rf.6ac40faa4804c8acd102abe04957a2ec.txt  \n",
            " extracting: train/labels/image00043_jpg.rf.72398b5c9becd52fb15cf1b504d7dc08.txt  \n",
            " extracting: train/labels/image00043_jpg.rf.c64879578dcd78cd186b91aeaa960f63.txt  \n",
            " extracting: train/labels/image00044_jpg.rf.310ab7265b9f4345c4a467ae250a5854.txt  \n",
            " extracting: train/labels/image00044_jpg.rf.b2e7e87e35365953d3ced55ee14f1454.txt  \n",
            " extracting: train/labels/image00044_jpg.rf.fffa73ed8c696dc2275f896d2f1b3b89.txt  \n",
            " extracting: train/labels/image00045_jpg.rf.761164e619abae97db9c52d807a90346.txt  \n",
            " extracting: train/labels/image00045_jpg.rf.e1a877ebe6a087547e7313f668c8c41a.txt  \n",
            " extracting: train/labels/image00045_jpg.rf.ea33bac65d53bcfc8667c5d09aab7bb4.txt  \n",
            " extracting: train/labels/image00046_jpg.rf.488f536252ff40397ebdf8dcedbfea16.txt  \n",
            " extracting: train/labels/image00046_jpg.rf.b7630ba67d005540d6c5d421d1c60c9f.txt  \n",
            " extracting: train/labels/image00046_jpg.rf.ed4223406951461fa6248ab6c98286eb.txt  \n",
            " extracting: train/labels/image00047_jpg.rf.223a69371753989538648acacaee95e9.txt  \n",
            " extracting: train/labels/image00047_jpg.rf.9872dd49d6573867f94a6d5e08091b9c.txt  \n",
            " extracting: train/labels/image00047_jpg.rf.f0692235c036309b722507ac485b14b3.txt  \n",
            " extracting: train/labels/image00048_jpg.rf.12e6062f02caf095cb7362073cee3d6f.txt  \n",
            " extracting: train/labels/image00048_jpg.rf.4e817edc0de55d271eb0330e796ff84c.txt  \n",
            " extracting: train/labels/image00048_jpg.rf.c543a77ae17157dd9c14a9494ace947a.txt  \n",
            " extracting: train/labels/image00049_jpg.rf.05294c4cb45b74c753ad075b9424dbf4.txt  \n",
            " extracting: train/labels/image00049_jpg.rf.9c403aa7a30b4886e84f50a65deb114b.txt  \n",
            " extracting: train/labels/image00049_jpg.rf.caeaa91c38865e3eb54e7c8efe2d93cb.txt  \n",
            " extracting: train/labels/image00050_jpg.rf.61bb5a7be2f3a9fc8d43f2d9ef8c1e9d.txt  \n",
            " extracting: train/labels/image00050_jpg.rf.66f2a5fe2fbb5213f008573f59704ae4.txt  \n",
            " extracting: train/labels/image00050_jpg.rf.90ce0ce6b1c1f18afe85cd2fffdade80.txt  \n",
            " extracting: train/labels/image00052_jpg.rf.604ab91b7d64a1ed227447074720afb5.txt  \n",
            " extracting: train/labels/image00052_jpg.rf.dcb5edf8059d51e3d19832db9aa82225.txt  \n",
            " extracting: train/labels/image00052_jpg.rf.e34024f1d5146442a0917c48d3711f4c.txt  \n",
            " extracting: train/labels/image00053_jpg.rf.cb87e340b0657d77ae6115cad1919611.txt  \n",
            " extracting: train/labels/image00053_jpg.rf.f49c82a71af8cda4769dab54bcce29bd.txt  \n",
            " extracting: train/labels/image00054_jpg.rf.8f5860d63e7e37fc70bc0b4938fde935.txt  \n",
            " extracting: train/labels/image00054_jpg.rf.9753967fc0b423e4a118d7032ba9d2d2.txt  \n",
            " extracting: train/labels/image00054_jpg.rf.e33f537ffe5e3942b8a44ecaab469202.txt  \n",
            " extracting: train/labels/image00055_jpg.rf.230a08c3b25f12bb1b467620385077c6.txt  \n",
            " extracting: train/labels/image00055_jpg.rf.59b19c9bccd8a16ddf404ff22b932007.txt  \n",
            " extracting: train/labels/image00055_jpg.rf.bff9f9ae89df26caeb742eb7bbbe1d76.txt  \n",
            " extracting: train/labels/image00056_jpg.rf.26a7aa3a12b14d708ba606fce2d28986.txt  \n",
            " extracting: train/labels/image00056_jpg.rf.a2d48cfa924ebe381edf59f77bac2702.txt  \n",
            " extracting: train/labels/image00056_jpg.rf.d9830603a1a8f822ce029ecbb4d35966.txt  \n",
            " extracting: train/labels/image00057_jpg.rf.43d4a48c6260e8afdb0e100224792f15.txt  \n",
            " extracting: train/labels/image00057_jpg.rf.61beb3af929ae589d419a049e7395e4a.txt  \n",
            " extracting: train/labels/image00057_jpg.rf.f6b9779e28ec066f8adc9123acf2bd3f.txt  \n",
            " extracting: train/labels/image00058_jpg.rf.6fca7240e7e18bdccbd6d5399c561e77.txt  \n",
            " extracting: train/labels/image00058_jpg.rf.80b6610ec75691114e855ab830aff68a.txt  \n",
            " extracting: train/labels/image00058_jpg.rf.fb2bb5edafeb217c84957aa5c32b121f.txt  \n",
            " extracting: train/labels/image00060_jpg.rf.6cbf2004d28b8cf33f2fafa3d440cb22.txt  \n",
            " extracting: train/labels/image00060_jpg.rf.a66c8718e1ed319e3056bc350d2f4b1f.txt  \n",
            " extracting: train/labels/image00060_jpg.rf.c2b1eea61f16c983f4a29297bb995ac5.txt  \n",
            " extracting: train/labels/image00062_jpg.rf.3e76d71a1cac150ef2c7976604511d35.txt  \n",
            " extracting: train/labels/image00062_jpg.rf.ab26a7bd6ce467c154bcb5f06c523809.txt  \n",
            " extracting: train/labels/image00062_jpg.rf.bed2f936eefad0dda2f0705e81c6270c.txt  \n",
            " extracting: train/labels/image00063_jpg.rf.a2e37641844340d6d7cff642172e4c90.txt  \n",
            " extracting: train/labels/image00063_jpg.rf.d02b0c12679a7f7b4e0c0cccdc61fa19.txt  \n",
            " extracting: train/labels/image00063_jpg.rf.d043f4e21a21d0177c0256cd14016302.txt  \n",
            " extracting: train/labels/image00064_jpg.rf.37e9439cedefcdb55c475eb772a7cbc7.txt  \n",
            " extracting: train/labels/image00064_jpg.rf.3a721a20cc9c1a3c1d3012d201d25273.txt  \n",
            " extracting: train/labels/image00064_jpg.rf.faeecf80ed5c05da407271bfb13b8596.txt  \n",
            " extracting: train/labels/image00066_jpg.rf.718367a673abbfdacbc79fc290639f11.txt  \n",
            " extracting: train/labels/image00066_jpg.rf.8dc21eba561847ed2bbd81c524f643f9.txt  \n",
            " extracting: train/labels/image00066_jpg.rf.ae6d13712a605cb480d28a7a35958dc8.txt  \n",
            " extracting: train/labels/image00068_jpg.rf.3cc50c5e4344286893f8bbcabf215813.txt  \n",
            " extracting: train/labels/image00068_jpg.rf.a6aca8eb95826e0a182562953587d634.txt  \n",
            " extracting: train/labels/image00068_jpg.rf.d20b590dc5953ca2a4f07ef6c5342d87.txt  \n",
            " extracting: train/labels/image00069_jpg.rf.14918357eddbc051a7164b1e076853c7.txt  \n",
            " extracting: train/labels/image00069_jpg.rf.dd118fd4286596f032aa40864bfa6493.txt  \n",
            " extracting: train/labels/image00069_jpg.rf.e494f226de7c8b032a1d7e5429328de0.txt  \n",
            " extracting: train/labels/image00070_jpg.rf.268cbc051b419e66c77a274f609bd2d2.txt  \n",
            " extracting: train/labels/image00070_jpg.rf.c9bb65f79914567c47597a47f5db757d.txt  \n",
            " extracting: train/labels/image00070_jpg.rf.e254dc05d6c1fc1284bef618cbd32578.txt  \n",
            " extracting: train/labels/image00072_jpg.rf.3f834afd41ed91a21a8abfc897237110.txt  \n",
            " extracting: train/labels/image00072_jpg.rf.89732d03d3de8c93f463dd364b3622b4.txt  \n",
            " extracting: train/labels/image00072_jpg.rf.9af08738d0d83c8f4b62c1413232de99.txt  \n",
            " extracting: train/labels/image00074_jpg.rf.d14b49f060b5d2693cee466f6297e29f.txt  \n",
            " extracting: train/labels/image00074_jpg.rf.d99b4fd9ab7f51349fbc33097c7ef38d.txt  \n",
            " extracting: train/labels/image00074_jpg.rf.ee9a2eed5a9fcea9105b22052d9c3c67.txt  \n",
            " extracting: train/labels/image00077_jpg.rf.0ad9078beb71bfa0a4cea03f2cacba2f.txt  \n",
            " extracting: train/labels/image00077_jpg.rf.69b666f079b6bffbfc7713b5a983ce5f.txt  \n",
            " extracting: train/labels/image00077_jpg.rf.99f3f0a8f85b1bdb43a97d1f34570a2d.txt  \n",
            " extracting: train/labels/image00078_jpg.rf.132dc0c6d186e51a40a82180b6de7e48.txt  \n",
            " extracting: train/labels/image00078_jpg.rf.9ef5bdcf4c52e095ada80eef6980ea85.txt  \n",
            " extracting: train/labels/image00078_jpg.rf.fd51a16217bc630e2d7f260b699440b0.txt  \n",
            " extracting: train/labels/image00079_jpg.rf.1b64a0af1a032d54ee6558d185163e70.txt  \n",
            " extracting: train/labels/image00079_jpg.rf.34112be57cc6887880fd16260d7b1207.txt  \n",
            " extracting: train/labels/image00079_jpg.rf.4fb67f00d321e57638786263b6f0ec95.txt  \n",
            " extracting: train/labels/image00080_jpg.rf.2a5903c56b269dd7e8e4f1d115e5949d.txt  \n",
            " extracting: train/labels/image00080_jpg.rf.797a80a8cad13b9b53bdb339c48b2771.txt  \n",
            " extracting: train/labels/image00080_jpg.rf.7a86d96d85a764e5ab832c1137e1d91a.txt  \n",
            " extracting: train/labels/image00081_jpg.rf.761483926337289c0b83f8cbb2644492.txt  \n",
            " extracting: train/labels/image00081_jpg.rf.81140ead87bf70d07349978b61d49cb8.txt  \n",
            " extracting: train/labels/image00081_jpg.rf.eda675571a27068daa8209b575741aad.txt  \n",
            " extracting: train/labels/image00084_jpg.rf.5ff77343f9e95d6ed00c80c5290b7d2c.txt  \n",
            " extracting: train/labels/image00084_jpg.rf.d2672c03ca8499a2135808505c233432.txt  \n",
            " extracting: train/labels/image00084_jpg.rf.f20e7147baa23add3785eb322fb82da3.txt  \n",
            " extracting: train/labels/image00087_jpg.rf.09f3af2bd624d240bae843a6d448715b.txt  \n",
            " extracting: train/labels/image00087_jpg.rf.89a6918148d8ad4e1e819eefbb052881.txt  \n",
            " extracting: train/labels/image00087_jpg.rf.da9c9ea67739be8e3953691edd7c44c3.txt  \n",
            " extracting: train/labels/image00089_jpg.rf.374549254bceeef92fe0bff0bc581df9.txt  \n",
            " extracting: train/labels/image00089_jpg.rf.7fde994106818e9104f0557096dce449.txt  \n",
            " extracting: train/labels/image00089_jpg.rf.b0b9dc7bdd35d3be35686ee082b8d98b.txt  \n",
            " extracting: train/labels/image00092_jpg.rf.329df9c6c795100458e05af343520ff4.txt  \n",
            " extracting: train/labels/image00092_jpg.rf.4cae4569a3e5631bb45c53c1d710d878.txt  \n",
            " extracting: train/labels/image00092_jpg.rf.b67b3c5714de89228d355d31087bac51.txt  \n",
            " extracting: train/labels/image00094_jpg.rf.07bf315a5ba9a76f55371f331d3ec3b4.txt  \n",
            " extracting: train/labels/image00094_jpg.rf.0e63da2873e06c29ff01cf4b1ffb2236.txt  \n",
            " extracting: train/labels/image00094_jpg.rf.fdfbc3eb89c2431dc948f203197f4d85.txt  \n",
            " extracting: train/labels/image00095_jpg.rf.5324c2c2fe7184d006675597a0189e66.txt  \n",
            " extracting: train/labels/image00095_jpg.rf.61f42d63cac84210960eefdead1c3083.txt  \n",
            " extracting: train/labels/image00095_jpg.rf.84d0ccc1e958e077b32cc08868f52e4e.txt  \n",
            " extracting: train/labels/image00097_jpg.rf.202203601111918b11831c8acf47c022.txt  \n",
            " extracting: train/labels/image00097_jpg.rf.286d6bafd7e3d8e3628492f75c77f7fe.txt  \n",
            " extracting: train/labels/image00097_jpg.rf.953b681dff6bb1c0c74e8b083165d7ea.txt  \n",
            " extracting: train/labels/image00098_jpg.rf.4ed56e19548e2b985dc8f34192cc8c2a.txt  \n",
            " extracting: train/labels/image00098_jpg.rf.e6a776d6fd5ddfddcb3faf80e78ec93c.txt  \n",
            " extracting: train/labels/image00098_jpg.rf.ed93c14d06f61f98573a0ffa009001ca.txt  \n",
            " extracting: train/labels/image00099_jpg.rf.7dfb5379bdf5c2fcf0f0b674e3c93939.txt  \n",
            " extracting: train/labels/image00099_jpg.rf.a4b61a6ec9a4de2c7d7dde875d38d982.txt  \n",
            " extracting: train/labels/image00099_jpg.rf.df6d9f04f93698fe7df8fd43f09aa663.txt  \n",
            " extracting: train/labels/image00100_jpg.rf.3f6b33f76482335cfcfef4b67afe021c.txt  \n",
            " extracting: train/labels/image00100_jpg.rf.4a06346e5ad1d606f5c4ef5c8ba201be.txt  \n",
            " extracting: train/labels/image00100_jpg.rf.e23d9c4f633500b4b8eac44a522353c3.txt  \n",
            " extracting: train/labels/image00101_jpg.rf.263587a58395d9db1ceb783b5c2f45a1.txt  \n",
            " extracting: train/labels/image00101_jpg.rf.54f853f7b30d481e89e90c1a3956287c.txt  \n",
            " extracting: train/labels/image00101_jpg.rf.669acfe10ab9ead4473b147548ff1531.txt  \n",
            " extracting: train/labels/image00102_jpg.rf.342b979cdf0df4926adac5af4b33bc55.txt  \n",
            " extracting: train/labels/image00102_jpg.rf.7cfa8aeefcd39bb58c04d7c5dad1b7d3.txt  \n",
            " extracting: train/labels/image00102_jpg.rf.c29bb3959193eeca1cddf726cfed66bc.txt  \n",
            " extracting: train/labels/image00107_jpg.rf.9096cf55888a80ea7be9163cb57ceadc.txt  \n",
            " extracting: train/labels/image00107_jpg.rf.915c0ac9e3f3c922017d79dbb77b2ee3.txt  \n",
            " extracting: train/labels/image00107_jpg.rf.f3d5cac5e9580aac15239972cf065407.txt  \n",
            " extracting: train/labels/image00110_jpg.rf.063b59badda5026e6174b43755acba39.txt  \n",
            " extracting: train/labels/image00110_jpg.rf.47b396b09b5ae41d9b3a62762931631c.txt  \n",
            " extracting: train/labels/image00110_jpg.rf.d23b13356e16c4bd5c5f52b3e3764083.txt  \n",
            " extracting: train/labels/image00111_jpg.rf.7e0d262874f135dbbd18a17e5cd77f0a.txt  \n",
            " extracting: train/labels/image00111_jpg.rf.866308d1bc53539d2ac99fd3f9e3167e.txt  \n",
            " extracting: train/labels/image00111_jpg.rf.dc35ba163f25b46ad8eec3f4233d7282.txt  \n",
            " extracting: train/labels/image00113_jpg.rf.14d5cc20ca9ace774c431b17d4a8f6d6.txt  \n",
            " extracting: train/labels/image00113_jpg.rf.424c68651394c1fc5434357cabbdde17.txt  \n",
            " extracting: train/labels/image00113_jpg.rf.83478a51da921ba228df84cfbbabc2ed.txt  \n",
            " extracting: train/labels/image00114_jpg.rf.960a5d64d3c28947cb2dc7f5e6462c3b.txt  \n",
            " extracting: train/labels/image00114_jpg.rf.a3df099adb6c7464c66b1767cc3cc8df.txt  \n",
            " extracting: train/labels/image00114_jpg.rf.f067c219de0a7c6f2aa2689246397dcf.txt  \n",
            " extracting: train/labels/image00115_jpg.rf.3533973178fb3b175de5dc365f849d3e.txt  \n",
            " extracting: train/labels/image00115_jpg.rf.a1e7ad4c1f16348ca371ec0ac457dff3.txt  \n",
            " extracting: train/labels/image00115_jpg.rf.b754207d67e847e505a1b39821ec7174.txt  \n",
            " extracting: train/labels/image00121_jpg.rf.0128068b622f883c3db92d53caf67abf.txt  \n",
            " extracting: train/labels/image00121_jpg.rf.300950f63ca50c76e00284507efc57e0.txt  \n",
            " extracting: train/labels/image00121_jpg.rf.ea149c62bd7fc5f3f54ba21502ee969f.txt  \n",
            " extracting: train/labels/image00124_jpg.rf.675b0a3664830ed54734ebeb297d6d20.txt  \n",
            " extracting: train/labels/image00124_jpg.rf.c66e0d7f7ca12190b035d3311f687cc9.txt  \n",
            " extracting: train/labels/image00124_jpg.rf.d55e5aa9963071b698dc14a768058b53.txt  \n",
            " extracting: train/labels/image00125_jpg.rf.56ba72c987a1b4fec7a943b713cbd79e.txt  \n",
            " extracting: train/labels/image00125_jpg.rf.93575f39a3b5da81f0ac5bfae7415c99.txt  \n",
            " extracting: train/labels/image00125_jpg.rf.d0276b259b74bfc71e3569681268dacc.txt  \n",
            " extracting: train/labels/image00126_jpg.rf.1c4d5ccde282bca708130c635821b216.txt  \n",
            " extracting: train/labels/image00126_jpg.rf.6ae69372eb0ac2bfac753f82c9c9dca4.txt  \n",
            " extracting: train/labels/image00126_jpg.rf.80c7ef86e9d167daa021384a08f96094.txt  \n",
            " extracting: train/labels/image00127_jpg.rf.2e57c714e93aea19fb4edff46ff822a6.txt  \n",
            " extracting: train/labels/image00127_jpg.rf.47b166c95a3e1e7f14297a3b6735eb21.txt  \n",
            " extracting: train/labels/image00127_jpg.rf.f1663c99d799f32ba8888510f65570e3.txt  \n",
            " extracting: train/labels/image00128_jpg.rf.3c9e26dc080411f209886459a0d1225d.txt  \n",
            " extracting: train/labels/image00128_jpg.rf.9d262ce7edcfd71a9a80edee08e43bd1.txt  \n",
            " extracting: train/labels/image00128_jpg.rf.f9174defeace57dc0d6cfc3a9a121537.txt  \n",
            " extracting: train/labels/image00129_jpg.rf.0a446669a33697d2b9aabf360989fe2e.txt  \n",
            " extracting: train/labels/image00129_jpg.rf.3fa59e1e43941618f82847b206656173.txt  \n",
            " extracting: train/labels/image00129_jpg.rf.b90f2c08909f2b0c9123e1874ed72ee0.txt  \n",
            " extracting: train/labels/image00131_jpg.rf.4954bb32bec6f9d94e2e2e692a5ba559.txt  \n",
            " extracting: train/labels/image00131_jpg.rf.f69ba503cdd2b16c1400538d897809fe.txt  \n",
            " extracting: train/labels/image00131_jpg.rf.f6f1c75d116eab3611753a24732b6f86.txt  \n",
            " extracting: train/labels/image00133_jpg.rf.41178856618c9109587f7839b8167296.txt  \n",
            " extracting: train/labels/image00133_jpg.rf.65538ae6fcd19c97591bef7af785b3df.txt  \n",
            " extracting: train/labels/image00133_jpg.rf.d82676b85400136902e15ce2e5ec2047.txt  \n",
            " extracting: train/labels/image00134_jpg.rf.1e0529bb8693fc6c7ab48321293e62f4.txt  \n",
            " extracting: train/labels/image00134_jpg.rf.4d63747581767d6c9982de2c7756e5e1.txt  \n",
            " extracting: train/labels/image00134_jpg.rf.d6d641d5aafacf57c94afd963ea2179f.txt  \n",
            " extracting: train/labels/image00135_jpg.rf.37eb2926c923725681c2c23d7bb80981.txt  \n",
            " extracting: train/labels/image00135_jpg.rf.61921b991f01d17300f0f7b1d79338ff.txt  \n",
            " extracting: train/labels/image00135_jpg.rf.e6d152c67b9523e10d358b60b9de3912.txt  \n",
            " extracting: train/labels/image00136_jpg.rf.514207a06d8a746ea33b54809365a191.txt  \n",
            " extracting: train/labels/image00136_jpg.rf.545f06716727099e414d4f7662f5d182.txt  \n",
            " extracting: train/labels/image00136_jpg.rf.bf25687cc37e0fab7cb49ca9caabeb10.txt  \n",
            " extracting: train/labels/image00139_jpg.rf.37540fe27b7fdcf6d313e0a812e368ad.txt  \n",
            " extracting: train/labels/image00139_jpg.rf.a2e210a9dd11a80be9acb3c2b1e9f2b1.txt  \n",
            " extracting: train/labels/image00139_jpg.rf.d1fa59608f113df9c36afb055fab8283.txt  \n",
            " extracting: train/labels/image00142_jpg.rf.4e01bc5aba9db107ecc53f50ac9834e7.txt  \n",
            " extracting: train/labels/image00142_jpg.rf.8bd68e06b85339906bc36a84aea9fac6.txt  \n",
            " extracting: train/labels/image00142_jpg.rf.de257db43cc808a51772ae96fb9a3e54.txt  \n",
            " extracting: train/labels/image00143_jpg.rf.a7334c498b1f883be70978e224073651.txt  \n",
            " extracting: train/labels/image00143_jpg.rf.b6524587437079c3bdb3165e2aeb1687.txt  \n",
            " extracting: train/labels/image00143_jpg.rf.cd41732f15d558b2d4532167157f9482.txt  \n",
            " extracting: train/labels/image00144_jpg.rf.324f3a375f88c0314ace72fd3cbe3533.txt  \n",
            " extracting: train/labels/image00144_jpg.rf.743629e9c71a63e6141f34cc8cbf3cb6.txt  \n",
            " extracting: train/labels/image00144_jpg.rf.9fc2ad05218cd8a59fc1b43a0d2e42a8.txt  \n",
            " extracting: train/labels/image00145_jpg.rf.3eaa6407ab5ff406d9b978d25fa48bbc.txt  \n",
            " extracting: train/labels/image00145_jpg.rf.677d60b59d1b67ddc86e52825d4c9146.txt  \n",
            " extracting: train/labels/image00145_jpg.rf.b718f7de480039bfc3b1de6e1640a76a.txt  \n",
            " extracting: train/labels/image00148_jpg.rf.7372e58eabf9edf8d8f3991e0f763164.txt  \n",
            " extracting: train/labels/image00148_jpg.rf.9ed025b8e095ecb96a986ecdc99b915a.txt  \n",
            " extracting: train/labels/image00148_jpg.rf.f515f66667ec7a515411568d1b23ed2e.txt  \n",
            " extracting: train/labels/image00149_jpg.rf.07f5350f28ecba0479532ffb0a1a0757.txt  \n",
            " extracting: train/labels/image00149_jpg.rf.4a3acfcc0661a5fb592c0bf39395d282.txt  \n",
            " extracting: train/labels/image00149_jpg.rf.6f02580bcad4adfe64c713ad13632577.txt  \n",
            " extracting: train/labels/image00150_jpg.rf.03ee786da8e89b89a9d1989f20b46e79.txt  \n",
            " extracting: train/labels/image00150_jpg.rf.17ef26db345695f98099676cebaacbba.txt  \n",
            " extracting: train/labels/image00150_jpg.rf.e996a65df0abf553cf9f3dedfe58548f.txt  \n",
            " extracting: train/labels/image00151_jpg.rf.27fb0631a6e055e7172ab6a32f2c6fd8.txt  \n",
            " extracting: train/labels/image00151_jpg.rf.3176f5d51160e465a22eae5ee1203753.txt  \n",
            " extracting: train/labels/image00151_jpg.rf.cc96863a59ecfedf0e84b5f6e2c9f5b7.txt  \n",
            " extracting: train/labels/image00152_jpg.rf.44dbbd1a06328c13206389279832991a.txt  \n",
            " extracting: train/labels/image00152_jpg.rf.82284619d70f95eec46026fa01794379.txt  \n",
            " extracting: train/labels/image00152_jpg.rf.b53f81e742c676b488b15cfc3ca6078c.txt  \n",
            " extracting: train/labels/image00153_jpg.rf.417647f69e42f13bc8dd8d3056fbeef3.txt  \n",
            " extracting: train/labels/image00153_jpg.rf.4e69feaa43acd537e8cd97f76b4d4649.txt  \n",
            " extracting: train/labels/image00153_jpg.rf.ccfcbdb42b12e382613830c3e67cd1cd.txt  \n",
            " extracting: train/labels/image00154_jpg.rf.0f4f78d888fcb050a9ce31f18685b6ad.txt  \n",
            " extracting: train/labels/image00154_jpg.rf.622c309853b93e9ea71dc9814618b8c8.txt  \n",
            " extracting: train/labels/image00154_jpg.rf.b48383973ba362925012174650ce470e.txt  \n",
            " extracting: train/labels/image00155_jpg.rf.506a4c501d8e1e8bef9c0b2e1a72ddc5.txt  \n",
            " extracting: train/labels/image00155_jpg.rf.ae4f69f51c70a59c407d9e9872ac1ed0.txt  \n",
            " extracting: train/labels/image00155_jpg.rf.b8cba0a9b592390db4d8b9396bc482fc.txt  \n",
            " extracting: train/labels/image00157_jpg.rf.87271604c16b10a9b9743c79e1059703.txt  \n",
            " extracting: train/labels/image00157_jpg.rf.cb7cb5ff7a2bed5684d20efd22dfdd5a.txt  \n",
            " extracting: train/labels/image00157_jpg.rf.e041c05614c1c031ffb02714f2d6bfd5.txt  \n",
            " extracting: train/labels/image00158_jpg.rf.2440203aa38c2d9b37e25ea6fab10343.txt  \n",
            " extracting: train/labels/image00158_jpg.rf.6228558198b566e951d0d3919dcbd3b7.txt  \n",
            " extracting: train/labels/image00158_jpg.rf.d6d7c734d01ef9a3a6328bfec55d0a73.txt  \n",
            " extracting: train/labels/image00161_jpg.rf.363cc8c12aa2991146c026a0c6916f5e.txt  \n",
            " extracting: train/labels/image00161_jpg.rf.3d0db950a170afed77892b552e9fd4ff.txt  \n",
            " extracting: train/labels/image00161_jpg.rf.eb6e9366a3a11b9de25ca0b5d3fa8473.txt  \n",
            " extracting: train/labels/image00162_jpg.rf.395885780a82137178bdd2d420c1c9bb.txt  \n",
            " extracting: train/labels/image00162_jpg.rf.ac4297d126c9bb9359cef9edab8b16fb.txt  \n",
            " extracting: train/labels/image00162_jpg.rf.fb7ee204f9fad39f27039b2553bda4e1.txt  \n",
            " extracting: train/labels/image00163_jpg.rf.1981d99f705f74a7bb898c58d35cc590.txt  \n",
            " extracting: train/labels/image00163_jpg.rf.71a1d0ace93109a7ddcb96369e0ef338.txt  \n",
            " extracting: train/labels/image00163_jpg.rf.e11449d2cb10ea0cc1da106ffe808938.txt  \n",
            " extracting: train/labels/image00167_jpg.rf.31f8d800ec554cea18b4fd3a9db57735.txt  \n",
            " extracting: train/labels/image00167_jpg.rf.a69f0c037904e7e9ab7a1ba97580c5c9.txt  \n",
            " extracting: train/labels/image00167_jpg.rf.d7697125b4512feea67ae8f2f3d22fba.txt  \n",
            " extracting: train/labels/image00168_jpg.rf.1429e39f7278d95862fd135690350e21.txt  \n",
            " extracting: train/labels/image00168_jpg.rf.31ac8cb70809ee6613ff3d2c572a1d5c.txt  \n",
            " extracting: train/labels/image00168_jpg.rf.4ddc6f4e535eaab78efddcefefe65a99.txt  \n",
            " extracting: train/labels/image00172_jpg.rf.17e8932c68d380cc533e59438c5b1874.txt  \n",
            " extracting: train/labels/image00172_jpg.rf.9dd339746946a9720043dd0490edcca4.txt  \n",
            " extracting: train/labels/image00172_jpg.rf.f6c9e093c182ca05d39dcff06287e12b.txt  \n",
            " extracting: train/labels/image00174_jpg.rf.350d0788a7c3bb6af49c70f09ae263a2.txt  \n",
            " extracting: train/labels/image00174_jpg.rf.40a35e0ad268e283f5249ba4a5ce44a6.txt  \n",
            " extracting: train/labels/image00174_jpg.rf.75851729a34a13408a8c28d75dba2b4a.txt  \n",
            " extracting: train/labels/image00183_jpg.rf.26c7ba411b1c52f592c3da5f91c03b16.txt  \n",
            " extracting: train/labels/image00183_jpg.rf.e8936a0e674f4f5371db003306bd135f.txt  \n",
            " extracting: train/labels/image00183_jpg.rf.ff2fd8ff7c599dfefb4af96d340ca1b6.txt  \n",
            " extracting: train/labels/image00188_jpg.rf.2c57f65fbd82b97cb3e5eeb13b98adf7.txt  \n",
            " extracting: train/labels/image00188_jpg.rf.857d4b79da467ffbc833aad62315a65c.txt  \n",
            " extracting: train/labels/image00188_jpg.rf.ebca8a9238a74931f7f44dc45288e645.txt  \n",
            " extracting: train/labels/image00189_jpg.rf.1dbf696c8b8f8bfca2485e6e1ae2225f.txt  \n",
            " extracting: train/labels/image00189_jpg.rf.4483661405301ce109184004f75e67b4.txt  \n",
            " extracting: train/labels/image00189_jpg.rf.d1592ac299dc19a9ccfe7513b9f79f57.txt  \n",
            " extracting: train/labels/image00191_jpg.rf.1635db86fe6164223b324c3acb5b76ae.txt  \n",
            " extracting: train/labels/image00191_jpg.rf.a62494a0b288681cd99db9058b643e26.txt  \n",
            " extracting: train/labels/image00191_jpg.rf.fdd33b2150c35c29b4778b2d08cae711.txt  \n",
            " extracting: train/labels/image00192_jpg.rf.5e961e47914aef66b82c8f46043ad0d0.txt  \n",
            " extracting: train/labels/image00192_jpg.rf.6c28a704e353a79951bee9c0f6927283.txt  \n",
            " extracting: train/labels/image00192_jpg.rf.e3f679eb4346345ed3a02b101a9bfa84.txt  \n",
            " extracting: train/labels/image00196_jpg.rf.142b8e14e7e529cd2e16d5d7ab46c864.txt  \n",
            " extracting: train/labels/image00196_jpg.rf.1676c82a702d438078fcd3a7fb57d9e0.txt  \n",
            " extracting: train/labels/image00196_jpg.rf.a19541690f033ffa531e8e69d080f425.txt  \n",
            " extracting: train/labels/image00197_jpg.rf.458f4de0929e38fa31760052da335a42.txt  \n",
            " extracting: train/labels/image00197_jpg.rf.7d02e9a754718212638826289dc6b42f.txt  \n",
            " extracting: train/labels/image00197_jpg.rf.802310832ae3ec3506c49982abe0043a.txt  \n",
            " extracting: train/labels/image00198_jpg.rf.220187632eaae1cbf8a168c222747ddf.txt  \n",
            " extracting: train/labels/image00198_jpg.rf.4f2dd464323e697b9d4e4b44711daa7f.txt  \n",
            " extracting: train/labels/image00198_jpg.rf.b0ff53b78d8ee9094ded4965efc7fec2.txt  \n",
            " extracting: train/labels/image00199_jpg.rf.3448a426a2d02faf1592f8879019b2a4.txt  \n",
            " extracting: train/labels/image00199_jpg.rf.f432e5d3b8275142b778765dd6b1d049.txt  \n",
            " extracting: train/labels/image00199_jpg.rf.feed75619fa1ac8987de267fadda0ac9.txt  \n",
            " extracting: train/labels/image00200_jpg.rf.4ebe980446da5b42aa9b4d39fb8cbf58.txt  \n",
            " extracting: train/labels/image00200_jpg.rf.62dcf31603595c858c8104fe9581bff7.txt  \n",
            " extracting: train/labels/image00200_jpg.rf.fa112a1a76c66658166528b9d9b7942c.txt  \n",
            " extracting: train/labels/image00201_jpg.rf.244913183432c9c1042afbc614d96c85.txt  \n",
            " extracting: train/labels/image00201_jpg.rf.ddf05391a1c91f08a57f5551c904691b.txt  \n",
            " extracting: train/labels/image00201_jpg.rf.e098dce8cede65ab907ef61e4631d2de.txt  \n",
            " extracting: train/labels/image00207_jpg.rf.81206ec1e864c078b8f6dc6143d609ee.txt  \n",
            " extracting: train/labels/image00207_jpg.rf.aeb71f0e9a6933d8046a3032737cb33c.txt  \n",
            " extracting: train/labels/image00207_jpg.rf.d6bafcd0ddc7fcfa60a68ccdb1c8c824.txt  \n",
            " extracting: train/labels/image00208_jpg.rf.22855c8b66f4712c1617f4d79fdd4b7d.txt  \n",
            " extracting: train/labels/image00208_jpg.rf.9a589f9c0a7d409da2f161bd71013e57.txt  \n",
            " extracting: train/labels/image00208_jpg.rf.a2d8fdf736c15bae2ef6d17bfe7b2853.txt  \n",
            " extracting: train/labels/image00209_jpg.rf.195cf68437d18510acdb77d8d4a00938.txt  \n",
            " extracting: train/labels/image00209_jpg.rf.408abe78a1d9d7086c858643317f66db.txt  \n",
            " extracting: train/labels/image00209_jpg.rf.57eb0b847a08bee28f6f9dce3dd6139f.txt  \n",
            " extracting: train/labels/image00210_jpg.rf.134da08919d4bf569aeaf4a0f431933a.txt  \n",
            " extracting: train/labels/image00210_jpg.rf.9906cb99beef4444f983065905c0c752.txt  \n",
            " extracting: train/labels/image00210_jpg.rf.c5127a039f67551ce5c909b601d34f4d.txt  \n",
            " extracting: train/labels/image00211_jpg.rf.07654705bbd2db5a4e22d87f6343930d.txt  \n",
            " extracting: train/labels/image00211_jpg.rf.b0fbfc4ea887b24ec08383e4a4fa2131.txt  \n",
            " extracting: train/labels/image00211_jpg.rf.c6d9c5cf16930b1e84747e5ff0c45a4c.txt  \n",
            " extracting: train/labels/image00213_jpg.rf.4c166d46bfd5ff46329cf6202ebc5713.txt  \n",
            " extracting: train/labels/image00213_jpg.rf.92d05317966d9b508ea4fb530e434aa3.txt  \n",
            " extracting: train/labels/image00213_jpg.rf.d5a0dad2b4b4d251cf21366d95c47a6e.txt  \n",
            " extracting: train/labels/image00215_jpg.rf.40c936b4e1de47ecca016de77db94162.txt  \n",
            " extracting: train/labels/image00215_jpg.rf.ca58efe422bc6d66b7878d5769203f11.txt  \n",
            " extracting: train/labels/image00215_jpg.rf.fe7a362dc1f2deb4de13199b52d2ce41.txt  \n",
            " extracting: train/labels/image00216_jpg.rf.0f38cc40435dc99fe392f89ae3aba70e.txt  \n",
            " extracting: train/labels/image00216_jpg.rf.82d6899a0cf5fa0613136bb1fa7e2a14.txt  \n",
            " extracting: train/labels/image00216_jpg.rf.df66a6f73a3fe22b033d001ff242d483.txt  \n",
            " extracting: train/labels/image00219_jpg.rf.11fbf963ae0ef63dd9b46f130431e298.txt  \n",
            " extracting: train/labels/image00219_jpg.rf.a956ffbbf51fe7a5085b2b6339699fe3.txt  \n",
            " extracting: train/labels/image00219_jpg.rf.b8e8a5719bba4ddac8ab12153368de63.txt  \n",
            " extracting: train/labels/image00220_jpg.rf.22cd29d689c255f73b5ea3ca466a557e.txt  \n",
            " extracting: train/labels/image00220_jpg.rf.31e9c4c0a61c34e67abeb4f7fa5087e4.txt  \n",
            " extracting: train/labels/image00220_jpg.rf.d00fc6d4617f428b2e11f38e9a128d71.txt  \n",
            " extracting: train/labels/image00221_jpg.rf.03846aa8e0a01ca8c3e3a2b30d86095e.txt  \n",
            " extracting: train/labels/image00221_jpg.rf.6dd32fbf08a193c40526146d58c8e0e9.txt  \n",
            " extracting: train/labels/image00221_jpg.rf.c76091d0412d3c109e8e8b5c6a4e5e1e.txt  \n",
            " extracting: train/labels/image00222_jpg.rf.27e488e190db609b34fb61bc9b7066b1.txt  \n",
            " extracting: train/labels/image00222_jpg.rf.38b9903058cdd7008860c67ddca85dbe.txt  \n",
            " extracting: train/labels/image00222_jpg.rf.fd3e9b08d4303c0abaf2007860da509d.txt  \n",
            " extracting: train/labels/image00224_jpg.rf.0ec3a80b5654bb5297da590d1fe6c798.txt  \n",
            " extracting: train/labels/image00224_jpg.rf.caf8fc2720b6df53749f12cb184733e3.txt  \n",
            " extracting: train/labels/image00224_jpg.rf.e2272321f90013f60cbdd2c91d31fc39.txt  \n",
            " extracting: train/labels/image00225_jpg.rf.1881f56ec96e891c1de2d394e43fcfbb.txt  \n",
            " extracting: train/labels/image00225_jpg.rf.1de96559cdfcbaa4914a5f82d2708b83.txt  \n",
            " extracting: train/labels/image00225_jpg.rf.e1df1efdcb7f966455ec7ebb4520242b.txt  \n",
            " extracting: train/labels/image00226_jpg.rf.1fb8caebf5021edf0fd63df8ffd457d5.txt  \n",
            " extracting: train/labels/image00226_jpg.rf.284a1a41ca8ea7cf60774be10da69e0b.txt  \n",
            " extracting: train/labels/image00226_jpg.rf.c4253cf0da304c6528f3a92b124bbf4f.txt  \n",
            " extracting: train/labels/image00228_jpg.rf.1902f58399a934d9e81bd07e118fbf02.txt  \n",
            " extracting: train/labels/image00228_jpg.rf.a32df14542bde65715de60b4f17aeb28.txt  \n",
            " extracting: train/labels/image00228_jpg.rf.f9b7c47bbea3412fee31805d51769011.txt  \n",
            " extracting: train/labels/image00231_jpg.rf.04e2f073783c93831d93dccabf3109dd.txt  \n",
            " extracting: train/labels/image00231_jpg.rf.49b9fa8e4152275b72cbcda1a723ffc9.txt  \n",
            " extracting: train/labels/image00231_jpg.rf.61f3798242824a1d4b0e583ab551c957.txt  \n",
            " extracting: train/labels/image00234_jpg.rf.1592ef4cf53a194078f3205738beb3a2.txt  \n",
            " extracting: train/labels/image00234_jpg.rf.27ff4165e10b6394996107a2231f5ed1.txt  \n",
            " extracting: train/labels/image00234_jpg.rf.8f9eed4f0f0e7bf7cd86f869b2a7bcd1.txt  \n",
            " extracting: train/labels/image00235_jpg.rf.06bba0d632b8207a928d081ba4162860.txt  \n",
            " extracting: train/labels/image00235_jpg.rf.c60bdbc14cb37ca908f0e9e1f4608ab9.txt  \n",
            " extracting: train/labels/image00235_jpg.rf.c6b336b609a476ab136fea1afbb5b4da.txt  \n",
            " extracting: train/labels/image00236_jpg.rf.59262aa4dc80e0985b25a77f811b1153.txt  \n",
            " extracting: train/labels/image00236_jpg.rf.ad6dcd59e1cd94d3167a5a71d94aa159.txt  \n",
            " extracting: train/labels/image00236_jpg.rf.fbeddc786854a3bfa40111aab1f3cda3.txt  \n",
            " extracting: train/labels/image00237_jpg.rf.079d65dc6b81ec182dec20d93d3dae8a.txt  \n",
            " extracting: train/labels/image00237_jpg.rf.47d6df6c2177f7cd8453a69b55e82d0d.txt  \n",
            " extracting: train/labels/image00237_jpg.rf.f4eac79e992476106e56fc1219ff6a66.txt  \n",
            " extracting: train/labels/image00240_jpg.rf.0073ce164dcde89f3326b8cfc0754e9b.txt  \n",
            " extracting: train/labels/image00240_jpg.rf.0f1fa8e57e670ef70fcef227889602b1.txt  \n",
            " extracting: train/labels/image00240_jpg.rf.1ed3d9d88dacd503625b3600bf903ba6.txt  \n",
            " extracting: train/labels/image00241_jpg.rf.2c6c2f07da533cbb4266b08566bcb44e.txt  \n",
            " extracting: train/labels/image00241_jpg.rf.78c8e0de359353b9cf0e09a657dc657b.txt  \n",
            " extracting: train/labels/image00241_jpg.rf.8cf0daa1c19ccb33848d9dc6a5cd1265.txt  \n",
            " extracting: train/labels/image00242_jpg.rf.50c25c43d74cd7ffba365048f2f8129c.txt  \n",
            " extracting: train/labels/image00242_jpg.rf.74525910549779d1e99a4a030096d265.txt  \n",
            " extracting: train/labels/image00242_jpg.rf.c44005a8fc01c2efe4af7c235bfd5584.txt  \n",
            " extracting: train/labels/image00244_jpg.rf.5efe583dd1df6311a8da334107b46dde.txt  \n",
            " extracting: train/labels/image00244_jpg.rf.d48d12064fdadaab79a686cb457271bf.txt  \n",
            " extracting: train/labels/image00244_jpg.rf.e2806b64a097bca4c1d08f59708301f2.txt  \n",
            " extracting: train/labels/image00245_jpg.rf.5d3dc31d3fd2a12ee28c3d46886d092a.txt  \n",
            " extracting: train/labels/image00245_jpg.rf.5fbf6a8e97064e63e2ad6105ee225d93.txt  \n",
            " extracting: train/labels/image00245_jpg.rf.cee882bc2737ba9889a10e730c4823d5.txt  \n",
            " extracting: train/labels/image00248_jpg.rf.759533fdd6ac0b415a3b5bc4953fcb65.txt  \n",
            " extracting: train/labels/image00248_jpg.rf.82ef3662c8fbc51a6fe95dc7b7a2db98.txt  \n",
            " extracting: train/labels/image00248_jpg.rf.9760e2861a7d11c595b72e4d63e5e5ab.txt  \n",
            " extracting: train/labels/image00249_jpg.rf.00a20c2dd2aa7eb47425307b53791e2a.txt  \n",
            " extracting: train/labels/image00249_jpg.rf.01974a8ad25f103dc1de0f5395f2160a.txt  \n",
            " extracting: train/labels/image00249_jpg.rf.64993088c155fe6eb1df49cbff1a67ae.txt  \n",
            " extracting: train/labels/image00250_jpg.rf.2f44319766cc0eb4fae415c83db9c760.txt  \n",
            " extracting: train/labels/image00250_jpg.rf.afdb6cd676a0835bd70f16b7d4a4bac1.txt  \n",
            " extracting: train/labels/image00250_jpg.rf.cd25add74039299fabc072a831ff58e1.txt  \n",
            " extracting: train/labels/image00252_jpg.rf.8cb59dc4516f6f58bf53858b520f0287.txt  \n",
            " extracting: train/labels/image00252_jpg.rf.9251401beb0aa734216d7098eb99b150.txt  \n",
            " extracting: train/labels/image00252_jpg.rf.e6469eb6984e256390c246710ea0653e.txt  \n",
            " extracting: train/labels/image00254_jpg.rf.13113bd75bc1d8ac6f9b0fd751011775.txt  \n",
            " extracting: train/labels/image00254_jpg.rf.cfd055aaa45b6ab1af73d774183090b3.txt  \n",
            " extracting: train/labels/image00254_jpg.rf.edc7fc9f4f0b1d2bf04f85ccab0d8047.txt  \n",
            " extracting: train/labels/image00261_jpg.rf.0f8f028792959b65869d47bcf89879c7.txt  \n",
            " extracting: train/labels/image00261_jpg.rf.5640ababe17ba6091c8b8af7c8b38ad4.txt  \n",
            " extracting: train/labels/image00261_jpg.rf.77b9955418e7daae8805d06049d5f747.txt  \n",
            " extracting: train/labels/image00262_jpg.rf.393683022ad687fbff98836982d576d4.txt  \n",
            " extracting: train/labels/image00262_jpg.rf.45fb34f4825a278e87436ffa260c4f48.txt  \n",
            " extracting: train/labels/image00262_jpg.rf.ebbdf2c170e04565b781f6165496df4e.txt  \n",
            " extracting: train/labels/image00263_jpg.rf.2fa814ccac094731f85a3ffd0863880f.txt  \n",
            " extracting: train/labels/image00263_jpg.rf.8597bdbc06de486b592eb6135700898f.txt  \n",
            " extracting: train/labels/image00263_jpg.rf.c5e01513beae1ca065303d386302903c.txt  \n",
            " extracting: train/labels/image00265_jpg.rf.6f0b8464f9c7bc3fe97676dc811cf715.txt  \n",
            " extracting: train/labels/image00265_jpg.rf.bacccea1e595bfdcd566a93af0dc62a3.txt  \n",
            " extracting: train/labels/image00265_jpg.rf.f13bbf88947346b57b38e25dd8550fa9.txt  \n",
            " extracting: train/labels/image00266_jpg.rf.16862cb3dcd2824cfee3d441becc313e.txt  \n",
            " extracting: train/labels/image00266_jpg.rf.5d3c578e743a8088171c93979e34fe93.txt  \n",
            " extracting: train/labels/image00266_jpg.rf.d1bb435550773f2ed79d86057f8092fd.txt  \n",
            " extracting: train/labels/image00267_jpg.rf.15d0b6ec4d31e860515af56a3eeb78ff.txt  \n",
            " extracting: train/labels/image00267_jpg.rf.3c5844a3e819f0624e0351ee9c8b01b1.txt  \n",
            " extracting: train/labels/image00267_jpg.rf.a9e6caa7ea8ce04d9adafe5c35aa29bb.txt  \n",
            " extracting: train/labels/image00268_jpg.rf.b47d7770586e3c8fe4b3b8aaed9b42b8.txt  \n",
            " extracting: train/labels/image00268_jpg.rf.baa296ed52ae30e2e58b32c084adc7d7.txt  \n",
            " extracting: train/labels/image00268_jpg.rf.f0d0ea018e0ef74dff34ecac7b42a3d0.txt  \n",
            " extracting: train/labels/image00270_jpg.rf.a2b82987fdfc46253a5f15b3e16249cf.txt  \n",
            " extracting: train/labels/image00270_jpg.rf.b9d824a3912b28fb11081d3bfe7210e0.txt  \n",
            " extracting: train/labels/image00270_jpg.rf.f267b1af259ef218335523b14060517c.txt  \n",
            " extracting: train/labels/image00273_jpg.rf.304398f24534ecb3e352335955a79e29.txt  \n",
            " extracting: train/labels/image00273_jpg.rf.7b39186b359ac93d3ddb37f952738020.txt  \n",
            " extracting: train/labels/image00273_jpg.rf.98912f60be123b55053f0cb941340ef2.txt  \n",
            " extracting: train/labels/image00274_jpg.rf.510f92b5a284c1011e0e9c300e1ac89b.txt  \n",
            " extracting: train/labels/image00274_jpg.rf.95bdcd8948a3ff9b93ae5282474422be.txt  \n",
            " extracting: train/labels/image00274_jpg.rf.a5a1543d4d85db1fb0d162f76fd48c78.txt  \n",
            " extracting: train/labels/image00275_jpg.rf.48513a8beef8c43b6388948c7e6781f1.txt  \n",
            " extracting: train/labels/image00275_jpg.rf.a299ccf11df4f44e2e521dbc4d66f8fe.txt  \n",
            " extracting: train/labels/image00275_jpg.rf.fa2a2465fdb1a9500f219b7ffa5f03ce.txt  \n",
            " extracting: train/labels/image00276_jpg.rf.598afeaf4c3caffeb07bb3019db9a37b.txt  \n",
            " extracting: train/labels/image00276_jpg.rf.77d15fc4f02a797a841d6ece0d9cd34d.txt  \n",
            " extracting: train/labels/image00276_jpg.rf.fe10b7054c686d7c73aa9ac866b989db.txt  \n",
            " extracting: train/labels/image00277_jpg.rf.bcbe89ebd23866330d7fde41b3b6791b.txt  \n",
            " extracting: train/labels/image00277_jpg.rf.e8eab3a49fa14df26596b119616fd620.txt  \n",
            " extracting: train/labels/image00277_jpg.rf.f1edbc43cf01c7fd62ea289635f7b360.txt  \n",
            " extracting: train/labels/image00278_jpg.rf.32292c918b7212c0fe417890dffdca44.txt  \n",
            " extracting: train/labels/image00278_jpg.rf.820ee9e2e16636927dbf55156b10cbf6.txt  \n",
            " extracting: train/labels/image00278_jpg.rf.b12db48a76c6ebc9d1b1ee0792425911.txt  \n",
            " extracting: train/labels/image00279_jpg.rf.53df86e7fb38c8674ae1c65217c1157f.txt  \n",
            " extracting: train/labels/image00279_jpg.rf.7c939c5ec7ce671db6267493a2af68c8.txt  \n",
            " extracting: train/labels/image00279_jpg.rf.7cbed92bf7cde75f4e5b251152e3995e.txt  \n",
            " extracting: train/labels/image00280_jpg.rf.4bbf4c5dd84da1590c3ac4f3ce12f3fe.txt  \n",
            " extracting: train/labels/image00280_jpg.rf.657a4c5ad7335f1fbccd01acf7392365.txt  \n",
            " extracting: train/labels/image00280_jpg.rf.7c7e86e5be96f812dff5f614511fe0a4.txt  \n",
            " extracting: train/labels/image00281_jpg.rf.10a9ab198e800702f6951636080aafb7.txt  \n",
            " extracting: train/labels/image00281_jpg.rf.71016f3b8e899c98e05a9792ff962181.txt  \n",
            " extracting: train/labels/image00281_jpg.rf.92ed363f953ab18ecb2695d0e5c0f512.txt  \n",
            " extracting: train/labels/image00282_jpg.rf.2679c5e52a39302ac503d1c230357394.txt  \n",
            " extracting: train/labels/image00282_jpg.rf.a4e1c6825011da0d758fe1acc00dd057.txt  \n",
            " extracting: train/labels/image00282_jpg.rf.e304cb27e194f74cafb9f172526e6074.txt  \n",
            " extracting: train/labels/image00283_jpg.rf.220cb643148893d428c711ea1d73637a.txt  \n",
            " extracting: train/labels/image00283_jpg.rf.d63ddb29c9c1cf02f2cc4a8515e547c9.txt  \n",
            " extracting: train/labels/image00283_jpg.rf.db4e035fe7f698ea7f11918ec5603ecd.txt  \n",
            " extracting: train/labels/image00284_jpg.rf.7726c3c91a95d289eb9e42744f27211f.txt  \n",
            " extracting: train/labels/image00284_jpg.rf.8b0d1191fced4b91069d1c629edcc4e8.txt  \n",
            " extracting: train/labels/image00284_jpg.rf.d17a5f12e6c6fe214527a0ffad014d30.txt  \n",
            " extracting: train/labels/image00285_jpg.rf.8366b1b5fd82f10ffa63bca1da1beb73.txt  \n",
            " extracting: train/labels/image00285_jpg.rf.86c5ccd46f1263d96b33694309700eb8.txt  \n",
            " extracting: train/labels/image00285_jpg.rf.cef2c3136ef00adc9d5e061046176ff8.txt  \n",
            " extracting: train/labels/image00287_jpg.rf.00fd779bc51d5a39d02aec74da50fe16.txt  \n",
            " extracting: train/labels/image00287_jpg.rf.86627df28d2f53c4f1f619ed7bbce856.txt  \n",
            " extracting: train/labels/image00287_jpg.rf.92acc7deb4dc42d2013a3d6efb8a458a.txt  \n",
            " extracting: train/labels/image00288_jpg.rf.db3d71bedfedd87daf2d94f0e6f2c581.txt  \n",
            " extracting: train/labels/image00288_jpg.rf.f1d9345c0c04ea3dfe95a4a341b95892.txt  \n",
            " extracting: train/labels/image00288_jpg.rf.f762fa4a24b7134540f8b01ceb7bd14b.txt  \n",
            " extracting: train/labels/image00289_jpg.rf.6cc53704d3e4ce883b8820142dfe5f14.txt  \n",
            " extracting: train/labels/image00289_jpg.rf.8ce14b6146dab7c29d5530ae5f852d22.txt  \n",
            " extracting: train/labels/image00289_jpg.rf.df6b79a258a1cb38e3d18d5c47d080dc.txt  \n",
            " extracting: train/labels/image00290_jpg.rf.0afa2ede5c960930aaaeb19c5ac04481.txt  \n",
            " extracting: train/labels/image00290_jpg.rf.3413574ab64e3c56d0d5d7ed4f2a027f.txt  \n",
            " extracting: train/labels/image00290_jpg.rf.66a80bf16f59372ab8de43dc471a97f7.txt  \n",
            " extracting: train/labels/image00291_jpg.rf.3d20f0650232a0982931e62d7ec19b4c.txt  \n",
            " extracting: train/labels/image00291_jpg.rf.c977d873ebc0b2beee608546320ab560.txt  \n",
            " extracting: train/labels/image00291_jpg.rf.d22453640ea002d8378ff903a76c8752.txt  \n",
            " extracting: train/labels/image00293_jpg.rf.918618fd8600eeae96bbe261f8b7a3c6.txt  \n",
            " extracting: train/labels/image00293_jpg.rf.9334af97d4e1fb670ccb68437284615c.txt  \n",
            " extracting: train/labels/image00293_jpg.rf.983447cdca2ccc802521ddf36808a27f.txt  \n",
            " extracting: train/labels/image00295_jpg.rf.02a04c1abc2cd0a30d82cfea21c299ca.txt  \n",
            " extracting: train/labels/image00295_jpg.rf.216055110d20c81ea77caa317cce8d41.txt  \n",
            " extracting: train/labels/image00295_jpg.rf.2b6eec353a0c26d177d94ed5747534fb.txt  \n",
            " extracting: train/labels/image00296_jpg.rf.128410f6a8741fb0251ef8a912d50d13.txt  \n",
            " extracting: train/labels/image00296_jpg.rf.908a2fa2ab702c0c513b7ae8b0f929dd.txt  \n",
            " extracting: train/labels/image00296_jpg.rf.917ae698add5a0abf754749bbf46b388.txt  \n",
            " extracting: train/labels/image00297_jpg.rf.31b1133e6092fa4c8b465431f491d20e.txt  \n",
            " extracting: train/labels/image00297_jpg.rf.599dcdeb1948c28f7f20954b4d2aa1a0.txt  \n",
            " extracting: train/labels/image00297_jpg.rf.93f9ff31e6f7dceced7be1a09817001b.txt  \n",
            " extracting: train/labels/image00299_jpg.rf.2e780f5cb8f0f2cf5248fec3a2ef6d61.txt  \n",
            " extracting: train/labels/image00299_jpg.rf.3cd469022d309baf2ebdcb3368547351.txt  \n",
            " extracting: train/labels/image00299_jpg.rf.9b519714757b272d34f079d054c77a7c.txt  \n",
            " extracting: train/labels/image00300_jpg.rf.2593600e5a82da9458666693760b3cc0.txt  \n",
            " extracting: train/labels/image00300_jpg.rf.86c26a659d8cf2cf118173666c0658d2.txt  \n",
            " extracting: train/labels/image00300_jpg.rf.b564fff0efc0bdecdde64f8820ab39ef.txt  \n",
            " extracting: train/labels/image00302_jpg.rf.2fb7a9490b7272a045344532f6c211f5.txt  \n",
            " extracting: train/labels/image00302_jpg.rf.be4e14f8e6477aa4ccbdcdd57d6f4a3f.txt  \n",
            " extracting: train/labels/image00302_jpg.rf.ed0d6418010b7e326e8285cd9004a909.txt  \n",
            " extracting: train/labels/image00304_jpg.rf.71fba70fb9ecd4acea528c92c980de3e.txt  \n",
            " extracting: train/labels/image00304_jpg.rf.8d9d8b2a827409e577104df843e39dbf.txt  \n",
            " extracting: train/labels/image00304_jpg.rf.db17ba3acc121e08607943f6eca4edf7.txt  \n",
            " extracting: train/labels/image00306_jpg.rf.0c83d542ceeb241dc52dde1585ed7a84.txt  \n",
            " extracting: train/labels/image00306_jpg.rf.0eff7671ad0c7f68ef2164b571e6f0e0.txt  \n",
            " extracting: train/labels/image00306_jpg.rf.6e5d0452d5f95cf86b95fd88a30b5d92.txt  \n",
            " extracting: train/labels/image00307_jpg.rf.45a552850d70cb618fa815326f9c12e4.txt  \n",
            " extracting: train/labels/image00307_jpg.rf.be017566d2333dd6f7d674fa7640af9d.txt  \n",
            " extracting: train/labels/image00307_jpg.rf.cf2e8e8e97331876b217a18a808a7697.txt  \n",
            " extracting: train/labels/image00309_jpg.rf.06de95d4b35d2de4b82bf9269b13bd39.txt  \n",
            " extracting: train/labels/image00309_jpg.rf.b4e0c5ec38756ef6379f863e05a203b0.txt  \n",
            " extracting: train/labels/image00309_jpg.rf.c6d3535a9186279d73629eadf8939552.txt  \n",
            " extracting: train/labels/image00311_jpg.rf.2b1009eb2ccbf267800590eda5ce6406.txt  \n",
            " extracting: train/labels/image00311_jpg.rf.948f35b027b785a19ffe74118993c760.txt  \n",
            " extracting: train/labels/image00311_jpg.rf.ee167ae3b647401107abf22ad1f342a1.txt  \n",
            " extracting: train/labels/image00313_jpg.rf.2f6082105ebcaafb1e275bab85594f09.txt  \n",
            " extracting: train/labels/image00313_jpg.rf.bd6b1d38292fe0980d06fc8381614323.txt  \n",
            " extracting: train/labels/image00313_jpg.rf.ef04bb0fd3b72b351d7913d66db69829.txt  \n",
            " extracting: train/labels/image00314_jpg.rf.5dd3359eb6742db148e381a0a4ead0e6.txt  \n",
            " extracting: train/labels/image00314_jpg.rf.a9d5229fd7d8f9ed1cd70208e091ec4a.txt  \n",
            " extracting: train/labels/image00314_jpg.rf.e862bb9154813804099288490755d837.txt  \n",
            " extracting: train/labels/image00315_jpg.rf.0b8869102ae89f268a91b221b531beb5.txt  \n",
            " extracting: train/labels/image00315_jpg.rf.169a4ede8fc2517ccd5a1985c7d2e6f4.txt  \n",
            " extracting: train/labels/image00315_jpg.rf.b0b30f5fea185cd36f9e262f32bd4d4f.txt  \n",
            " extracting: train/labels/image00317_jpg.rf.7f7a3afdfd0b581946b8cfe1ce1bb628.txt  \n",
            " extracting: train/labels/image00317_jpg.rf.b672a63f674d50215a158453dd0ece24.txt  \n",
            " extracting: train/labels/image00317_jpg.rf.f1f05b0da5e9f99b2acc52d997a24432.txt  \n",
            " extracting: train/labels/image00318_jpg.rf.4b024b0b3b437d4295c0b2ff65f4fe11.txt  \n",
            " extracting: train/labels/image00318_jpg.rf.6140cc3a8eb4490c04f61469a4eaaa5a.txt  \n",
            " extracting: train/labels/image00318_jpg.rf.c9451a5db9c2f5eec22aa4fe9446d198.txt  \n",
            " extracting: train/labels/image00320_jpg.rf.30445f0abbd71f326e5c325b1c96e8a8.txt  \n",
            " extracting: train/labels/image00320_jpg.rf.51ef9562447789735c08d62e9e7c0470.txt  \n",
            " extracting: train/labels/image00320_jpg.rf.f676c14d1a5de083ae9e414399e76ce5.txt  \n",
            "   creating: valid/\n",
            "   creating: valid/images/\n",
            " extracting: valid/images/image00009_jpg.rf.d394dd4b36f8824801d57b9516283192.jpg  \n",
            " extracting: valid/images/image00013_jpg.rf.ec14b94abf164cc54b013ed8832cd050.jpg  \n",
            " extracting: valid/images/image00024_jpg.rf.97d496e5cd0bed9ab0b86d938768aceb.jpg  \n",
            " extracting: valid/images/image00025_jpg.rf.0443a00f24a3537863acdc69d3dad5e7.jpg  \n",
            " extracting: valid/images/image00026_jpg.rf.04a097118f5dd9942f90427ea35b9e08.jpg  \n",
            " extracting: valid/images/image00033_jpg.rf.3fe6fc63ae9ab85b360d6c075c16e7af.jpg  \n",
            " extracting: valid/images/image00035_jpg.rf.38df15dd1b58c4e0305820c57df298c3.jpg  \n",
            " extracting: valid/images/image00051_jpg.rf.cd5ca7df7bd7b45b8fe402d359313e3d.jpg  \n",
            " extracting: valid/images/image00059_jpg.rf.e793080baf72b18ea1bac2ca3d166b14.jpg  \n",
            " extracting: valid/images/image00061_jpg.rf.b5ceada3f0a0f34ffed7959ae08ff707.jpg  \n",
            " extracting: valid/images/image00065_jpg.rf.13224c61589e5795c1be68689462e521.jpg  \n",
            " extracting: valid/images/image00071_jpg.rf.2cf832b5c9a97929f3e9186f2058befc.jpg  \n",
            " extracting: valid/images/image00073_jpg.rf.95e34c67d05c28e624516144b68d9e0b.jpg  \n",
            " extracting: valid/images/image00076_jpg.rf.05d78b5a414913718c2799452dfb4cfb.jpg  \n",
            " extracting: valid/images/image00082_jpg.rf.83b6f6ab4ca051eb20ac855593a2300c.jpg  \n",
            " extracting: valid/images/image00090_jpg.rf.4695d4a0dbb045b279f340d0229bacbc.jpg  \n",
            " extracting: valid/images/image00091_jpg.rf.8500803fd34231dfed6d06c753fb41ce.jpg  \n",
            " extracting: valid/images/image00096_jpg.rf.8e04cbf4595a5459f41d02c29fa06302.jpg  \n",
            " extracting: valid/images/image00103_jpg.rf.843eac6656753c76c95dea058b3530d7.jpg  \n",
            " extracting: valid/images/image00104_jpg.rf.52a16fef69fd2dd21593bf2d22083ffa.jpg  \n",
            " extracting: valid/images/image00105_jpg.rf.d53d9cbc43466f99748932b503041037.jpg  \n",
            " extracting: valid/images/image00106_jpg.rf.94e804a91418dc724a8f925b5f8e13cf.jpg  \n",
            " extracting: valid/images/image00108_jpg.rf.a198aa80078f143e8d11653038220fb5.jpg  \n",
            " extracting: valid/images/image00112_jpg.rf.16c2376ccbaf294be1f58044caadf9a8.jpg  \n",
            " extracting: valid/images/image00130_jpg.rf.517a9f3ac3206950916ca8eadae6ee29.jpg  \n",
            " extracting: valid/images/image00132_jpg.rf.ad2ad4e92aaf28e3edbcca2f7777320f.jpg  \n",
            " extracting: valid/images/image00137_jpg.rf.dea461fe95980b719dcd7f52d084c32f.jpg  \n",
            " extracting: valid/images/image00140_jpg.rf.82bba09ff35c8c9d6d0bce3086e30a7e.jpg  \n",
            " extracting: valid/images/image00141_jpg.rf.fd414928361dcce4570f3ffe91045cdb.jpg  \n",
            " extracting: valid/images/image00156_jpg.rf.5a8cc9027d4c7fbb59a3cadab064f3a7.jpg  \n",
            " extracting: valid/images/image00160_jpg.rf.989231c75623316e829674e4bd219ad3.jpg  \n",
            " extracting: valid/images/image00164_jpg.rf.f457db0428cfdf514eef460dd0eba7e7.jpg  \n",
            " extracting: valid/images/image00173_jpg.rf.df0b27066eb52355c8b3a81b9c764442.jpg  \n",
            " extracting: valid/images/image00175_jpg.rf.1d6e4826a4a78dbec60c3dc8b84817e2.jpg  \n",
            " extracting: valid/images/image00184_jpg.rf.1b66e31188a126a05ec3cdc4ec3f388f.jpg  \n",
            " extracting: valid/images/image00202_jpg.rf.ea8754160582136fa0bab31c6d61fd97.jpg  \n",
            " extracting: valid/images/image00212_jpg.rf.1e7e3087e4575d83c50bf66789997436.jpg  \n",
            " extracting: valid/images/image00214_jpg.rf.2d404be8159418c3faa493afd2b6dc69.jpg  \n",
            " extracting: valid/images/image00223_jpg.rf.de7ab9c8d2bf5adb9779c36ca10f10ca.jpg  \n",
            " extracting: valid/images/image00229_jpg.rf.88671986ea361b1f36a3f889f81b4dfe.jpg  \n",
            " extracting: valid/images/image00232_jpg.rf.cbd22bf3bad5b1eb67183abc12cff2f1.jpg  \n",
            " extracting: valid/images/image00233_jpg.rf.b7e42552ac6ab5e86b997f236a368522.jpg  \n",
            " extracting: valid/images/image00238_jpg.rf.4c8b6ff15029d4b06cf14ab23a5f9a23.jpg  \n",
            " extracting: valid/images/image00239_jpg.rf.027def81cffdc35d1d0bf5479869ea4b.jpg  \n",
            " extracting: valid/images/image00246_jpg.rf.c89b8a529911046d21b0a0684aff2e7f.jpg  \n",
            " extracting: valid/images/image00253_jpg.rf.dc7121a15f87132a6959efbb29e64cd6.jpg  \n",
            " extracting: valid/images/image00259_jpg.rf.8e60f8f5e587fc14891d4b7223fefbdd.jpg  \n",
            " extracting: valid/images/image00260_jpg.rf.94b6f16409564742aeb7d333bbe5c749.jpg  \n",
            " extracting: valid/images/image00286_jpg.rf.3a807e0abc46ae2416f20c70d102e7fe.jpg  \n",
            " extracting: valid/images/image00292_jpg.rf.07c34d50d03fe7d8355c9f0e004f8945.jpg  \n",
            " extracting: valid/images/image00298_jpg.rf.394ec1e7acaf48a1ef91b0c60a5679c0.jpg  \n",
            " extracting: valid/images/image00308_jpg.rf.6d62511343c266d018850e470c34918d.jpg  \n",
            " extracting: valid/images/image00310_jpg.rf.5f53e79d8345d8db91fc27cf0d964cd7.jpg  \n",
            " extracting: valid/images/image00316_jpg.rf.d8c7dbd7698cbfaffe05763a8a512e23.jpg  \n",
            "   creating: valid/labels/\n",
            " extracting: valid/labels/image00009_jpg.rf.d394dd4b36f8824801d57b9516283192.txt  \n",
            " extracting: valid/labels/image00013_jpg.rf.ec14b94abf164cc54b013ed8832cd050.txt  \n",
            " extracting: valid/labels/image00024_jpg.rf.97d496e5cd0bed9ab0b86d938768aceb.txt  \n",
            " extracting: valid/labels/image00025_jpg.rf.0443a00f24a3537863acdc69d3dad5e7.txt  \n",
            " extracting: valid/labels/image00026_jpg.rf.04a097118f5dd9942f90427ea35b9e08.txt  \n",
            " extracting: valid/labels/image00033_jpg.rf.3fe6fc63ae9ab85b360d6c075c16e7af.txt  \n",
            " extracting: valid/labels/image00035_jpg.rf.38df15dd1b58c4e0305820c57df298c3.txt  \n",
            " extracting: valid/labels/image00051_jpg.rf.cd5ca7df7bd7b45b8fe402d359313e3d.txt  \n",
            " extracting: valid/labels/image00059_jpg.rf.e793080baf72b18ea1bac2ca3d166b14.txt  \n",
            " extracting: valid/labels/image00061_jpg.rf.b5ceada3f0a0f34ffed7959ae08ff707.txt  \n",
            " extracting: valid/labels/image00065_jpg.rf.13224c61589e5795c1be68689462e521.txt  \n",
            " extracting: valid/labels/image00071_jpg.rf.2cf832b5c9a97929f3e9186f2058befc.txt  \n",
            " extracting: valid/labels/image00073_jpg.rf.95e34c67d05c28e624516144b68d9e0b.txt  \n",
            " extracting: valid/labels/image00076_jpg.rf.05d78b5a414913718c2799452dfb4cfb.txt  \n",
            " extracting: valid/labels/image00082_jpg.rf.83b6f6ab4ca051eb20ac855593a2300c.txt  \n",
            " extracting: valid/labels/image00090_jpg.rf.4695d4a0dbb045b279f340d0229bacbc.txt  \n",
            " extracting: valid/labels/image00091_jpg.rf.8500803fd34231dfed6d06c753fb41ce.txt  \n",
            " extracting: valid/labels/image00096_jpg.rf.8e04cbf4595a5459f41d02c29fa06302.txt  \n",
            " extracting: valid/labels/image00103_jpg.rf.843eac6656753c76c95dea058b3530d7.txt  \n",
            " extracting: valid/labels/image00104_jpg.rf.52a16fef69fd2dd21593bf2d22083ffa.txt  \n",
            " extracting: valid/labels/image00105_jpg.rf.d53d9cbc43466f99748932b503041037.txt  \n",
            " extracting: valid/labels/image00106_jpg.rf.94e804a91418dc724a8f925b5f8e13cf.txt  \n",
            " extracting: valid/labels/image00108_jpg.rf.a198aa80078f143e8d11653038220fb5.txt  \n",
            " extracting: valid/labels/image00112_jpg.rf.16c2376ccbaf294be1f58044caadf9a8.txt  \n",
            " extracting: valid/labels/image00130_jpg.rf.517a9f3ac3206950916ca8eadae6ee29.txt  \n",
            " extracting: valid/labels/image00132_jpg.rf.ad2ad4e92aaf28e3edbcca2f7777320f.txt  \n",
            " extracting: valid/labels/image00137_jpg.rf.dea461fe95980b719dcd7f52d084c32f.txt  \n",
            " extracting: valid/labels/image00140_jpg.rf.82bba09ff35c8c9d6d0bce3086e30a7e.txt  \n",
            " extracting: valid/labels/image00141_jpg.rf.fd414928361dcce4570f3ffe91045cdb.txt  \n",
            " extracting: valid/labels/image00156_jpg.rf.5a8cc9027d4c7fbb59a3cadab064f3a7.txt  \n",
            " extracting: valid/labels/image00160_jpg.rf.989231c75623316e829674e4bd219ad3.txt  \n",
            " extracting: valid/labels/image00164_jpg.rf.f457db0428cfdf514eef460dd0eba7e7.txt  \n",
            " extracting: valid/labels/image00173_jpg.rf.df0b27066eb52355c8b3a81b9c764442.txt  \n",
            " extracting: valid/labels/image00175_jpg.rf.1d6e4826a4a78dbec60c3dc8b84817e2.txt  \n",
            " extracting: valid/labels/image00184_jpg.rf.1b66e31188a126a05ec3cdc4ec3f388f.txt  \n",
            " extracting: valid/labels/image00202_jpg.rf.ea8754160582136fa0bab31c6d61fd97.txt  \n",
            " extracting: valid/labels/image00212_jpg.rf.1e7e3087e4575d83c50bf66789997436.txt  \n",
            " extracting: valid/labels/image00214_jpg.rf.2d404be8159418c3faa493afd2b6dc69.txt  \n",
            " extracting: valid/labels/image00223_jpg.rf.de7ab9c8d2bf5adb9779c36ca10f10ca.txt  \n",
            " extracting: valid/labels/image00229_jpg.rf.88671986ea361b1f36a3f889f81b4dfe.txt  \n",
            " extracting: valid/labels/image00232_jpg.rf.cbd22bf3bad5b1eb67183abc12cff2f1.txt  \n",
            " extracting: valid/labels/image00233_jpg.rf.b7e42552ac6ab5e86b997f236a368522.txt  \n",
            " extracting: valid/labels/image00238_jpg.rf.4c8b6ff15029d4b06cf14ab23a5f9a23.txt  \n",
            " extracting: valid/labels/image00239_jpg.rf.027def81cffdc35d1d0bf5479869ea4b.txt  \n",
            " extracting: valid/labels/image00246_jpg.rf.c89b8a529911046d21b0a0684aff2e7f.txt  \n",
            " extracting: valid/labels/image00253_jpg.rf.dc7121a15f87132a6959efbb29e64cd6.txt  \n",
            " extracting: valid/labels/image00259_jpg.rf.8e60f8f5e587fc14891d4b7223fefbdd.txt  \n",
            " extracting: valid/labels/image00260_jpg.rf.94b6f16409564742aeb7d333bbe5c749.txt  \n",
            " extracting: valid/labels/image00286_jpg.rf.3a807e0abc46ae2416f20c70d102e7fe.txt  \n",
            " extracting: valid/labels/image00292_jpg.rf.07c34d50d03fe7d8355c9f0e004f8945.txt  \n",
            " extracting: valid/labels/image00298_jpg.rf.394ec1e7acaf48a1ef91b0c60a5679c0.txt  \n",
            " extracting: valid/labels/image00308_jpg.rf.6d62511343c266d018850e470c34918d.txt  \n",
            " extracting: valid/labels/image00310_jpg.rf.5f53e79d8345d8db91fc27cf0d964cd7.txt  \n",
            " extracting: valid/labels/image00316_jpg.rf.d8c7dbd7698cbfaffe05763a8a512e23.txt  \n"
          ]
        }
      ]
    },
    {
      "cell_type": "code",
      "source": [
        "yaml_content = \"\"\"\n",
        "train: /content/train/images\n",
        "val: /content/valid/images\n",
        "test: /content/test/images\n",
        "\n",
        "nc: 3\n",
        "names: ['Flower', 'Green', 'Ripe']\n",
        "\"\"\"\n",
        "\n",
        "with open('/content/your_dataset.yaml', 'w') as f:\n",
        "    f.write(yaml_content)"
      ],
      "metadata": {
        "id": "PnnpfG3M5BBp"
      },
      "execution_count": 3,
      "outputs": []
    },
    {
      "cell_type": "code",
      "source": [
        "from ultralytics import YOLO\n",
        "\n",
        "model = YOLO('yolov8s.pt')\n",
        "model.train(data='/content/your_dataset.yaml', epochs=60, imgsz=640, batch=15)"
      ],
      "metadata": {
        "colab": {
          "base_uri": "https://localhost:8080/"
        },
        "collapsed": true,
        "id": "3CMqYb9m5KJW",
        "outputId": "9c144186-30b5-434f-f0d8-3dad0f3127c7"
      },
      "execution_count": 4,
      "outputs": [
        {
          "output_type": "stream",
          "name": "stdout",
          "text": [
            "Creating new Ultralytics Settings v0.0.6 file ✅ \n",
            "View Ultralytics Settings with 'yolo settings' or at '/root/.config/Ultralytics/settings.json'\n",
            "Update Settings with 'yolo settings key=value', i.e. 'yolo settings runs_dir=path/to/dir'. For help see https://docs.ultralytics.com/quickstart/#ultralytics-settings.\n",
            "Downloading https://github.com/ultralytics/assets/releases/download/v8.3.0/yolov8s.pt to 'yolov8s.pt'...\n"
          ]
        },
        {
          "output_type": "stream",
          "name": "stderr",
          "text": [
            "100%|██████████| 21.5M/21.5M [00:00<00:00, 177MB/s]\n"
          ]
        },
        {
          "output_type": "stream",
          "name": "stdout",
          "text": [
            "Ultralytics 8.3.133 🚀 Python-3.11.12 torch-2.6.0+cu124 CUDA:0 (NVIDIA A100-SXM4-40GB, 40507MiB)\n",
            "\u001b[34m\u001b[1mengine/trainer: \u001b[0magnostic_nms=False, amp=True, augment=False, auto_augment=randaugment, batch=15, bgr=0.0, box=7.5, cache=False, cfg=None, classes=None, close_mosaic=10, cls=0.5, conf=None, copy_paste=0.0, copy_paste_mode=flip, cos_lr=False, cutmix=0.0, data=/content/your_dataset.yaml, degrees=0.0, deterministic=True, device=None, dfl=1.5, dnn=False, dropout=0.0, dynamic=False, embed=None, epochs=60, erasing=0.4, exist_ok=False, fliplr=0.5, flipud=0.0, format=torchscript, fraction=1.0, freeze=None, half=False, hsv_h=0.015, hsv_s=0.7, hsv_v=0.4, imgsz=640, int8=False, iou=0.7, keras=False, kobj=1.0, line_width=None, lr0=0.01, lrf=0.01, mask_ratio=4, max_det=300, mixup=0.0, mode=train, model=yolov8s.pt, momentum=0.937, mosaic=1.0, multi_scale=False, name=train, nbs=64, nms=False, opset=None, optimize=False, optimizer=auto, overlap_mask=True, patience=100, perspective=0.0, plots=True, pose=12.0, pretrained=True, profile=False, project=None, rect=False, resume=False, retina_masks=False, save=True, save_conf=False, save_crop=False, save_dir=runs/detect/train, save_frames=False, save_json=False, save_period=-1, save_txt=False, scale=0.5, seed=0, shear=0.0, show=False, show_boxes=True, show_conf=True, show_labels=True, simplify=True, single_cls=False, source=None, split=val, stream_buffer=False, task=detect, time=None, tracker=botsort.yaml, translate=0.1, val=True, verbose=True, vid_stride=1, visualize=False, warmup_bias_lr=0.1, warmup_epochs=3.0, warmup_momentum=0.8, weight_decay=0.0005, workers=8, workspace=None\n",
            "Downloading https://ultralytics.com/assets/Arial.ttf to '/root/.config/Ultralytics/Arial.ttf'...\n"
          ]
        },
        {
          "output_type": "stream",
          "name": "stderr",
          "text": [
            "100%|██████████| 755k/755k [00:00<00:00, 13.7MB/s]"
          ]
        },
        {
          "output_type": "stream",
          "name": "stdout",
          "text": [
            "Overriding model.yaml nc=80 with nc=3\n",
            "\n",
            "                   from  n    params  module                                       arguments                     \n",
            "  0                  -1  1       928  ultralytics.nn.modules.conv.Conv             [3, 32, 3, 2]                 \n",
            "  1                  -1  1     18560  ultralytics.nn.modules.conv.Conv             [32, 64, 3, 2]                \n",
            "  2                  -1  1     29056  ultralytics.nn.modules.block.C2f             [64, 64, 1, True]             \n",
            "  3                  -1  1     73984  ultralytics.nn.modules.conv.Conv             [64, 128, 3, 2]               \n",
            "  4                  -1  2    197632  ultralytics.nn.modules.block.C2f             [128, 128, 2, True]           \n",
            "  5                  -1  1    295424  ultralytics.nn.modules.conv.Conv             [128, 256, 3, 2]              \n",
            "  6                  -1  2    788480  ultralytics.nn.modules.block.C2f             [256, 256, 2, True]           \n",
            "  7                  -1  1   1180672  ultralytics.nn.modules.conv.Conv             [256, 512, 3, 2]              \n",
            "  8                  -1  1   1838080  ultralytics.nn.modules.block.C2f             [512, 512, 1, True]           \n",
            "  9                  -1  1    656896  ultralytics.nn.modules.block.SPPF            [512, 512, 5]                 \n",
            " 10                  -1  1         0  torch.nn.modules.upsampling.Upsample         [None, 2, 'nearest']          \n",
            " 11             [-1, 6]  1         0  ultralytics.nn.modules.conv.Concat           [1]                           \n",
            " 12                  -1  1    591360  ultralytics.nn.modules.block.C2f             [768, 256, 1]                 \n",
            " 13                  -1  1         0  torch.nn.modules.upsampling.Upsample         [None, 2, 'nearest']          \n",
            " 14             [-1, 4]  1         0  ultralytics.nn.modules.conv.Concat           [1]                           \n",
            " 15                  -1  1    148224  ultralytics.nn.modules.block.C2f             [384, 128, 1]                 \n",
            " 16                  -1  1    147712  ultralytics.nn.modules.conv.Conv             [128, 128, 3, 2]              \n",
            " 17            [-1, 12]  1         0  ultralytics.nn.modules.conv.Concat           [1]                           \n",
            " 18                  -1  1    493056  ultralytics.nn.modules.block.C2f             [384, 256, 1]                 \n",
            " 19                  -1  1    590336  ultralytics.nn.modules.conv.Conv             [256, 256, 3, 2]              \n",
            " 20             [-1, 9]  1         0  ultralytics.nn.modules.conv.Concat           [1]                           \n",
            " 21                  -1  1   1969152  ultralytics.nn.modules.block.C2f             [768, 512, 1]                 \n"
          ]
        },
        {
          "output_type": "stream",
          "name": "stderr",
          "text": [
            "\n"
          ]
        },
        {
          "output_type": "stream",
          "name": "stdout",
          "text": [
            " 22        [15, 18, 21]  1   2117209  ultralytics.nn.modules.head.Detect           [3, [128, 256, 512]]          \n",
            "Model summary: 129 layers, 11,136,761 parameters, 11,136,745 gradients, 28.7 GFLOPs\n",
            "\n",
            "Transferred 349/355 items from pretrained weights\n",
            "Freezing layer 'model.22.dfl.conv.weight'\n",
            "\u001b[34m\u001b[1mAMP: \u001b[0mrunning Automatic Mixed Precision (AMP) checks...\n",
            "Downloading https://github.com/ultralytics/assets/releases/download/v8.3.0/yolo11n.pt to 'yolo11n.pt'...\n"
          ]
        },
        {
          "output_type": "stream",
          "name": "stderr",
          "text": [
            "100%|██████████| 5.35M/5.35M [00:00<00:00, 65.2MB/s]\n"
          ]
        },
        {
          "output_type": "stream",
          "name": "stdout",
          "text": [
            "\u001b[34m\u001b[1mAMP: \u001b[0mchecks passed ✅\n",
            "\u001b[34m\u001b[1mtrain: \u001b[0mFast image access ✅ (ping: 0.0±0.0 ms, read: 1061.7±508.4 MB/s, size: 39.1 KB)\n"
          ]
        },
        {
          "output_type": "stream",
          "name": "stderr",
          "text": [
            "\u001b[34m\u001b[1mtrain: \u001b[0mScanning /content/train/labels... 566 images, 3 backgrounds, 0 corrupt: 100%|██████████| 566/566 [00:00<00:00, 1514.09it/s]"
          ]
        },
        {
          "output_type": "stream",
          "name": "stdout",
          "text": [
            "\u001b[34m\u001b[1mtrain: \u001b[0mNew cache created: /content/train/labels.cache\n"
          ]
        },
        {
          "output_type": "stream",
          "name": "stderr",
          "text": [
            "\n"
          ]
        },
        {
          "output_type": "stream",
          "name": "stdout",
          "text": [
            "\u001b[34m\u001b[1malbumentations: \u001b[0mBlur(p=0.01, blur_limit=(3, 7)), MedianBlur(p=0.01, blur_limit=(3, 7)), ToGray(p=0.01, method='weighted_average', num_output_channels=3), CLAHE(p=0.01, clip_limit=(1.0, 4.0), tile_grid_size=(8, 8))\n",
            "\u001b[34m\u001b[1mval: \u001b[0mFast image access ✅ (ping: 0.0±0.0 ms, read: 873.8±480.3 MB/s, size: 43.2 KB)\n"
          ]
        },
        {
          "output_type": "stream",
          "name": "stderr",
          "text": [
            "\u001b[34m\u001b[1mval: \u001b[0mScanning /content/valid/labels... 54 images, 1 backgrounds, 0 corrupt: 100%|██████████| 54/54 [00:00<00:00, 1400.98it/s]"
          ]
        },
        {
          "output_type": "stream",
          "name": "stdout",
          "text": [
            "\u001b[34m\u001b[1mval: \u001b[0mNew cache created: /content/valid/labels.cache\n"
          ]
        },
        {
          "output_type": "stream",
          "name": "stderr",
          "text": [
            "\n"
          ]
        },
        {
          "output_type": "stream",
          "name": "stdout",
          "text": [
            "Plotting labels to runs/detect/train/labels.jpg... \n",
            "\u001b[34m\u001b[1moptimizer:\u001b[0m 'optimizer=auto' found, ignoring 'lr0=0.01' and 'momentum=0.937' and determining best 'optimizer', 'lr0' and 'momentum' automatically... \n",
            "\u001b[34m\u001b[1moptimizer:\u001b[0m AdamW(lr=0.001429, momentum=0.9) with parameter groups 57 weight(decay=0.0), 64 weight(decay=0.00046875), 63 bias(decay=0.0)\n",
            "Image sizes 640 train, 640 val\n",
            "Using 8 dataloader workers\n",
            "Logging results to \u001b[1mruns/detect/train\u001b[0m\n",
            "Starting training for 60 epochs...\n",
            "\n",
            "      Epoch    GPU_mem   box_loss   cls_loss   dfl_loss  Instances       Size\n"
          ]
        },
        {
          "output_type": "stream",
          "name": "stderr",
          "text": [
            "       1/60      3.33G      3.085      3.987      1.481         85        640: 100%|██████████| 38/38 [00:05<00:00,  7.12it/s]\n",
            "                 Class     Images  Instances      Box(P          R      mAP50  mAP50-95): 100%|██████████| 2/2 [00:01<00:00,  1.64it/s]"
          ]
        },
        {
          "output_type": "stream",
          "name": "stdout",
          "text": [
            "                   all         54        289      0.492      0.476      0.456        0.2\n"
          ]
        },
        {
          "output_type": "stream",
          "name": "stderr",
          "text": [
            "\n"
          ]
        },
        {
          "output_type": "stream",
          "name": "stdout",
          "text": [
            "\n",
            "      Epoch    GPU_mem   box_loss   cls_loss   dfl_loss  Instances       Size\n"
          ]
        },
        {
          "output_type": "stream",
          "name": "stderr",
          "text": [
            "       2/60      4.07G      2.756      2.404      1.308         69        640: 100%|██████████| 38/38 [00:03<00:00, 11.36it/s]\n",
            "                 Class     Images  Instances      Box(P          R      mAP50  mAP50-95): 100%|██████████| 2/2 [00:00<00:00,  7.39it/s]"
          ]
        },
        {
          "output_type": "stream",
          "name": "stdout",
          "text": [
            "                   all         54        289      0.502      0.511      0.463      0.198\n"
          ]
        },
        {
          "output_type": "stream",
          "name": "stderr",
          "text": [
            "\n"
          ]
        },
        {
          "output_type": "stream",
          "name": "stdout",
          "text": [
            "\n",
            "      Epoch    GPU_mem   box_loss   cls_loss   dfl_loss  Instances       Size\n"
          ]
        },
        {
          "output_type": "stream",
          "name": "stderr",
          "text": [
            "       3/60      4.11G      2.742      2.299      1.279         70        640: 100%|██████████| 38/38 [00:03<00:00, 11.46it/s]\n",
            "                 Class     Images  Instances      Box(P          R      mAP50  mAP50-95): 100%|██████████| 2/2 [00:00<00:00,  7.75it/s]"
          ]
        },
        {
          "output_type": "stream",
          "name": "stdout",
          "text": [
            "                   all         54        289      0.804      0.404      0.522      0.238\n"
          ]
        },
        {
          "output_type": "stream",
          "name": "stderr",
          "text": [
            "\n"
          ]
        },
        {
          "output_type": "stream",
          "name": "stdout",
          "text": [
            "\n",
            "      Epoch    GPU_mem   box_loss   cls_loss   dfl_loss  Instances       Size\n"
          ]
        },
        {
          "output_type": "stream",
          "name": "stderr",
          "text": [
            "       4/60      4.15G      2.708      2.143      1.296        117        640: 100%|██████████| 38/38 [00:03<00:00, 11.27it/s]\n",
            "                 Class     Images  Instances      Box(P          R      mAP50  mAP50-95): 100%|██████████| 2/2 [00:00<00:00,  7.22it/s]"
          ]
        },
        {
          "output_type": "stream",
          "name": "stdout",
          "text": [
            "                   all         54        289      0.451      0.516      0.477      0.213\n"
          ]
        },
        {
          "output_type": "stream",
          "name": "stderr",
          "text": [
            "\n"
          ]
        },
        {
          "output_type": "stream",
          "name": "stdout",
          "text": [
            "\n",
            "      Epoch    GPU_mem   box_loss   cls_loss   dfl_loss  Instances       Size\n"
          ]
        },
        {
          "output_type": "stream",
          "name": "stderr",
          "text": [
            "       5/60      4.18G      2.676      2.094      1.266        104        640: 100%|██████████| 38/38 [00:03<00:00, 11.48it/s]\n",
            "                 Class     Images  Instances      Box(P          R      mAP50  mAP50-95): 100%|██████████| 2/2 [00:00<00:00,  7.94it/s]"
          ]
        },
        {
          "output_type": "stream",
          "name": "stdout",
          "text": [
            "                   all         54        289      0.561      0.406      0.462       0.22\n"
          ]
        },
        {
          "output_type": "stream",
          "name": "stderr",
          "text": [
            "\n"
          ]
        },
        {
          "output_type": "stream",
          "name": "stdout",
          "text": [
            "\n",
            "      Epoch    GPU_mem   box_loss   cls_loss   dfl_loss  Instances       Size\n"
          ]
        },
        {
          "output_type": "stream",
          "name": "stderr",
          "text": [
            "       6/60      4.22G      2.608      2.053      1.259        104        640: 100%|██████████| 38/38 [00:03<00:00, 11.62it/s]\n",
            "                 Class     Images  Instances      Box(P          R      mAP50  mAP50-95): 100%|██████████| 2/2 [00:00<00:00,  7.69it/s]"
          ]
        },
        {
          "output_type": "stream",
          "name": "stdout",
          "text": [
            "                   all         54        289      0.505      0.508      0.552      0.259\n"
          ]
        },
        {
          "output_type": "stream",
          "name": "stderr",
          "text": [
            "\n"
          ]
        },
        {
          "output_type": "stream",
          "name": "stdout",
          "text": [
            "\n",
            "      Epoch    GPU_mem   box_loss   cls_loss   dfl_loss  Instances       Size\n"
          ]
        },
        {
          "output_type": "stream",
          "name": "stderr",
          "text": [
            "       7/60      4.26G      2.589      1.957       1.24        123        640: 100%|██████████| 38/38 [00:03<00:00, 11.51it/s]\n",
            "                 Class     Images  Instances      Box(P          R      mAP50  mAP50-95): 100%|██████████| 2/2 [00:00<00:00,  7.62it/s]"
          ]
        },
        {
          "output_type": "stream",
          "name": "stdout",
          "text": [
            "                   all         54        289      0.623      0.481      0.541      0.269\n"
          ]
        },
        {
          "output_type": "stream",
          "name": "stderr",
          "text": [
            "\n"
          ]
        },
        {
          "output_type": "stream",
          "name": "stdout",
          "text": [
            "\n",
            "      Epoch    GPU_mem   box_loss   cls_loss   dfl_loss  Instances       Size\n"
          ]
        },
        {
          "output_type": "stream",
          "name": "stderr",
          "text": [
            "       8/60      4.29G      2.595      2.034      1.223         67        640: 100%|██████████| 38/38 [00:03<00:00, 11.80it/s]\n",
            "                 Class     Images  Instances      Box(P          R      mAP50  mAP50-95): 100%|██████████| 2/2 [00:00<00:00,  8.01it/s]"
          ]
        },
        {
          "output_type": "stream",
          "name": "stdout",
          "text": [
            "                   all         54        289      0.592      0.569      0.572      0.282\n"
          ]
        },
        {
          "output_type": "stream",
          "name": "stderr",
          "text": [
            "\n"
          ]
        },
        {
          "output_type": "stream",
          "name": "stdout",
          "text": [
            "\n",
            "      Epoch    GPU_mem   box_loss   cls_loss   dfl_loss  Instances       Size\n"
          ]
        },
        {
          "output_type": "stream",
          "name": "stderr",
          "text": [
            "       9/60      4.33G      2.513      1.915      1.213         87        640: 100%|██████████| 38/38 [00:03<00:00, 11.90it/s]\n",
            "                 Class     Images  Instances      Box(P          R      mAP50  mAP50-95): 100%|██████████| 2/2 [00:00<00:00,  7.93it/s]"
          ]
        },
        {
          "output_type": "stream",
          "name": "stdout",
          "text": [
            "                   all         54        289      0.658      0.563      0.608      0.257\n"
          ]
        },
        {
          "output_type": "stream",
          "name": "stderr",
          "text": [
            "\n"
          ]
        },
        {
          "output_type": "stream",
          "name": "stdout",
          "text": [
            "\n",
            "      Epoch    GPU_mem   box_loss   cls_loss   dfl_loss  Instances       Size\n"
          ]
        },
        {
          "output_type": "stream",
          "name": "stderr",
          "text": [
            "      10/60      4.37G      2.488      1.923      1.217        115        640: 100%|██████████| 38/38 [00:03<00:00, 11.49it/s]\n",
            "                 Class     Images  Instances      Box(P          R      mAP50  mAP50-95): 100%|██████████| 2/2 [00:00<00:00,  8.14it/s]"
          ]
        },
        {
          "output_type": "stream",
          "name": "stdout",
          "text": [
            "                   all         54        289      0.584      0.494      0.538      0.249\n"
          ]
        },
        {
          "output_type": "stream",
          "name": "stderr",
          "text": [
            "\n"
          ]
        },
        {
          "output_type": "stream",
          "name": "stdout",
          "text": [
            "\n",
            "      Epoch    GPU_mem   box_loss   cls_loss   dfl_loss  Instances       Size\n"
          ]
        },
        {
          "output_type": "stream",
          "name": "stderr",
          "text": [
            "      11/60       4.4G      2.504      1.908      1.206         89        640: 100%|██████████| 38/38 [00:03<00:00, 11.62it/s]\n",
            "                 Class     Images  Instances      Box(P          R      mAP50  mAP50-95): 100%|██████████| 2/2 [00:00<00:00,  8.05it/s]"
          ]
        },
        {
          "output_type": "stream",
          "name": "stdout",
          "text": [
            "                   all         54        289      0.572      0.565      0.568      0.278\n"
          ]
        },
        {
          "output_type": "stream",
          "name": "stderr",
          "text": [
            "\n"
          ]
        },
        {
          "output_type": "stream",
          "name": "stdout",
          "text": [
            "\n",
            "      Epoch    GPU_mem   box_loss   cls_loss   dfl_loss  Instances       Size\n"
          ]
        },
        {
          "output_type": "stream",
          "name": "stderr",
          "text": [
            "      12/60      4.44G      2.427      1.822      1.184        103        640: 100%|██████████| 38/38 [00:03<00:00, 11.38it/s]\n",
            "                 Class     Images  Instances      Box(P          R      mAP50  mAP50-95): 100%|██████████| 2/2 [00:00<00:00,  7.49it/s]"
          ]
        },
        {
          "output_type": "stream",
          "name": "stdout",
          "text": [
            "                   all         54        289      0.637      0.579      0.625      0.283\n"
          ]
        },
        {
          "output_type": "stream",
          "name": "stderr",
          "text": [
            "\n"
          ]
        },
        {
          "output_type": "stream",
          "name": "stdout",
          "text": [
            "\n",
            "      Epoch    GPU_mem   box_loss   cls_loss   dfl_loss  Instances       Size\n"
          ]
        },
        {
          "output_type": "stream",
          "name": "stderr",
          "text": [
            "      13/60      4.47G      2.411      1.796      1.175         97        640: 100%|██████████| 38/38 [00:03<00:00, 11.26it/s]\n",
            "                 Class     Images  Instances      Box(P          R      mAP50  mAP50-95): 100%|██████████| 2/2 [00:00<00:00,  8.11it/s]"
          ]
        },
        {
          "output_type": "stream",
          "name": "stdout",
          "text": [
            "                   all         54        289      0.645      0.559      0.547      0.266\n"
          ]
        },
        {
          "output_type": "stream",
          "name": "stderr",
          "text": [
            "\n"
          ]
        },
        {
          "output_type": "stream",
          "name": "stdout",
          "text": [
            "\n",
            "      Epoch    GPU_mem   box_loss   cls_loss   dfl_loss  Instances       Size\n"
          ]
        },
        {
          "output_type": "stream",
          "name": "stderr",
          "text": [
            "      14/60      4.51G      2.427      1.831      1.211        112        640: 100%|██████████| 38/38 [00:03<00:00, 11.59it/s]\n",
            "                 Class     Images  Instances      Box(P          R      mAP50  mAP50-95): 100%|██████████| 2/2 [00:00<00:00,  7.81it/s]"
          ]
        },
        {
          "output_type": "stream",
          "name": "stdout",
          "text": [
            "                   all         54        289      0.481      0.522      0.467      0.215\n"
          ]
        },
        {
          "output_type": "stream",
          "name": "stderr",
          "text": [
            "\n"
          ]
        },
        {
          "output_type": "stream",
          "name": "stdout",
          "text": [
            "\n",
            "      Epoch    GPU_mem   box_loss   cls_loss   dfl_loss  Instances       Size\n"
          ]
        },
        {
          "output_type": "stream",
          "name": "stderr",
          "text": [
            "      15/60      4.55G      2.423      1.777      1.183         92        640: 100%|██████████| 38/38 [00:03<00:00, 11.64it/s]\n",
            "                 Class     Images  Instances      Box(P          R      mAP50  mAP50-95): 100%|██████████| 2/2 [00:00<00:00,  7.56it/s]"
          ]
        },
        {
          "output_type": "stream",
          "name": "stdout",
          "text": [
            "                   all         54        289      0.653      0.582      0.611      0.276\n"
          ]
        },
        {
          "output_type": "stream",
          "name": "stderr",
          "text": [
            "\n"
          ]
        },
        {
          "output_type": "stream",
          "name": "stdout",
          "text": [
            "\n",
            "      Epoch    GPU_mem   box_loss   cls_loss   dfl_loss  Instances       Size\n"
          ]
        },
        {
          "output_type": "stream",
          "name": "stderr",
          "text": [
            "      16/60      4.58G      2.386      1.807      1.174        104        640: 100%|██████████| 38/38 [00:03<00:00, 11.37it/s]\n",
            "                 Class     Images  Instances      Box(P          R      mAP50  mAP50-95): 100%|██████████| 2/2 [00:00<00:00,  7.41it/s]"
          ]
        },
        {
          "output_type": "stream",
          "name": "stdout",
          "text": [
            "                   all         54        289      0.453      0.456      0.424       0.18\n"
          ]
        },
        {
          "output_type": "stream",
          "name": "stderr",
          "text": [
            "\n"
          ]
        },
        {
          "output_type": "stream",
          "name": "stdout",
          "text": [
            "\n",
            "      Epoch    GPU_mem   box_loss   cls_loss   dfl_loss  Instances       Size\n"
          ]
        },
        {
          "output_type": "stream",
          "name": "stderr",
          "text": [
            "      17/60      4.62G      2.371      1.767      1.193         75        640: 100%|██████████| 38/38 [00:03<00:00, 11.55it/s]\n",
            "                 Class     Images  Instances      Box(P          R      mAP50  mAP50-95): 100%|██████████| 2/2 [00:00<00:00,  7.98it/s]"
          ]
        },
        {
          "output_type": "stream",
          "name": "stdout",
          "text": [
            "                   all         54        289      0.623      0.463       0.53      0.251\n"
          ]
        },
        {
          "output_type": "stream",
          "name": "stderr",
          "text": [
            "\n"
          ]
        },
        {
          "output_type": "stream",
          "name": "stdout",
          "text": [
            "\n",
            "      Epoch    GPU_mem   box_loss   cls_loss   dfl_loss  Instances       Size\n"
          ]
        },
        {
          "output_type": "stream",
          "name": "stderr",
          "text": [
            "      18/60      4.66G      2.333      1.751       1.16         94        640: 100%|██████████| 38/38 [00:03<00:00, 11.43it/s]\n",
            "                 Class     Images  Instances      Box(P          R      mAP50  mAP50-95): 100%|██████████| 2/2 [00:00<00:00,  7.68it/s]"
          ]
        },
        {
          "output_type": "stream",
          "name": "stdout",
          "text": [
            "                   all         54        289      0.688      0.468      0.538      0.251\n"
          ]
        },
        {
          "output_type": "stream",
          "name": "stderr",
          "text": [
            "\n"
          ]
        },
        {
          "output_type": "stream",
          "name": "stdout",
          "text": [
            "\n",
            "      Epoch    GPU_mem   box_loss   cls_loss   dfl_loss  Instances       Size\n"
          ]
        },
        {
          "output_type": "stream",
          "name": "stderr",
          "text": [
            "      19/60      4.69G      2.321      1.716      1.152        105        640: 100%|██████████| 38/38 [00:03<00:00, 11.42it/s]\n",
            "                 Class     Images  Instances      Box(P          R      mAP50  mAP50-95): 100%|██████████| 2/2 [00:00<00:00,  8.18it/s]"
          ]
        },
        {
          "output_type": "stream",
          "name": "stdout",
          "text": [
            "                   all         54        289      0.579      0.531      0.518      0.235\n"
          ]
        },
        {
          "output_type": "stream",
          "name": "stderr",
          "text": [
            "\n"
          ]
        },
        {
          "output_type": "stream",
          "name": "stdout",
          "text": [
            "\n",
            "      Epoch    GPU_mem   box_loss   cls_loss   dfl_loss  Instances       Size\n"
          ]
        },
        {
          "output_type": "stream",
          "name": "stderr",
          "text": [
            "      20/60      4.73G      2.368       1.76       1.17         71        640: 100%|██████████| 38/38 [00:03<00:00, 11.47it/s]\n",
            "                 Class     Images  Instances      Box(P          R      mAP50  mAP50-95): 100%|██████████| 2/2 [00:00<00:00,  7.97it/s]"
          ]
        },
        {
          "output_type": "stream",
          "name": "stdout",
          "text": [
            "                   all         54        289      0.591      0.448      0.537      0.248\n"
          ]
        },
        {
          "output_type": "stream",
          "name": "stderr",
          "text": [
            "\n"
          ]
        },
        {
          "output_type": "stream",
          "name": "stdout",
          "text": [
            "\n",
            "      Epoch    GPU_mem   box_loss   cls_loss   dfl_loss  Instances       Size\n"
          ]
        },
        {
          "output_type": "stream",
          "name": "stderr",
          "text": [
            "      21/60      4.77G      2.346      1.719      1.162         62        640: 100%|██████████| 38/38 [00:03<00:00, 11.67it/s]\n",
            "                 Class     Images  Instances      Box(P          R      mAP50  mAP50-95): 100%|██████████| 2/2 [00:00<00:00,  7.85it/s]"
          ]
        },
        {
          "output_type": "stream",
          "name": "stdout",
          "text": [
            "                   all         54        289      0.507      0.558      0.529      0.243\n"
          ]
        },
        {
          "output_type": "stream",
          "name": "stderr",
          "text": [
            "\n"
          ]
        },
        {
          "output_type": "stream",
          "name": "stdout",
          "text": [
            "\n",
            "      Epoch    GPU_mem   box_loss   cls_loss   dfl_loss  Instances       Size\n"
          ]
        },
        {
          "output_type": "stream",
          "name": "stderr",
          "text": [
            "      22/60       4.8G      2.282      1.671      1.158        101        640: 100%|██████████| 38/38 [00:03<00:00, 11.18it/s]\n",
            "                 Class     Images  Instances      Box(P          R      mAP50  mAP50-95): 100%|██████████| 2/2 [00:00<00:00,  8.18it/s]"
          ]
        },
        {
          "output_type": "stream",
          "name": "stdout",
          "text": [
            "                   all         54        289      0.454      0.565      0.469      0.222\n"
          ]
        },
        {
          "output_type": "stream",
          "name": "stderr",
          "text": [
            "\n"
          ]
        },
        {
          "output_type": "stream",
          "name": "stdout",
          "text": [
            "\n",
            "      Epoch    GPU_mem   box_loss   cls_loss   dfl_loss  Instances       Size\n"
          ]
        },
        {
          "output_type": "stream",
          "name": "stderr",
          "text": [
            "      23/60      4.84G      2.306      1.695      1.147        151        640: 100%|██████████| 38/38 [00:03<00:00, 11.58it/s]\n",
            "                 Class     Images  Instances      Box(P          R      mAP50  mAP50-95): 100%|██████████| 2/2 [00:00<00:00,  8.20it/s]"
          ]
        },
        {
          "output_type": "stream",
          "name": "stdout",
          "text": [
            "                   all         54        289      0.662      0.606      0.633      0.292\n"
          ]
        },
        {
          "output_type": "stream",
          "name": "stderr",
          "text": [
            "\n"
          ]
        },
        {
          "output_type": "stream",
          "name": "stdout",
          "text": [
            "\n",
            "      Epoch    GPU_mem   box_loss   cls_loss   dfl_loss  Instances       Size\n"
          ]
        },
        {
          "output_type": "stream",
          "name": "stderr",
          "text": [
            "      24/60      4.88G      2.238      1.614      1.124         48        640: 100%|██████████| 38/38 [00:03<00:00, 11.45it/s]\n",
            "                 Class     Images  Instances      Box(P          R      mAP50  mAP50-95): 100%|██████████| 2/2 [00:00<00:00,  8.08it/s]"
          ]
        },
        {
          "output_type": "stream",
          "name": "stdout",
          "text": [
            "                   all         54        289      0.705      0.612      0.617       0.31\n"
          ]
        },
        {
          "output_type": "stream",
          "name": "stderr",
          "text": [
            "\n"
          ]
        },
        {
          "output_type": "stream",
          "name": "stdout",
          "text": [
            "\n",
            "      Epoch    GPU_mem   box_loss   cls_loss   dfl_loss  Instances       Size\n"
          ]
        },
        {
          "output_type": "stream",
          "name": "stderr",
          "text": [
            "      25/60      4.91G      2.235      1.601      1.141        120        640: 100%|██████████| 38/38 [00:03<00:00, 11.46it/s]\n",
            "                 Class     Images  Instances      Box(P          R      mAP50  mAP50-95): 100%|██████████| 2/2 [00:00<00:00,  7.85it/s]"
          ]
        },
        {
          "output_type": "stream",
          "name": "stdout",
          "text": [
            "                   all         54        289       0.62      0.597      0.588      0.272\n"
          ]
        },
        {
          "output_type": "stream",
          "name": "stderr",
          "text": [
            "\n"
          ]
        },
        {
          "output_type": "stream",
          "name": "stdout",
          "text": [
            "\n",
            "      Epoch    GPU_mem   box_loss   cls_loss   dfl_loss  Instances       Size\n"
          ]
        },
        {
          "output_type": "stream",
          "name": "stderr",
          "text": [
            "      26/60      4.95G       2.22      1.603      1.133        132        640: 100%|██████████| 38/38 [00:03<00:00, 11.48it/s]\n",
            "                 Class     Images  Instances      Box(P          R      mAP50  mAP50-95): 100%|██████████| 2/2 [00:00<00:00,  7.83it/s]"
          ]
        },
        {
          "output_type": "stream",
          "name": "stdout",
          "text": [
            "                   all         54        289      0.658      0.578      0.633      0.293\n"
          ]
        },
        {
          "output_type": "stream",
          "name": "stderr",
          "text": [
            "\n"
          ]
        },
        {
          "output_type": "stream",
          "name": "stdout",
          "text": [
            "\n",
            "      Epoch    GPU_mem   box_loss   cls_loss   dfl_loss  Instances       Size\n"
          ]
        },
        {
          "output_type": "stream",
          "name": "stderr",
          "text": [
            "      27/60      4.98G      2.191      1.545       1.12         84        640: 100%|██████████| 38/38 [00:03<00:00, 11.20it/s]\n",
            "                 Class     Images  Instances      Box(P          R      mAP50  mAP50-95): 100%|██████████| 2/2 [00:00<00:00,  7.70it/s]"
          ]
        },
        {
          "output_type": "stream",
          "name": "stdout",
          "text": [
            "                   all         54        289      0.697      0.564      0.617      0.291\n"
          ]
        },
        {
          "output_type": "stream",
          "name": "stderr",
          "text": [
            "\n"
          ]
        },
        {
          "output_type": "stream",
          "name": "stdout",
          "text": [
            "\n",
            "      Epoch    GPU_mem   box_loss   cls_loss   dfl_loss  Instances       Size\n"
          ]
        },
        {
          "output_type": "stream",
          "name": "stderr",
          "text": [
            "      28/60      5.02G      2.218      1.544      1.113        125        640: 100%|██████████| 38/38 [00:03<00:00, 11.53it/s]\n",
            "                 Class     Images  Instances      Box(P          R      mAP50  mAP50-95): 100%|██████████| 2/2 [00:00<00:00,  7.53it/s]"
          ]
        },
        {
          "output_type": "stream",
          "name": "stdout",
          "text": [
            "                   all         54        289      0.674      0.599      0.604      0.264\n"
          ]
        },
        {
          "output_type": "stream",
          "name": "stderr",
          "text": [
            "\n"
          ]
        },
        {
          "output_type": "stream",
          "name": "stdout",
          "text": [
            "\n",
            "      Epoch    GPU_mem   box_loss   cls_loss   dfl_loss  Instances       Size\n"
          ]
        },
        {
          "output_type": "stream",
          "name": "stderr",
          "text": [
            "      29/60      5.05G      2.169      1.528      1.114         78        640: 100%|██████████| 38/38 [00:03<00:00, 11.57it/s]\n",
            "                 Class     Images  Instances      Box(P          R      mAP50  mAP50-95): 100%|██████████| 2/2 [00:00<00:00,  8.13it/s]"
          ]
        },
        {
          "output_type": "stream",
          "name": "stdout",
          "text": [
            "                   all         54        289      0.597      0.526      0.535      0.212\n"
          ]
        },
        {
          "output_type": "stream",
          "name": "stderr",
          "text": [
            "\n"
          ]
        },
        {
          "output_type": "stream",
          "name": "stdout",
          "text": [
            "\n",
            "      Epoch    GPU_mem   box_loss   cls_loss   dfl_loss  Instances       Size\n"
          ]
        },
        {
          "output_type": "stream",
          "name": "stderr",
          "text": [
            "      30/60      5.29G       2.18      1.527      1.109         97        640: 100%|██████████| 38/38 [00:03<00:00, 11.30it/s]\n",
            "                 Class     Images  Instances      Box(P          R      mAP50  mAP50-95): 100%|██████████| 2/2 [00:00<00:00,  7.54it/s]"
          ]
        },
        {
          "output_type": "stream",
          "name": "stdout",
          "text": [
            "                   all         54        289      0.628      0.476      0.491      0.166\n"
          ]
        },
        {
          "output_type": "stream",
          "name": "stderr",
          "text": [
            "\n"
          ]
        },
        {
          "output_type": "stream",
          "name": "stdout",
          "text": [
            "\n",
            "      Epoch    GPU_mem   box_loss   cls_loss   dfl_loss  Instances       Size\n"
          ]
        },
        {
          "output_type": "stream",
          "name": "stderr",
          "text": [
            "      31/60      5.33G      2.165      1.489      1.102        128        640: 100%|██████████| 38/38 [00:03<00:00, 11.18it/s]\n",
            "                 Class     Images  Instances      Box(P          R      mAP50  mAP50-95): 100%|██████████| 2/2 [00:00<00:00,  8.05it/s]"
          ]
        },
        {
          "output_type": "stream",
          "name": "stdout",
          "text": [
            "                   all         54        289       0.68      0.521      0.572      0.175\n"
          ]
        },
        {
          "output_type": "stream",
          "name": "stderr",
          "text": [
            "\n"
          ]
        },
        {
          "output_type": "stream",
          "name": "stdout",
          "text": [
            "\n",
            "      Epoch    GPU_mem   box_loss   cls_loss   dfl_loss  Instances       Size\n"
          ]
        },
        {
          "output_type": "stream",
          "name": "stderr",
          "text": [
            "      32/60      5.37G      2.085      1.409      1.089         90        640: 100%|██████████| 38/38 [00:03<00:00, 11.37it/s]\n",
            "                 Class     Images  Instances      Box(P          R      mAP50  mAP50-95): 100%|██████████| 2/2 [00:00<00:00,  7.83it/s]"
          ]
        },
        {
          "output_type": "stream",
          "name": "stdout",
          "text": [
            "                   all         54        289      0.743      0.573       0.64      0.249\n"
          ]
        },
        {
          "output_type": "stream",
          "name": "stderr",
          "text": [
            "\n"
          ]
        },
        {
          "output_type": "stream",
          "name": "stdout",
          "text": [
            "\n",
            "      Epoch    GPU_mem   box_loss   cls_loss   dfl_loss  Instances       Size\n"
          ]
        },
        {
          "output_type": "stream",
          "name": "stderr",
          "text": [
            "      33/60       5.4G      2.103      1.406      1.077         86        640: 100%|██████████| 38/38 [00:03<00:00, 11.46it/s]\n",
            "                 Class     Images  Instances      Box(P          R      mAP50  mAP50-95): 100%|██████████| 2/2 [00:00<00:00,  7.29it/s]"
          ]
        },
        {
          "output_type": "stream",
          "name": "stdout",
          "text": [
            "                   all         54        289      0.768      0.637      0.681      0.323\n"
          ]
        },
        {
          "output_type": "stream",
          "name": "stderr",
          "text": [
            "\n"
          ]
        },
        {
          "output_type": "stream",
          "name": "stdout",
          "text": [
            "\n",
            "      Epoch    GPU_mem   box_loss   cls_loss   dfl_loss  Instances       Size\n"
          ]
        },
        {
          "output_type": "stream",
          "name": "stderr",
          "text": [
            "      34/60      5.44G      2.075      1.419      1.079        102        640: 100%|██████████| 38/38 [00:03<00:00, 11.48it/s]\n",
            "                 Class     Images  Instances      Box(P          R      mAP50  mAP50-95): 100%|██████████| 2/2 [00:00<00:00,  8.00it/s]"
          ]
        },
        {
          "output_type": "stream",
          "name": "stdout",
          "text": [
            "                   all         54        289      0.739      0.633      0.655      0.284\n"
          ]
        },
        {
          "output_type": "stream",
          "name": "stderr",
          "text": [
            "\n"
          ]
        },
        {
          "output_type": "stream",
          "name": "stdout",
          "text": [
            "\n",
            "      Epoch    GPU_mem   box_loss   cls_loss   dfl_loss  Instances       Size\n"
          ]
        },
        {
          "output_type": "stream",
          "name": "stderr",
          "text": [
            "      35/60      5.48G      2.035      1.334      1.069        111        640: 100%|██████████| 38/38 [00:03<00:00, 11.37it/s]\n",
            "                 Class     Images  Instances      Box(P          R      mAP50  mAP50-95): 100%|██████████| 2/2 [00:00<00:00,  7.95it/s]"
          ]
        },
        {
          "output_type": "stream",
          "name": "stdout",
          "text": [
            "                   all         54        289      0.678       0.62      0.634       0.25\n"
          ]
        },
        {
          "output_type": "stream",
          "name": "stderr",
          "text": [
            "\n"
          ]
        },
        {
          "output_type": "stream",
          "name": "stdout",
          "text": [
            "\n",
            "      Epoch    GPU_mem   box_loss   cls_loss   dfl_loss  Instances       Size\n"
          ]
        },
        {
          "output_type": "stream",
          "name": "stderr",
          "text": [
            "      36/60      5.82G      2.062      1.348      1.079         89        640: 100%|██████████| 38/38 [00:03<00:00, 11.37it/s]\n",
            "                 Class     Images  Instances      Box(P          R      mAP50  mAP50-95): 100%|██████████| 2/2 [00:00<00:00,  7.61it/s]"
          ]
        },
        {
          "output_type": "stream",
          "name": "stdout",
          "text": [
            "                   all         54        289      0.687      0.529      0.559      0.196\n"
          ]
        },
        {
          "output_type": "stream",
          "name": "stderr",
          "text": [
            "\n"
          ]
        },
        {
          "output_type": "stream",
          "name": "stdout",
          "text": [
            "\n",
            "      Epoch    GPU_mem   box_loss   cls_loss   dfl_loss  Instances       Size\n"
          ]
        },
        {
          "output_type": "stream",
          "name": "stderr",
          "text": [
            "      37/60      5.85G      2.039      1.339      1.074         85        640: 100%|██████████| 38/38 [00:03<00:00, 11.68it/s]\n",
            "                 Class     Images  Instances      Box(P          R      mAP50  mAP50-95): 100%|██████████| 2/2 [00:00<00:00,  7.80it/s]"
          ]
        },
        {
          "output_type": "stream",
          "name": "stdout",
          "text": [
            "                   all         54        289      0.668      0.611      0.613      0.235\n"
          ]
        },
        {
          "output_type": "stream",
          "name": "stderr",
          "text": [
            "\n"
          ]
        },
        {
          "output_type": "stream",
          "name": "stdout",
          "text": [
            "\n",
            "      Epoch    GPU_mem   box_loss   cls_loss   dfl_loss  Instances       Size\n"
          ]
        },
        {
          "output_type": "stream",
          "name": "stderr",
          "text": [
            "      38/60      5.89G      2.039      1.324      1.066         98        640: 100%|██████████| 38/38 [00:03<00:00, 11.24it/s]\n",
            "                 Class     Images  Instances      Box(P          R      mAP50  mAP50-95): 100%|██████████| 2/2 [00:00<00:00,  7.87it/s]"
          ]
        },
        {
          "output_type": "stream",
          "name": "stdout",
          "text": [
            "                   all         54        289      0.759      0.645      0.666      0.263\n"
          ]
        },
        {
          "output_type": "stream",
          "name": "stderr",
          "text": [
            "\n"
          ]
        },
        {
          "output_type": "stream",
          "name": "stdout",
          "text": [
            "\n",
            "      Epoch    GPU_mem   box_loss   cls_loss   dfl_loss  Instances       Size\n"
          ]
        },
        {
          "output_type": "stream",
          "name": "stderr",
          "text": [
            "      39/60      5.93G      2.016      1.332       1.07        143        640: 100%|██████████| 38/38 [00:03<00:00, 11.39it/s]\n",
            "                 Class     Images  Instances      Box(P          R      mAP50  mAP50-95): 100%|██████████| 2/2 [00:00<00:00,  7.76it/s]"
          ]
        },
        {
          "output_type": "stream",
          "name": "stdout",
          "text": [
            "                   all         54        289      0.592      0.543      0.534      0.223\n"
          ]
        },
        {
          "output_type": "stream",
          "name": "stderr",
          "text": [
            "\n"
          ]
        },
        {
          "output_type": "stream",
          "name": "stdout",
          "text": [
            "\n",
            "      Epoch    GPU_mem   box_loss   cls_loss   dfl_loss  Instances       Size\n"
          ]
        },
        {
          "output_type": "stream",
          "name": "stderr",
          "text": [
            "      40/60      5.96G      1.983      1.291      1.079         81        640: 100%|██████████| 38/38 [00:03<00:00, 11.24it/s]\n",
            "                 Class     Images  Instances      Box(P          R      mAP50  mAP50-95): 100%|██████████| 2/2 [00:00<00:00,  7.73it/s]"
          ]
        },
        {
          "output_type": "stream",
          "name": "stdout",
          "text": [
            "                   all         54        289      0.731      0.544      0.572      0.223\n"
          ]
        },
        {
          "output_type": "stream",
          "name": "stderr",
          "text": [
            "\n"
          ]
        },
        {
          "output_type": "stream",
          "name": "stdout",
          "text": [
            "\n",
            "      Epoch    GPU_mem   box_loss   cls_loss   dfl_loss  Instances       Size\n"
          ]
        },
        {
          "output_type": "stream",
          "name": "stderr",
          "text": [
            "      41/60         6G      1.987      1.273      1.057         93        640: 100%|██████████| 38/38 [00:03<00:00, 11.26it/s]\n",
            "                 Class     Images  Instances      Box(P          R      mAP50  mAP50-95): 100%|██████████| 2/2 [00:00<00:00,  7.46it/s]"
          ]
        },
        {
          "output_type": "stream",
          "name": "stdout",
          "text": [
            "                   all         54        289      0.663       0.62      0.612      0.281\n"
          ]
        },
        {
          "output_type": "stream",
          "name": "stderr",
          "text": [
            "\n"
          ]
        },
        {
          "output_type": "stream",
          "name": "stdout",
          "text": [
            "\n",
            "      Epoch    GPU_mem   box_loss   cls_loss   dfl_loss  Instances       Size\n"
          ]
        },
        {
          "output_type": "stream",
          "name": "stderr",
          "text": [
            "      42/60      6.04G      1.972       1.28      1.051         66        640: 100%|██████████| 38/38 [00:03<00:00, 11.09it/s]\n",
            "                 Class     Images  Instances      Box(P          R      mAP50  mAP50-95): 100%|██████████| 2/2 [00:00<00:00,  7.80it/s]"
          ]
        },
        {
          "output_type": "stream",
          "name": "stdout",
          "text": [
            "                   all         54        289      0.673       0.58      0.625      0.238\n"
          ]
        },
        {
          "output_type": "stream",
          "name": "stderr",
          "text": [
            "\n"
          ]
        },
        {
          "output_type": "stream",
          "name": "stdout",
          "text": [
            "\n",
            "      Epoch    GPU_mem   box_loss   cls_loss   dfl_loss  Instances       Size\n"
          ]
        },
        {
          "output_type": "stream",
          "name": "stderr",
          "text": [
            "      43/60      6.07G      1.939      1.208      1.042        105        640: 100%|██████████| 38/38 [00:03<00:00, 11.42it/s]\n",
            "                 Class     Images  Instances      Box(P          R      mAP50  mAP50-95): 100%|██████████| 2/2 [00:00<00:00,  8.07it/s]"
          ]
        },
        {
          "output_type": "stream",
          "name": "stdout",
          "text": [
            "                   all         54        289      0.734      0.637      0.651      0.276\n"
          ]
        },
        {
          "output_type": "stream",
          "name": "stderr",
          "text": [
            "\n"
          ]
        },
        {
          "output_type": "stream",
          "name": "stdout",
          "text": [
            "\n",
            "      Epoch    GPU_mem   box_loss   cls_loss   dfl_loss  Instances       Size\n"
          ]
        },
        {
          "output_type": "stream",
          "name": "stderr",
          "text": [
            "      44/60      6.11G      1.942      1.213      1.051         99        640: 100%|██████████| 38/38 [00:03<00:00, 11.32it/s]\n",
            "                 Class     Images  Instances      Box(P          R      mAP50  mAP50-95): 100%|██████████| 2/2 [00:00<00:00,  7.94it/s]"
          ]
        },
        {
          "output_type": "stream",
          "name": "stdout",
          "text": [
            "                   all         54        289      0.709      0.647      0.662      0.288\n"
          ]
        },
        {
          "output_type": "stream",
          "name": "stderr",
          "text": [
            "\n"
          ]
        },
        {
          "output_type": "stream",
          "name": "stdout",
          "text": [
            "\n",
            "      Epoch    GPU_mem   box_loss   cls_loss   dfl_loss  Instances       Size\n"
          ]
        },
        {
          "output_type": "stream",
          "name": "stderr",
          "text": [
            "      45/60      6.14G      1.907      1.203      1.044         70        640: 100%|██████████| 38/38 [00:03<00:00, 11.20it/s]\n",
            "                 Class     Images  Instances      Box(P          R      mAP50  mAP50-95): 100%|██████████| 2/2 [00:00<00:00,  8.10it/s]"
          ]
        },
        {
          "output_type": "stream",
          "name": "stdout",
          "text": [
            "                   all         54        289      0.708      0.603      0.618      0.269\n"
          ]
        },
        {
          "output_type": "stream",
          "name": "stderr",
          "text": [
            "\n"
          ]
        },
        {
          "output_type": "stream",
          "name": "stdout",
          "text": [
            "\n",
            "      Epoch    GPU_mem   box_loss   cls_loss   dfl_loss  Instances       Size\n"
          ]
        },
        {
          "output_type": "stream",
          "name": "stderr",
          "text": [
            "      46/60      6.18G      1.881       1.16      1.025        121        640: 100%|██████████| 38/38 [00:03<00:00, 11.22it/s]\n",
            "                 Class     Images  Instances      Box(P          R      mAP50  mAP50-95): 100%|██████████| 2/2 [00:00<00:00,  7.90it/s]"
          ]
        },
        {
          "output_type": "stream",
          "name": "stdout",
          "text": [
            "                   all         54        289      0.776      0.654      0.692      0.321\n"
          ]
        },
        {
          "output_type": "stream",
          "name": "stderr",
          "text": [
            "\n"
          ]
        },
        {
          "output_type": "stream",
          "name": "stdout",
          "text": [
            "\n",
            "      Epoch    GPU_mem   box_loss   cls_loss   dfl_loss  Instances       Size\n"
          ]
        },
        {
          "output_type": "stream",
          "name": "stderr",
          "text": [
            "      47/60      6.31G      1.898      1.192       1.03         90        640: 100%|██████████| 38/38 [00:03<00:00, 11.44it/s]\n",
            "                 Class     Images  Instances      Box(P          R      mAP50  mAP50-95): 100%|██████████| 2/2 [00:00<00:00,  8.09it/s]"
          ]
        },
        {
          "output_type": "stream",
          "name": "stdout",
          "text": [
            "                   all         54        289      0.783      0.691      0.699      0.316\n"
          ]
        },
        {
          "output_type": "stream",
          "name": "stderr",
          "text": [
            "\n"
          ]
        },
        {
          "output_type": "stream",
          "name": "stdout",
          "text": [
            "\n",
            "      Epoch    GPU_mem   box_loss   cls_loss   dfl_loss  Instances       Size\n"
          ]
        },
        {
          "output_type": "stream",
          "name": "stderr",
          "text": [
            "      48/60      6.35G      1.804      1.111      1.006         65        640: 100%|██████████| 38/38 [00:03<00:00, 11.34it/s]\n",
            "                 Class     Images  Instances      Box(P          R      mAP50  mAP50-95): 100%|██████████| 2/2 [00:00<00:00,  7.89it/s]"
          ]
        },
        {
          "output_type": "stream",
          "name": "stdout",
          "text": [
            "                   all         54        289       0.74      0.612      0.648      0.281\n"
          ]
        },
        {
          "output_type": "stream",
          "name": "stderr",
          "text": [
            "\n"
          ]
        },
        {
          "output_type": "stream",
          "name": "stdout",
          "text": [
            "\n",
            "      Epoch    GPU_mem   box_loss   cls_loss   dfl_loss  Instances       Size\n"
          ]
        },
        {
          "output_type": "stream",
          "name": "stderr",
          "text": [
            "      49/60      6.39G      1.851      1.148      1.032         53        640: 100%|██████████| 38/38 [00:03<00:00, 11.70it/s]\n",
            "                 Class     Images  Instances      Box(P          R      mAP50  mAP50-95): 100%|██████████| 2/2 [00:00<00:00,  7.98it/s]"
          ]
        },
        {
          "output_type": "stream",
          "name": "stdout",
          "text": [
            "                   all         54        289        0.7      0.621      0.642      0.257\n"
          ]
        },
        {
          "output_type": "stream",
          "name": "stderr",
          "text": [
            "\n"
          ]
        },
        {
          "output_type": "stream",
          "name": "stdout",
          "text": [
            "\n",
            "      Epoch    GPU_mem   box_loss   cls_loss   dfl_loss  Instances       Size\n"
          ]
        },
        {
          "output_type": "stream",
          "name": "stderr",
          "text": [
            "      50/60      6.73G      1.792      1.114      1.015         63        640: 100%|██████████| 38/38 [00:03<00:00, 11.32it/s]\n",
            "                 Class     Images  Instances      Box(P          R      mAP50  mAP50-95): 100%|██████████| 2/2 [00:00<00:00,  7.95it/s]"
          ]
        },
        {
          "output_type": "stream",
          "name": "stdout",
          "text": [
            "                   all         54        289      0.807      0.631      0.722      0.333\n"
          ]
        },
        {
          "output_type": "stream",
          "name": "stderr",
          "text": [
            "\n"
          ]
        },
        {
          "output_type": "stream",
          "name": "stdout",
          "text": [
            "Closing dataloader mosaic\n",
            "\u001b[34m\u001b[1malbumentations: \u001b[0mBlur(p=0.01, blur_limit=(3, 7)), MedianBlur(p=0.01, blur_limit=(3, 7)), ToGray(p=0.01, method='weighted_average', num_output_channels=3), CLAHE(p=0.01, clip_limit=(1.0, 4.0), tile_grid_size=(8, 8))\n",
            "\n",
            "      Epoch    GPU_mem   box_loss   cls_loss   dfl_loss  Instances       Size\n"
          ]
        },
        {
          "output_type": "stream",
          "name": "stderr",
          "text": [
            "      51/60      6.76G      1.856      1.201      1.082         52        640: 100%|██████████| 38/38 [00:04<00:00,  9.17it/s]\n",
            "                 Class     Images  Instances      Box(P          R      mAP50  mAP50-95): 100%|██████████| 2/2 [00:00<00:00,  7.65it/s]"
          ]
        },
        {
          "output_type": "stream",
          "name": "stdout",
          "text": [
            "                   all         54        289      0.762       0.59      0.664      0.288\n"
          ]
        },
        {
          "output_type": "stream",
          "name": "stderr",
          "text": [
            "\n"
          ]
        },
        {
          "output_type": "stream",
          "name": "stdout",
          "text": [
            "\n",
            "      Epoch    GPU_mem   box_loss   cls_loss   dfl_loss  Instances       Size\n"
          ]
        },
        {
          "output_type": "stream",
          "name": "stderr",
          "text": [
            "      52/60       6.8G      1.826      1.188      1.062         90        640: 100%|██████████| 38/38 [00:03<00:00, 11.42it/s]\n",
            "                 Class     Images  Instances      Box(P          R      mAP50  mAP50-95): 100%|██████████| 2/2 [00:00<00:00,  7.76it/s]"
          ]
        },
        {
          "output_type": "stream",
          "name": "stdout",
          "text": [
            "                   all         54        289      0.753      0.621      0.672      0.298\n"
          ]
        },
        {
          "output_type": "stream",
          "name": "stderr",
          "text": [
            "\n"
          ]
        },
        {
          "output_type": "stream",
          "name": "stdout",
          "text": [
            "\n",
            "      Epoch    GPU_mem   box_loss   cls_loss   dfl_loss  Instances       Size\n"
          ]
        },
        {
          "output_type": "stream",
          "name": "stderr",
          "text": [
            "      53/60      6.84G      1.778      1.171      1.051         62        640: 100%|██████████| 38/38 [00:03<00:00, 11.75it/s]\n",
            "                 Class     Images  Instances      Box(P          R      mAP50  mAP50-95): 100%|██████████| 2/2 [00:00<00:00,  8.23it/s]"
          ]
        },
        {
          "output_type": "stream",
          "name": "stdout",
          "text": [
            "                   all         54        289      0.771      0.664      0.684      0.304\n"
          ]
        },
        {
          "output_type": "stream",
          "name": "stderr",
          "text": [
            "\n"
          ]
        },
        {
          "output_type": "stream",
          "name": "stdout",
          "text": [
            "\n",
            "      Epoch    GPU_mem   box_loss   cls_loss   dfl_loss  Instances       Size\n"
          ]
        },
        {
          "output_type": "stream",
          "name": "stderr",
          "text": [
            "      54/60      6.87G      1.788      1.172      1.052         67        640: 100%|██████████| 38/38 [00:03<00:00, 11.22it/s]\n",
            "                 Class     Images  Instances      Box(P          R      mAP50  mAP50-95): 100%|██████████| 2/2 [00:00<00:00,  7.47it/s]"
          ]
        },
        {
          "output_type": "stream",
          "name": "stdout",
          "text": [
            "                   all         54        289      0.794       0.62      0.669      0.297\n"
          ]
        },
        {
          "output_type": "stream",
          "name": "stderr",
          "text": [
            "\n"
          ]
        },
        {
          "output_type": "stream",
          "name": "stdout",
          "text": [
            "\n",
            "      Epoch    GPU_mem   box_loss   cls_loss   dfl_loss  Instances       Size\n"
          ]
        },
        {
          "output_type": "stream",
          "name": "stderr",
          "text": [
            "      55/60      6.91G      1.731      1.088       1.03         47        640: 100%|██████████| 38/38 [00:03<00:00, 11.57it/s]\n",
            "                 Class     Images  Instances      Box(P          R      mAP50  mAP50-95): 100%|██████████| 2/2 [00:00<00:00,  8.10it/s]"
          ]
        },
        {
          "output_type": "stream",
          "name": "stdout",
          "text": [
            "                   all         54        289      0.789       0.64      0.685      0.324\n"
          ]
        },
        {
          "output_type": "stream",
          "name": "stderr",
          "text": [
            "\n"
          ]
        },
        {
          "output_type": "stream",
          "name": "stdout",
          "text": [
            "\n",
            "      Epoch    GPU_mem   box_loss   cls_loss   dfl_loss  Instances       Size\n"
          ]
        },
        {
          "output_type": "stream",
          "name": "stderr",
          "text": [
            "      56/60      6.95G      1.741      1.107      1.032         76        640: 100%|██████████| 38/38 [00:03<00:00, 11.90it/s]\n",
            "                 Class     Images  Instances      Box(P          R      mAP50  mAP50-95): 100%|██████████| 2/2 [00:00<00:00,  7.87it/s]"
          ]
        },
        {
          "output_type": "stream",
          "name": "stdout",
          "text": [
            "                   all         54        289      0.719      0.678      0.701      0.316\n"
          ]
        },
        {
          "output_type": "stream",
          "name": "stderr",
          "text": [
            "\n"
          ]
        },
        {
          "output_type": "stream",
          "name": "stdout",
          "text": [
            "\n",
            "      Epoch    GPU_mem   box_loss   cls_loss   dfl_loss  Instances       Size\n"
          ]
        },
        {
          "output_type": "stream",
          "name": "stderr",
          "text": [
            "      57/60      6.98G      1.704      1.087      1.032         83        640: 100%|██████████| 38/38 [00:03<00:00, 11.40it/s]\n",
            "                 Class     Images  Instances      Box(P          R      mAP50  mAP50-95): 100%|██████████| 2/2 [00:00<00:00,  7.85it/s]"
          ]
        },
        {
          "output_type": "stream",
          "name": "stdout",
          "text": [
            "                   all         54        289      0.815      0.634      0.699      0.317\n"
          ]
        },
        {
          "output_type": "stream",
          "name": "stderr",
          "text": [
            "\n"
          ]
        },
        {
          "output_type": "stream",
          "name": "stdout",
          "text": [
            "\n",
            "      Epoch    GPU_mem   box_loss   cls_loss   dfl_loss  Instances       Size\n"
          ]
        },
        {
          "output_type": "stream",
          "name": "stderr",
          "text": [
            "      58/60      7.02G      1.754      1.129      1.038         69        640: 100%|██████████| 38/38 [00:03<00:00, 11.34it/s]\n",
            "                 Class     Images  Instances      Box(P          R      mAP50  mAP50-95): 100%|██████████| 2/2 [00:00<00:00,  7.61it/s]"
          ]
        },
        {
          "output_type": "stream",
          "name": "stdout",
          "text": [
            "                   all         54        289      0.735      0.678      0.705      0.319\n"
          ]
        },
        {
          "output_type": "stream",
          "name": "stderr",
          "text": [
            "\n"
          ]
        },
        {
          "output_type": "stream",
          "name": "stdout",
          "text": [
            "\n",
            "      Epoch    GPU_mem   box_loss   cls_loss   dfl_loss  Instances       Size\n"
          ]
        },
        {
          "output_type": "stream",
          "name": "stderr",
          "text": [
            "      59/60      7.05G      1.684      1.061      1.015         63        640: 100%|██████████| 38/38 [00:03<00:00, 11.58it/s]\n",
            "                 Class     Images  Instances      Box(P          R      mAP50  mAP50-95): 100%|██████████| 2/2 [00:00<00:00,  7.98it/s]"
          ]
        },
        {
          "output_type": "stream",
          "name": "stdout",
          "text": [
            "                   all         54        289      0.765      0.644        0.7      0.313\n"
          ]
        },
        {
          "output_type": "stream",
          "name": "stderr",
          "text": [
            "\n"
          ]
        },
        {
          "output_type": "stream",
          "name": "stdout",
          "text": [
            "\n",
            "      Epoch    GPU_mem   box_loss   cls_loss   dfl_loss  Instances       Size\n"
          ]
        },
        {
          "output_type": "stream",
          "name": "stderr",
          "text": [
            "      60/60      7.09G      1.681      1.072      1.017         55        640: 100%|██████████| 38/38 [00:03<00:00, 11.26it/s]\n",
            "                 Class     Images  Instances      Box(P          R      mAP50  mAP50-95): 100%|██████████| 2/2 [00:00<00:00,  8.17it/s]"
          ]
        },
        {
          "output_type": "stream",
          "name": "stdout",
          "text": [
            "                   all         54        289      0.734      0.677      0.702      0.314\n"
          ]
        },
        {
          "output_type": "stream",
          "name": "stderr",
          "text": [
            "\n"
          ]
        },
        {
          "output_type": "stream",
          "name": "stdout",
          "text": [
            "\n",
            "60 epochs completed in 0.067 hours.\n",
            "Optimizer stripped from runs/detect/train/weights/last.pt, 22.5MB\n",
            "Optimizer stripped from runs/detect/train/weights/best.pt, 22.5MB\n",
            "\n",
            "Validating runs/detect/train/weights/best.pt...\n",
            "Ultralytics 8.3.133 🚀 Python-3.11.12 torch-2.6.0+cu124 CUDA:0 (NVIDIA A100-SXM4-40GB, 40507MiB)\n",
            "Model summary (fused): 72 layers, 11,126,745 parameters, 0 gradients, 28.4 GFLOPs\n"
          ]
        },
        {
          "output_type": "stream",
          "name": "stderr",
          "text": [
            "                 Class     Images  Instances      Box(P          R      mAP50  mAP50-95): 100%|██████████| 2/2 [00:00<00:00,  6.01it/s]\n"
          ]
        },
        {
          "output_type": "stream",
          "name": "stdout",
          "text": [
            "                   all         54        289      0.802      0.635      0.722      0.334\n",
            "                Flower         41        113      0.866      0.628      0.764      0.331\n",
            "                 Green         50        151      0.806      0.477      0.597       0.23\n",
            "                  Ripe          6         25      0.733        0.8      0.804      0.441\n",
            "Speed: 0.1ms preprocess, 0.8ms inference, 0.0ms loss, 1.6ms postprocess per image\n",
            "Results saved to \u001b[1mruns/detect/train\u001b[0m\n"
          ]
        },
        {
          "output_type": "execute_result",
          "data": {
            "text/plain": [
              "ultralytics.utils.metrics.DetMetrics object with attributes:\n",
              "\n",
              "ap_class_index: array([0, 1, 2])\n",
              "box: ultralytics.utils.metrics.Metric object\n",
              "confusion_matrix: <ultralytics.utils.metrics.ConfusionMatrix object at 0x7f5835a19990>\n",
              "curves: ['Precision-Recall(B)', 'F1-Confidence(B)', 'Precision-Confidence(B)', 'Recall-Confidence(B)']\n",
              "curves_results: [[array([          0,    0.001001,    0.002002,    0.003003,    0.004004,    0.005005,    0.006006,    0.007007,    0.008008,    0.009009,     0.01001,    0.011011,    0.012012,    0.013013,    0.014014,    0.015015,    0.016016,    0.017017,    0.018018,    0.019019,     0.02002,    0.021021,    0.022022,    0.023023,\n",
              "          0.024024,    0.025025,    0.026026,    0.027027,    0.028028,    0.029029,     0.03003,    0.031031,    0.032032,    0.033033,    0.034034,    0.035035,    0.036036,    0.037037,    0.038038,    0.039039,     0.04004,    0.041041,    0.042042,    0.043043,    0.044044,    0.045045,    0.046046,    0.047047,\n",
              "          0.048048,    0.049049,     0.05005,    0.051051,    0.052052,    0.053053,    0.054054,    0.055055,    0.056056,    0.057057,    0.058058,    0.059059,     0.06006,    0.061061,    0.062062,    0.063063,    0.064064,    0.065065,    0.066066,    0.067067,    0.068068,    0.069069,     0.07007,    0.071071,\n",
              "          0.072072,    0.073073,    0.074074,    0.075075,    0.076076,    0.077077,    0.078078,    0.079079,     0.08008,    0.081081,    0.082082,    0.083083,    0.084084,    0.085085,    0.086086,    0.087087,    0.088088,    0.089089,     0.09009,    0.091091,    0.092092,    0.093093,    0.094094,    0.095095,\n",
              "          0.096096,    0.097097,    0.098098,    0.099099,      0.1001,      0.1011,      0.1021,      0.1031,      0.1041,     0.10511,     0.10611,     0.10711,     0.10811,     0.10911,     0.11011,     0.11111,     0.11211,     0.11311,     0.11411,     0.11512,     0.11612,     0.11712,     0.11812,     0.11912,\n",
              "           0.12012,     0.12112,     0.12212,     0.12312,     0.12412,     0.12513,     0.12613,     0.12713,     0.12813,     0.12913,     0.13013,     0.13113,     0.13213,     0.13313,     0.13413,     0.13514,     0.13614,     0.13714,     0.13814,     0.13914,     0.14014,     0.14114,     0.14214,     0.14314,\n",
              "           0.14414,     0.14515,     0.14615,     0.14715,     0.14815,     0.14915,     0.15015,     0.15115,     0.15215,     0.15315,     0.15415,     0.15516,     0.15616,     0.15716,     0.15816,     0.15916,     0.16016,     0.16116,     0.16216,     0.16316,     0.16416,     0.16517,     0.16617,     0.16717,\n",
              "           0.16817,     0.16917,     0.17017,     0.17117,     0.17217,     0.17317,     0.17417,     0.17518,     0.17618,     0.17718,     0.17818,     0.17918,     0.18018,     0.18118,     0.18218,     0.18318,     0.18418,     0.18519,     0.18619,     0.18719,     0.18819,     0.18919,     0.19019,     0.19119,\n",
              "           0.19219,     0.19319,     0.19419,      0.1952,      0.1962,      0.1972,      0.1982,      0.1992,      0.2002,      0.2012,      0.2022,      0.2032,      0.2042,     0.20521,     0.20621,     0.20721,     0.20821,     0.20921,     0.21021,     0.21121,     0.21221,     0.21321,     0.21421,     0.21522,\n",
              "           0.21622,     0.21722,     0.21822,     0.21922,     0.22022,     0.22122,     0.22222,     0.22322,     0.22422,     0.22523,     0.22623,     0.22723,     0.22823,     0.22923,     0.23023,     0.23123,     0.23223,     0.23323,     0.23423,     0.23524,     0.23624,     0.23724,     0.23824,     0.23924,\n",
              "           0.24024,     0.24124,     0.24224,     0.24324,     0.24424,     0.24525,     0.24625,     0.24725,     0.24825,     0.24925,     0.25025,     0.25125,     0.25225,     0.25325,     0.25425,     0.25526,     0.25626,     0.25726,     0.25826,     0.25926,     0.26026,     0.26126,     0.26226,     0.26326,\n",
              "           0.26426,     0.26527,     0.26627,     0.26727,     0.26827,     0.26927,     0.27027,     0.27127,     0.27227,     0.27327,     0.27427,     0.27528,     0.27628,     0.27728,     0.27828,     0.27928,     0.28028,     0.28128,     0.28228,     0.28328,     0.28428,     0.28529,     0.28629,     0.28729,\n",
              "           0.28829,     0.28929,     0.29029,     0.29129,     0.29229,     0.29329,     0.29429,      0.2953,      0.2963,      0.2973,      0.2983,      0.2993,      0.3003,      0.3013,      0.3023,      0.3033,      0.3043,     0.30531,     0.30631,     0.30731,     0.30831,     0.30931,     0.31031,     0.31131,\n",
              "           0.31231,     0.31331,     0.31431,     0.31532,     0.31632,     0.31732,     0.31832,     0.31932,     0.32032,     0.32132,     0.32232,     0.32332,     0.32432,     0.32533,     0.32633,     0.32733,     0.32833,     0.32933,     0.33033,     0.33133,     0.33233,     0.33333,     0.33433,     0.33534,\n",
              "           0.33634,     0.33734,     0.33834,     0.33934,     0.34034,     0.34134,     0.34234,     0.34334,     0.34434,     0.34535,     0.34635,     0.34735,     0.34835,     0.34935,     0.35035,     0.35135,     0.35235,     0.35335,     0.35435,     0.35536,     0.35636,     0.35736,     0.35836,     0.35936,\n",
              "           0.36036,     0.36136,     0.36236,     0.36336,     0.36436,     0.36537,     0.36637,     0.36737,     0.36837,     0.36937,     0.37037,     0.37137,     0.37237,     0.37337,     0.37437,     0.37538,     0.37638,     0.37738,     0.37838,     0.37938,     0.38038,     0.38138,     0.38238,     0.38338,\n",
              "           0.38438,     0.38539,     0.38639,     0.38739,     0.38839,     0.38939,     0.39039,     0.39139,     0.39239,     0.39339,     0.39439,      0.3954,      0.3964,      0.3974,      0.3984,      0.3994,      0.4004,      0.4014,      0.4024,      0.4034,      0.4044,     0.40541,     0.40641,     0.40741,\n",
              "           0.40841,     0.40941,     0.41041,     0.41141,     0.41241,     0.41341,     0.41441,     0.41542,     0.41642,     0.41742,     0.41842,     0.41942,     0.42042,     0.42142,     0.42242,     0.42342,     0.42442,     0.42543,     0.42643,     0.42743,     0.42843,     0.42943,     0.43043,     0.43143,\n",
              "           0.43243,     0.43343,     0.43443,     0.43544,     0.43644,     0.43744,     0.43844,     0.43944,     0.44044,     0.44144,     0.44244,     0.44344,     0.44444,     0.44545,     0.44645,     0.44745,     0.44845,     0.44945,     0.45045,     0.45145,     0.45245,     0.45345,     0.45445,     0.45546,\n",
              "           0.45646,     0.45746,     0.45846,     0.45946,     0.46046,     0.46146,     0.46246,     0.46346,     0.46446,     0.46547,     0.46647,     0.46747,     0.46847,     0.46947,     0.47047,     0.47147,     0.47247,     0.47347,     0.47447,     0.47548,     0.47648,     0.47748,     0.47848,     0.47948,\n",
              "           0.48048,     0.48148,     0.48248,     0.48348,     0.48448,     0.48549,     0.48649,     0.48749,     0.48849,     0.48949,     0.49049,     0.49149,     0.49249,     0.49349,     0.49449,      0.4955,      0.4965,      0.4975,      0.4985,      0.4995,      0.5005,      0.5015,      0.5025,      0.5035,\n",
              "            0.5045,     0.50551,     0.50651,     0.50751,     0.50851,     0.50951,     0.51051,     0.51151,     0.51251,     0.51351,     0.51451,     0.51552,     0.51652,     0.51752,     0.51852,     0.51952,     0.52052,     0.52152,     0.52252,     0.52352,     0.52452,     0.52553,     0.52653,     0.52753,\n",
              "           0.52853,     0.52953,     0.53053,     0.53153,     0.53253,     0.53353,     0.53453,     0.53554,     0.53654,     0.53754,     0.53854,     0.53954,     0.54054,     0.54154,     0.54254,     0.54354,     0.54454,     0.54555,     0.54655,     0.54755,     0.54855,     0.54955,     0.55055,     0.55155,\n",
              "           0.55255,     0.55355,     0.55455,     0.55556,     0.55656,     0.55756,     0.55856,     0.55956,     0.56056,     0.56156,     0.56256,     0.56356,     0.56456,     0.56557,     0.56657,     0.56757,     0.56857,     0.56957,     0.57057,     0.57157,     0.57257,     0.57357,     0.57457,     0.57558,\n",
              "           0.57658,     0.57758,     0.57858,     0.57958,     0.58058,     0.58158,     0.58258,     0.58358,     0.58458,     0.58559,     0.58659,     0.58759,     0.58859,     0.58959,     0.59059,     0.59159,     0.59259,     0.59359,     0.59459,      0.5956,      0.5966,      0.5976,      0.5986,      0.5996,\n",
              "            0.6006,      0.6016,      0.6026,      0.6036,      0.6046,     0.60561,     0.60661,     0.60761,     0.60861,     0.60961,     0.61061,     0.61161,     0.61261,     0.61361,     0.61461,     0.61562,     0.61662,     0.61762,     0.61862,     0.61962,     0.62062,     0.62162,     0.62262,     0.62362,\n",
              "           0.62462,     0.62563,     0.62663,     0.62763,     0.62863,     0.62963,     0.63063,     0.63163,     0.63263,     0.63363,     0.63463,     0.63564,     0.63664,     0.63764,     0.63864,     0.63964,     0.64064,     0.64164,     0.64264,     0.64364,     0.64464,     0.64565,     0.64665,     0.64765,\n",
              "           0.64865,     0.64965,     0.65065,     0.65165,     0.65265,     0.65365,     0.65465,     0.65566,     0.65666,     0.65766,     0.65866,     0.65966,     0.66066,     0.66166,     0.66266,     0.66366,     0.66466,     0.66567,     0.66667,     0.66767,     0.66867,     0.66967,     0.67067,     0.67167,\n",
              "           0.67267,     0.67367,     0.67467,     0.67568,     0.67668,     0.67768,     0.67868,     0.67968,     0.68068,     0.68168,     0.68268,     0.68368,     0.68468,     0.68569,     0.68669,     0.68769,     0.68869,     0.68969,     0.69069,     0.69169,     0.69269,     0.69369,     0.69469,      0.6957,\n",
              "            0.6967,      0.6977,      0.6987,      0.6997,      0.7007,      0.7017,      0.7027,      0.7037,      0.7047,     0.70571,     0.70671,     0.70771,     0.70871,     0.70971,     0.71071,     0.71171,     0.71271,     0.71371,     0.71471,     0.71572,     0.71672,     0.71772,     0.71872,     0.71972,\n",
              "           0.72072,     0.72172,     0.72272,     0.72372,     0.72472,     0.72573,     0.72673,     0.72773,     0.72873,     0.72973,     0.73073,     0.73173,     0.73273,     0.73373,     0.73473,     0.73574,     0.73674,     0.73774,     0.73874,     0.73974,     0.74074,     0.74174,     0.74274,     0.74374,\n",
              "           0.74474,     0.74575,     0.74675,     0.74775,     0.74875,     0.74975,     0.75075,     0.75175,     0.75275,     0.75375,     0.75475,     0.75576,     0.75676,     0.75776,     0.75876,     0.75976,     0.76076,     0.76176,     0.76276,     0.76376,     0.76476,     0.76577,     0.76677,     0.76777,\n",
              "           0.76877,     0.76977,     0.77077,     0.77177,     0.77277,     0.77377,     0.77477,     0.77578,     0.77678,     0.77778,     0.77878,     0.77978,     0.78078,     0.78178,     0.78278,     0.78378,     0.78478,     0.78579,     0.78679,     0.78779,     0.78879,     0.78979,     0.79079,     0.79179,\n",
              "           0.79279,     0.79379,     0.79479,      0.7958,      0.7968,      0.7978,      0.7988,      0.7998,      0.8008,      0.8018,      0.8028,      0.8038,      0.8048,     0.80581,     0.80681,     0.80781,     0.80881,     0.80981,     0.81081,     0.81181,     0.81281,     0.81381,     0.81481,     0.81582,\n",
              "           0.81682,     0.81782,     0.81882,     0.81982,     0.82082,     0.82182,     0.82282,     0.82382,     0.82482,     0.82583,     0.82683,     0.82783,     0.82883,     0.82983,     0.83083,     0.83183,     0.83283,     0.83383,     0.83483,     0.83584,     0.83684,     0.83784,     0.83884,     0.83984,\n",
              "           0.84084,     0.84184,     0.84284,     0.84384,     0.84484,     0.84585,     0.84685,     0.84785,     0.84885,     0.84985,     0.85085,     0.85185,     0.85285,     0.85385,     0.85485,     0.85586,     0.85686,     0.85786,     0.85886,     0.85986,     0.86086,     0.86186,     0.86286,     0.86386,\n",
              "           0.86486,     0.86587,     0.86687,     0.86787,     0.86887,     0.86987,     0.87087,     0.87187,     0.87287,     0.87387,     0.87487,     0.87588,     0.87688,     0.87788,     0.87888,     0.87988,     0.88088,     0.88188,     0.88288,     0.88388,     0.88488,     0.88589,     0.88689,     0.88789,\n",
              "           0.88889,     0.88989,     0.89089,     0.89189,     0.89289,     0.89389,     0.89489,      0.8959,      0.8969,      0.8979,      0.8989,      0.8999,      0.9009,      0.9019,      0.9029,      0.9039,      0.9049,     0.90591,     0.90691,     0.90791,     0.90891,     0.90991,     0.91091,     0.91191,\n",
              "           0.91291,     0.91391,     0.91491,     0.91592,     0.91692,     0.91792,     0.91892,     0.91992,     0.92092,     0.92192,     0.92292,     0.92392,     0.92492,     0.92593,     0.92693,     0.92793,     0.92893,     0.92993,     0.93093,     0.93193,     0.93293,     0.93393,     0.93493,     0.93594,\n",
              "           0.93694,     0.93794,     0.93894,     0.93994,     0.94094,     0.94194,     0.94294,     0.94394,     0.94494,     0.94595,     0.94695,     0.94795,     0.94895,     0.94995,     0.95095,     0.95195,     0.95295,     0.95395,     0.95495,     0.95596,     0.95696,     0.95796,     0.95896,     0.95996,\n",
              "           0.96096,     0.96196,     0.96296,     0.96396,     0.96496,     0.96597,     0.96697,     0.96797,     0.96897,     0.96997,     0.97097,     0.97197,     0.97297,     0.97397,     0.97497,     0.97598,     0.97698,     0.97798,     0.97898,     0.97998,     0.98098,     0.98198,     0.98298,     0.98398,\n",
              "           0.98498,     0.98599,     0.98699,     0.98799,     0.98899,     0.98999,     0.99099,     0.99199,     0.99299,     0.99399,     0.99499,       0.996,       0.997,       0.998,       0.999,           1]), array([[          1,           1,           1, ...,   0.0013473,  0.00067365,           0],\n",
              "       [          1,           1,           1, ...,  0.00049695,  0.00024848,           0],\n",
              "       [    0.94737,     0.94737,     0.94737, ...,   0.0023209,   0.0011604,           0]]), 'Recall', 'Precision'], [array([          0,    0.001001,    0.002002,    0.003003,    0.004004,    0.005005,    0.006006,    0.007007,    0.008008,    0.009009,     0.01001,    0.011011,    0.012012,    0.013013,    0.014014,    0.015015,    0.016016,    0.017017,    0.018018,    0.019019,     0.02002,    0.021021,    0.022022,    0.023023,\n",
              "          0.024024,    0.025025,    0.026026,    0.027027,    0.028028,    0.029029,     0.03003,    0.031031,    0.032032,    0.033033,    0.034034,    0.035035,    0.036036,    0.037037,    0.038038,    0.039039,     0.04004,    0.041041,    0.042042,    0.043043,    0.044044,    0.045045,    0.046046,    0.047047,\n",
              "          0.048048,    0.049049,     0.05005,    0.051051,    0.052052,    0.053053,    0.054054,    0.055055,    0.056056,    0.057057,    0.058058,    0.059059,     0.06006,    0.061061,    0.062062,    0.063063,    0.064064,    0.065065,    0.066066,    0.067067,    0.068068,    0.069069,     0.07007,    0.071071,\n",
              "          0.072072,    0.073073,    0.074074,    0.075075,    0.076076,    0.077077,    0.078078,    0.079079,     0.08008,    0.081081,    0.082082,    0.083083,    0.084084,    0.085085,    0.086086,    0.087087,    0.088088,    0.089089,     0.09009,    0.091091,    0.092092,    0.093093,    0.094094,    0.095095,\n",
              "          0.096096,    0.097097,    0.098098,    0.099099,      0.1001,      0.1011,      0.1021,      0.1031,      0.1041,     0.10511,     0.10611,     0.10711,     0.10811,     0.10911,     0.11011,     0.11111,     0.11211,     0.11311,     0.11411,     0.11512,     0.11612,     0.11712,     0.11812,     0.11912,\n",
              "           0.12012,     0.12112,     0.12212,     0.12312,     0.12412,     0.12513,     0.12613,     0.12713,     0.12813,     0.12913,     0.13013,     0.13113,     0.13213,     0.13313,     0.13413,     0.13514,     0.13614,     0.13714,     0.13814,     0.13914,     0.14014,     0.14114,     0.14214,     0.14314,\n",
              "           0.14414,     0.14515,     0.14615,     0.14715,     0.14815,     0.14915,     0.15015,     0.15115,     0.15215,     0.15315,     0.15415,     0.15516,     0.15616,     0.15716,     0.15816,     0.15916,     0.16016,     0.16116,     0.16216,     0.16316,     0.16416,     0.16517,     0.16617,     0.16717,\n",
              "           0.16817,     0.16917,     0.17017,     0.17117,     0.17217,     0.17317,     0.17417,     0.17518,     0.17618,     0.17718,     0.17818,     0.17918,     0.18018,     0.18118,     0.18218,     0.18318,     0.18418,     0.18519,     0.18619,     0.18719,     0.18819,     0.18919,     0.19019,     0.19119,\n",
              "           0.19219,     0.19319,     0.19419,      0.1952,      0.1962,      0.1972,      0.1982,      0.1992,      0.2002,      0.2012,      0.2022,      0.2032,      0.2042,     0.20521,     0.20621,     0.20721,     0.20821,     0.20921,     0.21021,     0.21121,     0.21221,     0.21321,     0.21421,     0.21522,\n",
              "           0.21622,     0.21722,     0.21822,     0.21922,     0.22022,     0.22122,     0.22222,     0.22322,     0.22422,     0.22523,     0.22623,     0.22723,     0.22823,     0.22923,     0.23023,     0.23123,     0.23223,     0.23323,     0.23423,     0.23524,     0.23624,     0.23724,     0.23824,     0.23924,\n",
              "           0.24024,     0.24124,     0.24224,     0.24324,     0.24424,     0.24525,     0.24625,     0.24725,     0.24825,     0.24925,     0.25025,     0.25125,     0.25225,     0.25325,     0.25425,     0.25526,     0.25626,     0.25726,     0.25826,     0.25926,     0.26026,     0.26126,     0.26226,     0.26326,\n",
              "           0.26426,     0.26527,     0.26627,     0.26727,     0.26827,     0.26927,     0.27027,     0.27127,     0.27227,     0.27327,     0.27427,     0.27528,     0.27628,     0.27728,     0.27828,     0.27928,     0.28028,     0.28128,     0.28228,     0.28328,     0.28428,     0.28529,     0.28629,     0.28729,\n",
              "           0.28829,     0.28929,     0.29029,     0.29129,     0.29229,     0.29329,     0.29429,      0.2953,      0.2963,      0.2973,      0.2983,      0.2993,      0.3003,      0.3013,      0.3023,      0.3033,      0.3043,     0.30531,     0.30631,     0.30731,     0.30831,     0.30931,     0.31031,     0.31131,\n",
              "           0.31231,     0.31331,     0.31431,     0.31532,     0.31632,     0.31732,     0.31832,     0.31932,     0.32032,     0.32132,     0.32232,     0.32332,     0.32432,     0.32533,     0.32633,     0.32733,     0.32833,     0.32933,     0.33033,     0.33133,     0.33233,     0.33333,     0.33433,     0.33534,\n",
              "           0.33634,     0.33734,     0.33834,     0.33934,     0.34034,     0.34134,     0.34234,     0.34334,     0.34434,     0.34535,     0.34635,     0.34735,     0.34835,     0.34935,     0.35035,     0.35135,     0.35235,     0.35335,     0.35435,     0.35536,     0.35636,     0.35736,     0.35836,     0.35936,\n",
              "           0.36036,     0.36136,     0.36236,     0.36336,     0.36436,     0.36537,     0.36637,     0.36737,     0.36837,     0.36937,     0.37037,     0.37137,     0.37237,     0.37337,     0.37437,     0.37538,     0.37638,     0.37738,     0.37838,     0.37938,     0.38038,     0.38138,     0.38238,     0.38338,\n",
              "           0.38438,     0.38539,     0.38639,     0.38739,     0.38839,     0.38939,     0.39039,     0.39139,     0.39239,     0.39339,     0.39439,      0.3954,      0.3964,      0.3974,      0.3984,      0.3994,      0.4004,      0.4014,      0.4024,      0.4034,      0.4044,     0.40541,     0.40641,     0.40741,\n",
              "           0.40841,     0.40941,     0.41041,     0.41141,     0.41241,     0.41341,     0.41441,     0.41542,     0.41642,     0.41742,     0.41842,     0.41942,     0.42042,     0.42142,     0.42242,     0.42342,     0.42442,     0.42543,     0.42643,     0.42743,     0.42843,     0.42943,     0.43043,     0.43143,\n",
              "           0.43243,     0.43343,     0.43443,     0.43544,     0.43644,     0.43744,     0.43844,     0.43944,     0.44044,     0.44144,     0.44244,     0.44344,     0.44444,     0.44545,     0.44645,     0.44745,     0.44845,     0.44945,     0.45045,     0.45145,     0.45245,     0.45345,     0.45445,     0.45546,\n",
              "           0.45646,     0.45746,     0.45846,     0.45946,     0.46046,     0.46146,     0.46246,     0.46346,     0.46446,     0.46547,     0.46647,     0.46747,     0.46847,     0.46947,     0.47047,     0.47147,     0.47247,     0.47347,     0.47447,     0.47548,     0.47648,     0.47748,     0.47848,     0.47948,\n",
              "           0.48048,     0.48148,     0.48248,     0.48348,     0.48448,     0.48549,     0.48649,     0.48749,     0.48849,     0.48949,     0.49049,     0.49149,     0.49249,     0.49349,     0.49449,      0.4955,      0.4965,      0.4975,      0.4985,      0.4995,      0.5005,      0.5015,      0.5025,      0.5035,\n",
              "            0.5045,     0.50551,     0.50651,     0.50751,     0.50851,     0.50951,     0.51051,     0.51151,     0.51251,     0.51351,     0.51451,     0.51552,     0.51652,     0.51752,     0.51852,     0.51952,     0.52052,     0.52152,     0.52252,     0.52352,     0.52452,     0.52553,     0.52653,     0.52753,\n",
              "           0.52853,     0.52953,     0.53053,     0.53153,     0.53253,     0.53353,     0.53453,     0.53554,     0.53654,     0.53754,     0.53854,     0.53954,     0.54054,     0.54154,     0.54254,     0.54354,     0.54454,     0.54555,     0.54655,     0.54755,     0.54855,     0.54955,     0.55055,     0.55155,\n",
              "           0.55255,     0.55355,     0.55455,     0.55556,     0.55656,     0.55756,     0.55856,     0.55956,     0.56056,     0.56156,     0.56256,     0.56356,     0.56456,     0.56557,     0.56657,     0.56757,     0.56857,     0.56957,     0.57057,     0.57157,     0.57257,     0.57357,     0.57457,     0.57558,\n",
              "           0.57658,     0.57758,     0.57858,     0.57958,     0.58058,     0.58158,     0.58258,     0.58358,     0.58458,     0.58559,     0.58659,     0.58759,     0.58859,     0.58959,     0.59059,     0.59159,     0.59259,     0.59359,     0.59459,      0.5956,      0.5966,      0.5976,      0.5986,      0.5996,\n",
              "            0.6006,      0.6016,      0.6026,      0.6036,      0.6046,     0.60561,     0.60661,     0.60761,     0.60861,     0.60961,     0.61061,     0.61161,     0.61261,     0.61361,     0.61461,     0.61562,     0.61662,     0.61762,     0.61862,     0.61962,     0.62062,     0.62162,     0.62262,     0.62362,\n",
              "           0.62462,     0.62563,     0.62663,     0.62763,     0.62863,     0.62963,     0.63063,     0.63163,     0.63263,     0.63363,     0.63463,     0.63564,     0.63664,     0.63764,     0.63864,     0.63964,     0.64064,     0.64164,     0.64264,     0.64364,     0.64464,     0.64565,     0.64665,     0.64765,\n",
              "           0.64865,     0.64965,     0.65065,     0.65165,     0.65265,     0.65365,     0.65465,     0.65566,     0.65666,     0.65766,     0.65866,     0.65966,     0.66066,     0.66166,     0.66266,     0.66366,     0.66466,     0.66567,     0.66667,     0.66767,     0.66867,     0.66967,     0.67067,     0.67167,\n",
              "           0.67267,     0.67367,     0.67467,     0.67568,     0.67668,     0.67768,     0.67868,     0.67968,     0.68068,     0.68168,     0.68268,     0.68368,     0.68468,     0.68569,     0.68669,     0.68769,     0.68869,     0.68969,     0.69069,     0.69169,     0.69269,     0.69369,     0.69469,      0.6957,\n",
              "            0.6967,      0.6977,      0.6987,      0.6997,      0.7007,      0.7017,      0.7027,      0.7037,      0.7047,     0.70571,     0.70671,     0.70771,     0.70871,     0.70971,     0.71071,     0.71171,     0.71271,     0.71371,     0.71471,     0.71572,     0.71672,     0.71772,     0.71872,     0.71972,\n",
              "           0.72072,     0.72172,     0.72272,     0.72372,     0.72472,     0.72573,     0.72673,     0.72773,     0.72873,     0.72973,     0.73073,     0.73173,     0.73273,     0.73373,     0.73473,     0.73574,     0.73674,     0.73774,     0.73874,     0.73974,     0.74074,     0.74174,     0.74274,     0.74374,\n",
              "           0.74474,     0.74575,     0.74675,     0.74775,     0.74875,     0.74975,     0.75075,     0.75175,     0.75275,     0.75375,     0.75475,     0.75576,     0.75676,     0.75776,     0.75876,     0.75976,     0.76076,     0.76176,     0.76276,     0.76376,     0.76476,     0.76577,     0.76677,     0.76777,\n",
              "           0.76877,     0.76977,     0.77077,     0.77177,     0.77277,     0.77377,     0.77477,     0.77578,     0.77678,     0.77778,     0.77878,     0.77978,     0.78078,     0.78178,     0.78278,     0.78378,     0.78478,     0.78579,     0.78679,     0.78779,     0.78879,     0.78979,     0.79079,     0.79179,\n",
              "           0.79279,     0.79379,     0.79479,      0.7958,      0.7968,      0.7978,      0.7988,      0.7998,      0.8008,      0.8018,      0.8028,      0.8038,      0.8048,     0.80581,     0.80681,     0.80781,     0.80881,     0.80981,     0.81081,     0.81181,     0.81281,     0.81381,     0.81481,     0.81582,\n",
              "           0.81682,     0.81782,     0.81882,     0.81982,     0.82082,     0.82182,     0.82282,     0.82382,     0.82482,     0.82583,     0.82683,     0.82783,     0.82883,     0.82983,     0.83083,     0.83183,     0.83283,     0.83383,     0.83483,     0.83584,     0.83684,     0.83784,     0.83884,     0.83984,\n",
              "           0.84084,     0.84184,     0.84284,     0.84384,     0.84484,     0.84585,     0.84685,     0.84785,     0.84885,     0.84985,     0.85085,     0.85185,     0.85285,     0.85385,     0.85485,     0.85586,     0.85686,     0.85786,     0.85886,     0.85986,     0.86086,     0.86186,     0.86286,     0.86386,\n",
              "           0.86486,     0.86587,     0.86687,     0.86787,     0.86887,     0.86987,     0.87087,     0.87187,     0.87287,     0.87387,     0.87487,     0.87588,     0.87688,     0.87788,     0.87888,     0.87988,     0.88088,     0.88188,     0.88288,     0.88388,     0.88488,     0.88589,     0.88689,     0.88789,\n",
              "           0.88889,     0.88989,     0.89089,     0.89189,     0.89289,     0.89389,     0.89489,      0.8959,      0.8969,      0.8979,      0.8989,      0.8999,      0.9009,      0.9019,      0.9029,      0.9039,      0.9049,     0.90591,     0.90691,     0.90791,     0.90891,     0.90991,     0.91091,     0.91191,\n",
              "           0.91291,     0.91391,     0.91491,     0.91592,     0.91692,     0.91792,     0.91892,     0.91992,     0.92092,     0.92192,     0.92292,     0.92392,     0.92492,     0.92593,     0.92693,     0.92793,     0.92893,     0.92993,     0.93093,     0.93193,     0.93293,     0.93393,     0.93493,     0.93594,\n",
              "           0.93694,     0.93794,     0.93894,     0.93994,     0.94094,     0.94194,     0.94294,     0.94394,     0.94494,     0.94595,     0.94695,     0.94795,     0.94895,     0.94995,     0.95095,     0.95195,     0.95295,     0.95395,     0.95495,     0.95596,     0.95696,     0.95796,     0.95896,     0.95996,\n",
              "           0.96096,     0.96196,     0.96296,     0.96396,     0.96496,     0.96597,     0.96697,     0.96797,     0.96897,     0.96997,     0.97097,     0.97197,     0.97297,     0.97397,     0.97497,     0.97598,     0.97698,     0.97798,     0.97898,     0.97998,     0.98098,     0.98198,     0.98298,     0.98398,\n",
              "           0.98498,     0.98599,     0.98699,     0.98799,     0.98899,     0.98999,     0.99099,     0.99199,     0.99299,     0.99399,     0.99499,       0.996,       0.997,       0.998,       0.999,           1]), array([[    0.12216,     0.12216,     0.16164, ...,           0,           0,           0],\n",
              "       [   0.075371,    0.075371,    0.092631, ...,           0,           0,           0],\n",
              "       [     0.1685,      0.1685,     0.21693, ...,           0,           0,           0]]), 'Confidence', 'F1'], [array([          0,    0.001001,    0.002002,    0.003003,    0.004004,    0.005005,    0.006006,    0.007007,    0.008008,    0.009009,     0.01001,    0.011011,    0.012012,    0.013013,    0.014014,    0.015015,    0.016016,    0.017017,    0.018018,    0.019019,     0.02002,    0.021021,    0.022022,    0.023023,\n",
              "          0.024024,    0.025025,    0.026026,    0.027027,    0.028028,    0.029029,     0.03003,    0.031031,    0.032032,    0.033033,    0.034034,    0.035035,    0.036036,    0.037037,    0.038038,    0.039039,     0.04004,    0.041041,    0.042042,    0.043043,    0.044044,    0.045045,    0.046046,    0.047047,\n",
              "          0.048048,    0.049049,     0.05005,    0.051051,    0.052052,    0.053053,    0.054054,    0.055055,    0.056056,    0.057057,    0.058058,    0.059059,     0.06006,    0.061061,    0.062062,    0.063063,    0.064064,    0.065065,    0.066066,    0.067067,    0.068068,    0.069069,     0.07007,    0.071071,\n",
              "          0.072072,    0.073073,    0.074074,    0.075075,    0.076076,    0.077077,    0.078078,    0.079079,     0.08008,    0.081081,    0.082082,    0.083083,    0.084084,    0.085085,    0.086086,    0.087087,    0.088088,    0.089089,     0.09009,    0.091091,    0.092092,    0.093093,    0.094094,    0.095095,\n",
              "          0.096096,    0.097097,    0.098098,    0.099099,      0.1001,      0.1011,      0.1021,      0.1031,      0.1041,     0.10511,     0.10611,     0.10711,     0.10811,     0.10911,     0.11011,     0.11111,     0.11211,     0.11311,     0.11411,     0.11512,     0.11612,     0.11712,     0.11812,     0.11912,\n",
              "           0.12012,     0.12112,     0.12212,     0.12312,     0.12412,     0.12513,     0.12613,     0.12713,     0.12813,     0.12913,     0.13013,     0.13113,     0.13213,     0.13313,     0.13413,     0.13514,     0.13614,     0.13714,     0.13814,     0.13914,     0.14014,     0.14114,     0.14214,     0.14314,\n",
              "           0.14414,     0.14515,     0.14615,     0.14715,     0.14815,     0.14915,     0.15015,     0.15115,     0.15215,     0.15315,     0.15415,     0.15516,     0.15616,     0.15716,     0.15816,     0.15916,     0.16016,     0.16116,     0.16216,     0.16316,     0.16416,     0.16517,     0.16617,     0.16717,\n",
              "           0.16817,     0.16917,     0.17017,     0.17117,     0.17217,     0.17317,     0.17417,     0.17518,     0.17618,     0.17718,     0.17818,     0.17918,     0.18018,     0.18118,     0.18218,     0.18318,     0.18418,     0.18519,     0.18619,     0.18719,     0.18819,     0.18919,     0.19019,     0.19119,\n",
              "           0.19219,     0.19319,     0.19419,      0.1952,      0.1962,      0.1972,      0.1982,      0.1992,      0.2002,      0.2012,      0.2022,      0.2032,      0.2042,     0.20521,     0.20621,     0.20721,     0.20821,     0.20921,     0.21021,     0.21121,     0.21221,     0.21321,     0.21421,     0.21522,\n",
              "           0.21622,     0.21722,     0.21822,     0.21922,     0.22022,     0.22122,     0.22222,     0.22322,     0.22422,     0.22523,     0.22623,     0.22723,     0.22823,     0.22923,     0.23023,     0.23123,     0.23223,     0.23323,     0.23423,     0.23524,     0.23624,     0.23724,     0.23824,     0.23924,\n",
              "           0.24024,     0.24124,     0.24224,     0.24324,     0.24424,     0.24525,     0.24625,     0.24725,     0.24825,     0.24925,     0.25025,     0.25125,     0.25225,     0.25325,     0.25425,     0.25526,     0.25626,     0.25726,     0.25826,     0.25926,     0.26026,     0.26126,     0.26226,     0.26326,\n",
              "           0.26426,     0.26527,     0.26627,     0.26727,     0.26827,     0.26927,     0.27027,     0.27127,     0.27227,     0.27327,     0.27427,     0.27528,     0.27628,     0.27728,     0.27828,     0.27928,     0.28028,     0.28128,     0.28228,     0.28328,     0.28428,     0.28529,     0.28629,     0.28729,\n",
              "           0.28829,     0.28929,     0.29029,     0.29129,     0.29229,     0.29329,     0.29429,      0.2953,      0.2963,      0.2973,      0.2983,      0.2993,      0.3003,      0.3013,      0.3023,      0.3033,      0.3043,     0.30531,     0.30631,     0.30731,     0.30831,     0.30931,     0.31031,     0.31131,\n",
              "           0.31231,     0.31331,     0.31431,     0.31532,     0.31632,     0.31732,     0.31832,     0.31932,     0.32032,     0.32132,     0.32232,     0.32332,     0.32432,     0.32533,     0.32633,     0.32733,     0.32833,     0.32933,     0.33033,     0.33133,     0.33233,     0.33333,     0.33433,     0.33534,\n",
              "           0.33634,     0.33734,     0.33834,     0.33934,     0.34034,     0.34134,     0.34234,     0.34334,     0.34434,     0.34535,     0.34635,     0.34735,     0.34835,     0.34935,     0.35035,     0.35135,     0.35235,     0.35335,     0.35435,     0.35536,     0.35636,     0.35736,     0.35836,     0.35936,\n",
              "           0.36036,     0.36136,     0.36236,     0.36336,     0.36436,     0.36537,     0.36637,     0.36737,     0.36837,     0.36937,     0.37037,     0.37137,     0.37237,     0.37337,     0.37437,     0.37538,     0.37638,     0.37738,     0.37838,     0.37938,     0.38038,     0.38138,     0.38238,     0.38338,\n",
              "           0.38438,     0.38539,     0.38639,     0.38739,     0.38839,     0.38939,     0.39039,     0.39139,     0.39239,     0.39339,     0.39439,      0.3954,      0.3964,      0.3974,      0.3984,      0.3994,      0.4004,      0.4014,      0.4024,      0.4034,      0.4044,     0.40541,     0.40641,     0.40741,\n",
              "           0.40841,     0.40941,     0.41041,     0.41141,     0.41241,     0.41341,     0.41441,     0.41542,     0.41642,     0.41742,     0.41842,     0.41942,     0.42042,     0.42142,     0.42242,     0.42342,     0.42442,     0.42543,     0.42643,     0.42743,     0.42843,     0.42943,     0.43043,     0.43143,\n",
              "           0.43243,     0.43343,     0.43443,     0.43544,     0.43644,     0.43744,     0.43844,     0.43944,     0.44044,     0.44144,     0.44244,     0.44344,     0.44444,     0.44545,     0.44645,     0.44745,     0.44845,     0.44945,     0.45045,     0.45145,     0.45245,     0.45345,     0.45445,     0.45546,\n",
              "           0.45646,     0.45746,     0.45846,     0.45946,     0.46046,     0.46146,     0.46246,     0.46346,     0.46446,     0.46547,     0.46647,     0.46747,     0.46847,     0.46947,     0.47047,     0.47147,     0.47247,     0.47347,     0.47447,     0.47548,     0.47648,     0.47748,     0.47848,     0.47948,\n",
              "           0.48048,     0.48148,     0.48248,     0.48348,     0.48448,     0.48549,     0.48649,     0.48749,     0.48849,     0.48949,     0.49049,     0.49149,     0.49249,     0.49349,     0.49449,      0.4955,      0.4965,      0.4975,      0.4985,      0.4995,      0.5005,      0.5015,      0.5025,      0.5035,\n",
              "            0.5045,     0.50551,     0.50651,     0.50751,     0.50851,     0.50951,     0.51051,     0.51151,     0.51251,     0.51351,     0.51451,     0.51552,     0.51652,     0.51752,     0.51852,     0.51952,     0.52052,     0.52152,     0.52252,     0.52352,     0.52452,     0.52553,     0.52653,     0.52753,\n",
              "           0.52853,     0.52953,     0.53053,     0.53153,     0.53253,     0.53353,     0.53453,     0.53554,     0.53654,     0.53754,     0.53854,     0.53954,     0.54054,     0.54154,     0.54254,     0.54354,     0.54454,     0.54555,     0.54655,     0.54755,     0.54855,     0.54955,     0.55055,     0.55155,\n",
              "           0.55255,     0.55355,     0.55455,     0.55556,     0.55656,     0.55756,     0.55856,     0.55956,     0.56056,     0.56156,     0.56256,     0.56356,     0.56456,     0.56557,     0.56657,     0.56757,     0.56857,     0.56957,     0.57057,     0.57157,     0.57257,     0.57357,     0.57457,     0.57558,\n",
              "           0.57658,     0.57758,     0.57858,     0.57958,     0.58058,     0.58158,     0.58258,     0.58358,     0.58458,     0.58559,     0.58659,     0.58759,     0.58859,     0.58959,     0.59059,     0.59159,     0.59259,     0.59359,     0.59459,      0.5956,      0.5966,      0.5976,      0.5986,      0.5996,\n",
              "            0.6006,      0.6016,      0.6026,      0.6036,      0.6046,     0.60561,     0.60661,     0.60761,     0.60861,     0.60961,     0.61061,     0.61161,     0.61261,     0.61361,     0.61461,     0.61562,     0.61662,     0.61762,     0.61862,     0.61962,     0.62062,     0.62162,     0.62262,     0.62362,\n",
              "           0.62462,     0.62563,     0.62663,     0.62763,     0.62863,     0.62963,     0.63063,     0.63163,     0.63263,     0.63363,     0.63463,     0.63564,     0.63664,     0.63764,     0.63864,     0.63964,     0.64064,     0.64164,     0.64264,     0.64364,     0.64464,     0.64565,     0.64665,     0.64765,\n",
              "           0.64865,     0.64965,     0.65065,     0.65165,     0.65265,     0.65365,     0.65465,     0.65566,     0.65666,     0.65766,     0.65866,     0.65966,     0.66066,     0.66166,     0.66266,     0.66366,     0.66466,     0.66567,     0.66667,     0.66767,     0.66867,     0.66967,     0.67067,     0.67167,\n",
              "           0.67267,     0.67367,     0.67467,     0.67568,     0.67668,     0.67768,     0.67868,     0.67968,     0.68068,     0.68168,     0.68268,     0.68368,     0.68468,     0.68569,     0.68669,     0.68769,     0.68869,     0.68969,     0.69069,     0.69169,     0.69269,     0.69369,     0.69469,      0.6957,\n",
              "            0.6967,      0.6977,      0.6987,      0.6997,      0.7007,      0.7017,      0.7027,      0.7037,      0.7047,     0.70571,     0.70671,     0.70771,     0.70871,     0.70971,     0.71071,     0.71171,     0.71271,     0.71371,     0.71471,     0.71572,     0.71672,     0.71772,     0.71872,     0.71972,\n",
              "           0.72072,     0.72172,     0.72272,     0.72372,     0.72472,     0.72573,     0.72673,     0.72773,     0.72873,     0.72973,     0.73073,     0.73173,     0.73273,     0.73373,     0.73473,     0.73574,     0.73674,     0.73774,     0.73874,     0.73974,     0.74074,     0.74174,     0.74274,     0.74374,\n",
              "           0.74474,     0.74575,     0.74675,     0.74775,     0.74875,     0.74975,     0.75075,     0.75175,     0.75275,     0.75375,     0.75475,     0.75576,     0.75676,     0.75776,     0.75876,     0.75976,     0.76076,     0.76176,     0.76276,     0.76376,     0.76476,     0.76577,     0.76677,     0.76777,\n",
              "           0.76877,     0.76977,     0.77077,     0.77177,     0.77277,     0.77377,     0.77477,     0.77578,     0.77678,     0.77778,     0.77878,     0.77978,     0.78078,     0.78178,     0.78278,     0.78378,     0.78478,     0.78579,     0.78679,     0.78779,     0.78879,     0.78979,     0.79079,     0.79179,\n",
              "           0.79279,     0.79379,     0.79479,      0.7958,      0.7968,      0.7978,      0.7988,      0.7998,      0.8008,      0.8018,      0.8028,      0.8038,      0.8048,     0.80581,     0.80681,     0.80781,     0.80881,     0.80981,     0.81081,     0.81181,     0.81281,     0.81381,     0.81481,     0.81582,\n",
              "           0.81682,     0.81782,     0.81882,     0.81982,     0.82082,     0.82182,     0.82282,     0.82382,     0.82482,     0.82583,     0.82683,     0.82783,     0.82883,     0.82983,     0.83083,     0.83183,     0.83283,     0.83383,     0.83483,     0.83584,     0.83684,     0.83784,     0.83884,     0.83984,\n",
              "           0.84084,     0.84184,     0.84284,     0.84384,     0.84484,     0.84585,     0.84685,     0.84785,     0.84885,     0.84985,     0.85085,     0.85185,     0.85285,     0.85385,     0.85485,     0.85586,     0.85686,     0.85786,     0.85886,     0.85986,     0.86086,     0.86186,     0.86286,     0.86386,\n",
              "           0.86486,     0.86587,     0.86687,     0.86787,     0.86887,     0.86987,     0.87087,     0.87187,     0.87287,     0.87387,     0.87487,     0.87588,     0.87688,     0.87788,     0.87888,     0.87988,     0.88088,     0.88188,     0.88288,     0.88388,     0.88488,     0.88589,     0.88689,     0.88789,\n",
              "           0.88889,     0.88989,     0.89089,     0.89189,     0.89289,     0.89389,     0.89489,      0.8959,      0.8969,      0.8979,      0.8989,      0.8999,      0.9009,      0.9019,      0.9029,      0.9039,      0.9049,     0.90591,     0.90691,     0.90791,     0.90891,     0.90991,     0.91091,     0.91191,\n",
              "           0.91291,     0.91391,     0.91491,     0.91592,     0.91692,     0.91792,     0.91892,     0.91992,     0.92092,     0.92192,     0.92292,     0.92392,     0.92492,     0.92593,     0.92693,     0.92793,     0.92893,     0.92993,     0.93093,     0.93193,     0.93293,     0.93393,     0.93493,     0.93594,\n",
              "           0.93694,     0.93794,     0.93894,     0.93994,     0.94094,     0.94194,     0.94294,     0.94394,     0.94494,     0.94595,     0.94695,     0.94795,     0.94895,     0.94995,     0.95095,     0.95195,     0.95295,     0.95395,     0.95495,     0.95596,     0.95696,     0.95796,     0.95896,     0.95996,\n",
              "           0.96096,     0.96196,     0.96296,     0.96396,     0.96496,     0.96597,     0.96697,     0.96797,     0.96897,     0.96997,     0.97097,     0.97197,     0.97297,     0.97397,     0.97497,     0.97598,     0.97698,     0.97798,     0.97898,     0.97998,     0.98098,     0.98198,     0.98298,     0.98398,\n",
              "           0.98498,     0.98599,     0.98699,     0.98799,     0.98899,     0.98999,     0.99099,     0.99199,     0.99299,     0.99399,     0.99499,       0.996,       0.997,       0.998,       0.999,           1]), array([[   0.065511,    0.065511,    0.088766, ...,           1,           1,           1],\n",
              "       [   0.039453,    0.039453,    0.049132, ...,           1,           1,           1],\n",
              "       [   0.092742,    0.092742,     0.12296, ...,           1,           1,           1]]), 'Confidence', 'Precision'], [array([          0,    0.001001,    0.002002,    0.003003,    0.004004,    0.005005,    0.006006,    0.007007,    0.008008,    0.009009,     0.01001,    0.011011,    0.012012,    0.013013,    0.014014,    0.015015,    0.016016,    0.017017,    0.018018,    0.019019,     0.02002,    0.021021,    0.022022,    0.023023,\n",
              "          0.024024,    0.025025,    0.026026,    0.027027,    0.028028,    0.029029,     0.03003,    0.031031,    0.032032,    0.033033,    0.034034,    0.035035,    0.036036,    0.037037,    0.038038,    0.039039,     0.04004,    0.041041,    0.042042,    0.043043,    0.044044,    0.045045,    0.046046,    0.047047,\n",
              "          0.048048,    0.049049,     0.05005,    0.051051,    0.052052,    0.053053,    0.054054,    0.055055,    0.056056,    0.057057,    0.058058,    0.059059,     0.06006,    0.061061,    0.062062,    0.063063,    0.064064,    0.065065,    0.066066,    0.067067,    0.068068,    0.069069,     0.07007,    0.071071,\n",
              "          0.072072,    0.073073,    0.074074,    0.075075,    0.076076,    0.077077,    0.078078,    0.079079,     0.08008,    0.081081,    0.082082,    0.083083,    0.084084,    0.085085,    0.086086,    0.087087,    0.088088,    0.089089,     0.09009,    0.091091,    0.092092,    0.093093,    0.094094,    0.095095,\n",
              "          0.096096,    0.097097,    0.098098,    0.099099,      0.1001,      0.1011,      0.1021,      0.1031,      0.1041,     0.10511,     0.10611,     0.10711,     0.10811,     0.10911,     0.11011,     0.11111,     0.11211,     0.11311,     0.11411,     0.11512,     0.11612,     0.11712,     0.11812,     0.11912,\n",
              "           0.12012,     0.12112,     0.12212,     0.12312,     0.12412,     0.12513,     0.12613,     0.12713,     0.12813,     0.12913,     0.13013,     0.13113,     0.13213,     0.13313,     0.13413,     0.13514,     0.13614,     0.13714,     0.13814,     0.13914,     0.14014,     0.14114,     0.14214,     0.14314,\n",
              "           0.14414,     0.14515,     0.14615,     0.14715,     0.14815,     0.14915,     0.15015,     0.15115,     0.15215,     0.15315,     0.15415,     0.15516,     0.15616,     0.15716,     0.15816,     0.15916,     0.16016,     0.16116,     0.16216,     0.16316,     0.16416,     0.16517,     0.16617,     0.16717,\n",
              "           0.16817,     0.16917,     0.17017,     0.17117,     0.17217,     0.17317,     0.17417,     0.17518,     0.17618,     0.17718,     0.17818,     0.17918,     0.18018,     0.18118,     0.18218,     0.18318,     0.18418,     0.18519,     0.18619,     0.18719,     0.18819,     0.18919,     0.19019,     0.19119,\n",
              "           0.19219,     0.19319,     0.19419,      0.1952,      0.1962,      0.1972,      0.1982,      0.1992,      0.2002,      0.2012,      0.2022,      0.2032,      0.2042,     0.20521,     0.20621,     0.20721,     0.20821,     0.20921,     0.21021,     0.21121,     0.21221,     0.21321,     0.21421,     0.21522,\n",
              "           0.21622,     0.21722,     0.21822,     0.21922,     0.22022,     0.22122,     0.22222,     0.22322,     0.22422,     0.22523,     0.22623,     0.22723,     0.22823,     0.22923,     0.23023,     0.23123,     0.23223,     0.23323,     0.23423,     0.23524,     0.23624,     0.23724,     0.23824,     0.23924,\n",
              "           0.24024,     0.24124,     0.24224,     0.24324,     0.24424,     0.24525,     0.24625,     0.24725,     0.24825,     0.24925,     0.25025,     0.25125,     0.25225,     0.25325,     0.25425,     0.25526,     0.25626,     0.25726,     0.25826,     0.25926,     0.26026,     0.26126,     0.26226,     0.26326,\n",
              "           0.26426,     0.26527,     0.26627,     0.26727,     0.26827,     0.26927,     0.27027,     0.27127,     0.27227,     0.27327,     0.27427,     0.27528,     0.27628,     0.27728,     0.27828,     0.27928,     0.28028,     0.28128,     0.28228,     0.28328,     0.28428,     0.28529,     0.28629,     0.28729,\n",
              "           0.28829,     0.28929,     0.29029,     0.29129,     0.29229,     0.29329,     0.29429,      0.2953,      0.2963,      0.2973,      0.2983,      0.2993,      0.3003,      0.3013,      0.3023,      0.3033,      0.3043,     0.30531,     0.30631,     0.30731,     0.30831,     0.30931,     0.31031,     0.31131,\n",
              "           0.31231,     0.31331,     0.31431,     0.31532,     0.31632,     0.31732,     0.31832,     0.31932,     0.32032,     0.32132,     0.32232,     0.32332,     0.32432,     0.32533,     0.32633,     0.32733,     0.32833,     0.32933,     0.33033,     0.33133,     0.33233,     0.33333,     0.33433,     0.33534,\n",
              "           0.33634,     0.33734,     0.33834,     0.33934,     0.34034,     0.34134,     0.34234,     0.34334,     0.34434,     0.34535,     0.34635,     0.34735,     0.34835,     0.34935,     0.35035,     0.35135,     0.35235,     0.35335,     0.35435,     0.35536,     0.35636,     0.35736,     0.35836,     0.35936,\n",
              "           0.36036,     0.36136,     0.36236,     0.36336,     0.36436,     0.36537,     0.36637,     0.36737,     0.36837,     0.36937,     0.37037,     0.37137,     0.37237,     0.37337,     0.37437,     0.37538,     0.37638,     0.37738,     0.37838,     0.37938,     0.38038,     0.38138,     0.38238,     0.38338,\n",
              "           0.38438,     0.38539,     0.38639,     0.38739,     0.38839,     0.38939,     0.39039,     0.39139,     0.39239,     0.39339,     0.39439,      0.3954,      0.3964,      0.3974,      0.3984,      0.3994,      0.4004,      0.4014,      0.4024,      0.4034,      0.4044,     0.40541,     0.40641,     0.40741,\n",
              "           0.40841,     0.40941,     0.41041,     0.41141,     0.41241,     0.41341,     0.41441,     0.41542,     0.41642,     0.41742,     0.41842,     0.41942,     0.42042,     0.42142,     0.42242,     0.42342,     0.42442,     0.42543,     0.42643,     0.42743,     0.42843,     0.42943,     0.43043,     0.43143,\n",
              "           0.43243,     0.43343,     0.43443,     0.43544,     0.43644,     0.43744,     0.43844,     0.43944,     0.44044,     0.44144,     0.44244,     0.44344,     0.44444,     0.44545,     0.44645,     0.44745,     0.44845,     0.44945,     0.45045,     0.45145,     0.45245,     0.45345,     0.45445,     0.45546,\n",
              "           0.45646,     0.45746,     0.45846,     0.45946,     0.46046,     0.46146,     0.46246,     0.46346,     0.46446,     0.46547,     0.46647,     0.46747,     0.46847,     0.46947,     0.47047,     0.47147,     0.47247,     0.47347,     0.47447,     0.47548,     0.47648,     0.47748,     0.47848,     0.47948,\n",
              "           0.48048,     0.48148,     0.48248,     0.48348,     0.48448,     0.48549,     0.48649,     0.48749,     0.48849,     0.48949,     0.49049,     0.49149,     0.49249,     0.49349,     0.49449,      0.4955,      0.4965,      0.4975,      0.4985,      0.4995,      0.5005,      0.5015,      0.5025,      0.5035,\n",
              "            0.5045,     0.50551,     0.50651,     0.50751,     0.50851,     0.50951,     0.51051,     0.51151,     0.51251,     0.51351,     0.51451,     0.51552,     0.51652,     0.51752,     0.51852,     0.51952,     0.52052,     0.52152,     0.52252,     0.52352,     0.52452,     0.52553,     0.52653,     0.52753,\n",
              "           0.52853,     0.52953,     0.53053,     0.53153,     0.53253,     0.53353,     0.53453,     0.53554,     0.53654,     0.53754,     0.53854,     0.53954,     0.54054,     0.54154,     0.54254,     0.54354,     0.54454,     0.54555,     0.54655,     0.54755,     0.54855,     0.54955,     0.55055,     0.55155,\n",
              "           0.55255,     0.55355,     0.55455,     0.55556,     0.55656,     0.55756,     0.55856,     0.55956,     0.56056,     0.56156,     0.56256,     0.56356,     0.56456,     0.56557,     0.56657,     0.56757,     0.56857,     0.56957,     0.57057,     0.57157,     0.57257,     0.57357,     0.57457,     0.57558,\n",
              "           0.57658,     0.57758,     0.57858,     0.57958,     0.58058,     0.58158,     0.58258,     0.58358,     0.58458,     0.58559,     0.58659,     0.58759,     0.58859,     0.58959,     0.59059,     0.59159,     0.59259,     0.59359,     0.59459,      0.5956,      0.5966,      0.5976,      0.5986,      0.5996,\n",
              "            0.6006,      0.6016,      0.6026,      0.6036,      0.6046,     0.60561,     0.60661,     0.60761,     0.60861,     0.60961,     0.61061,     0.61161,     0.61261,     0.61361,     0.61461,     0.61562,     0.61662,     0.61762,     0.61862,     0.61962,     0.62062,     0.62162,     0.62262,     0.62362,\n",
              "           0.62462,     0.62563,     0.62663,     0.62763,     0.62863,     0.62963,     0.63063,     0.63163,     0.63263,     0.63363,     0.63463,     0.63564,     0.63664,     0.63764,     0.63864,     0.63964,     0.64064,     0.64164,     0.64264,     0.64364,     0.64464,     0.64565,     0.64665,     0.64765,\n",
              "           0.64865,     0.64965,     0.65065,     0.65165,     0.65265,     0.65365,     0.65465,     0.65566,     0.65666,     0.65766,     0.65866,     0.65966,     0.66066,     0.66166,     0.66266,     0.66366,     0.66466,     0.66567,     0.66667,     0.66767,     0.66867,     0.66967,     0.67067,     0.67167,\n",
              "           0.67267,     0.67367,     0.67467,     0.67568,     0.67668,     0.67768,     0.67868,     0.67968,     0.68068,     0.68168,     0.68268,     0.68368,     0.68468,     0.68569,     0.68669,     0.68769,     0.68869,     0.68969,     0.69069,     0.69169,     0.69269,     0.69369,     0.69469,      0.6957,\n",
              "            0.6967,      0.6977,      0.6987,      0.6997,      0.7007,      0.7017,      0.7027,      0.7037,      0.7047,     0.70571,     0.70671,     0.70771,     0.70871,     0.70971,     0.71071,     0.71171,     0.71271,     0.71371,     0.71471,     0.71572,     0.71672,     0.71772,     0.71872,     0.71972,\n",
              "           0.72072,     0.72172,     0.72272,     0.72372,     0.72472,     0.72573,     0.72673,     0.72773,     0.72873,     0.72973,     0.73073,     0.73173,     0.73273,     0.73373,     0.73473,     0.73574,     0.73674,     0.73774,     0.73874,     0.73974,     0.74074,     0.74174,     0.74274,     0.74374,\n",
              "           0.74474,     0.74575,     0.74675,     0.74775,     0.74875,     0.74975,     0.75075,     0.75175,     0.75275,     0.75375,     0.75475,     0.75576,     0.75676,     0.75776,     0.75876,     0.75976,     0.76076,     0.76176,     0.76276,     0.76376,     0.76476,     0.76577,     0.76677,     0.76777,\n",
              "           0.76877,     0.76977,     0.77077,     0.77177,     0.77277,     0.77377,     0.77477,     0.77578,     0.77678,     0.77778,     0.77878,     0.77978,     0.78078,     0.78178,     0.78278,     0.78378,     0.78478,     0.78579,     0.78679,     0.78779,     0.78879,     0.78979,     0.79079,     0.79179,\n",
              "           0.79279,     0.79379,     0.79479,      0.7958,      0.7968,      0.7978,      0.7988,      0.7998,      0.8008,      0.8018,      0.8028,      0.8038,      0.8048,     0.80581,     0.80681,     0.80781,     0.80881,     0.80981,     0.81081,     0.81181,     0.81281,     0.81381,     0.81481,     0.81582,\n",
              "           0.81682,     0.81782,     0.81882,     0.81982,     0.82082,     0.82182,     0.82282,     0.82382,     0.82482,     0.82583,     0.82683,     0.82783,     0.82883,     0.82983,     0.83083,     0.83183,     0.83283,     0.83383,     0.83483,     0.83584,     0.83684,     0.83784,     0.83884,     0.83984,\n",
              "           0.84084,     0.84184,     0.84284,     0.84384,     0.84484,     0.84585,     0.84685,     0.84785,     0.84885,     0.84985,     0.85085,     0.85185,     0.85285,     0.85385,     0.85485,     0.85586,     0.85686,     0.85786,     0.85886,     0.85986,     0.86086,     0.86186,     0.86286,     0.86386,\n",
              "           0.86486,     0.86587,     0.86687,     0.86787,     0.86887,     0.86987,     0.87087,     0.87187,     0.87287,     0.87387,     0.87487,     0.87588,     0.87688,     0.87788,     0.87888,     0.87988,     0.88088,     0.88188,     0.88288,     0.88388,     0.88488,     0.88589,     0.88689,     0.88789,\n",
              "           0.88889,     0.88989,     0.89089,     0.89189,     0.89289,     0.89389,     0.89489,      0.8959,      0.8969,      0.8979,      0.8989,      0.8999,      0.9009,      0.9019,      0.9029,      0.9039,      0.9049,     0.90591,     0.90691,     0.90791,     0.90891,     0.90991,     0.91091,     0.91191,\n",
              "           0.91291,     0.91391,     0.91491,     0.91592,     0.91692,     0.91792,     0.91892,     0.91992,     0.92092,     0.92192,     0.92292,     0.92392,     0.92492,     0.92593,     0.92693,     0.92793,     0.92893,     0.92993,     0.93093,     0.93193,     0.93293,     0.93393,     0.93493,     0.93594,\n",
              "           0.93694,     0.93794,     0.93894,     0.93994,     0.94094,     0.94194,     0.94294,     0.94394,     0.94494,     0.94595,     0.94695,     0.94795,     0.94895,     0.94995,     0.95095,     0.95195,     0.95295,     0.95395,     0.95495,     0.95596,     0.95696,     0.95796,     0.95896,     0.95996,\n",
              "           0.96096,     0.96196,     0.96296,     0.96396,     0.96496,     0.96597,     0.96697,     0.96797,     0.96897,     0.96997,     0.97097,     0.97197,     0.97297,     0.97397,     0.97497,     0.97598,     0.97698,     0.97798,     0.97898,     0.97998,     0.98098,     0.98198,     0.98298,     0.98398,\n",
              "           0.98498,     0.98599,     0.98699,     0.98799,     0.98899,     0.98999,     0.99099,     0.99199,     0.99299,     0.99399,     0.99499,       0.996,       0.997,       0.998,       0.999,           1]), array([[    0.90265,     0.90265,     0.90265, ...,           0,           0,           0],\n",
              "       [    0.84106,     0.84106,     0.80795, ...,           0,           0,           0],\n",
              "       [       0.92,        0.92,        0.92, ...,           0,           0,           0]]), 'Confidence', 'Recall']]\n",
              "fitness: np.float64(0.3725977647351557)\n",
              "keys: ['metrics/precision(B)', 'metrics/recall(B)', 'metrics/mAP50(B)', 'metrics/mAP50-95(B)']\n",
              "maps: array([    0.33076,     0.22971,     0.44095])\n",
              "names: {0: 'Flower', 1: 'Green', 2: 'Ripe'}\n",
              "plot: True\n",
              "results_dict: {'metrics/precision(B)': np.float64(0.8016370162472851), 'metrics/recall(B)': np.float64(0.6350465920412589), 'metrics/mAP50(B)': np.float64(0.721713434898974), 'metrics/mAP50-95(B)': np.float64(0.33380713471695367), 'fitness': np.float64(0.3725977647351557)}\n",
              "save_dir: PosixPath('runs/detect/train')\n",
              "speed: {'preprocess': 0.1321439629620087, 'inference': 0.8328336296312112, 'loss': 0.00036205555623517415, 'postprocess': 1.5534040740737542}\n",
              "task: 'detect'"
            ]
          },
          "metadata": {},
          "execution_count": 4
        }
      ]
    },
    {
      "cell_type": "code",
      "source": [
        "!cp /content/runs/detect/train/weights/best.pt /content/best.pt"
      ],
      "metadata": {
        "id": "M4RSKpCm65Js"
      },
      "execution_count": 5,
      "outputs": []
    },
    {
      "cell_type": "code",
      "source": [
        "#TEST\n",
        "model = YOLO('/content/best.pt')\n",
        "results = model('/content/v8_test_3.jpeg', conf=0.009)\n",
        "results[0].show()\n"
      ],
      "metadata": {
        "colab": {
          "base_uri": "https://localhost:8080/",
          "height": 237
        },
        "id": "0z4AWarx7ATc",
        "outputId": "b040e034-377c-44c0-ef1d-67495169f728"
      },
      "execution_count": 13,
      "outputs": [
        {
          "output_type": "stream",
          "name": "stdout",
          "text": [
            "\n",
            "image 1/1 /content/v8_test_3.jpeg: 384x640 12 Greens, 32 Ripes, 8.0ms\n",
            "Speed: 1.6ms preprocess, 8.0ms inference, 1.7ms postprocess per image at shape (1, 3, 384, 640)\n"
          ]
        },
        {
          "output_type": "display_data",
          "data": {
            "text/plain": [
              "<PIL.Image.Image image mode=RGB size=300x168>"
            ],
            "image/png": "[encoded data removed]",
            "image/jpeg": "[encoded data removed]"
          },
          "metadata": {}
        }
      ]
    }
  ]
}